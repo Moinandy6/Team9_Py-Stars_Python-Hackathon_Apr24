{
 "cells": [
  {
   "cell_type": "code",
   "execution_count": 30,
   "id": "42f2e4d7",
   "metadata": {},
   "outputs": [],
   "source": [
    "import pandas as pd\n",
    "import numpy as np"
   ]
  },
  {
   "cell_type": "code",
   "execution_count": null,
   "id": "e649c4b6",
   "metadata": {
    "scrolled": true
   },
   "outputs": [],
   "source": [
    "df_Hospitalization_Discharge = pd.read_excel(\"Cardiac_Outcomes.xlsx\",\"Hospitalization_Discharge\")\n",
    "df_Demography=pd.read_excel(\"Cardiac_Outcomes.xlsx\",\"Demography\")\n",
    "df_Patient_Precriptions=pd.read_excel(\"Cardiac_Outcomes.xlsx\",\"Patient_Precriptions\")\n",
    "df_CardiacComplications=pd.read_excel(\"Cardiac_Outcomes.xlsx\",\"CardiacComplications\")\n",
    "df_Labs=pd.read_excel(\"Cardiac_Outcomes.xlsx\",\"Labs\")\n",
    "df_Responsivenes=pd.read_excel(\"Cardiac_Outcomes.xlsx\",\"Responsivenes\")"
   ]
  },
  {
   "cell_type": "markdown",
   "id": "1392eee3",
   "metadata": {},
   "source": [
    "# Q1.How many patients were registered in each unique occupation?"
   ]
  },
  {
   "cell_type": "code",
   "execution_count": null,
   "id": "ff89c93e",
   "metadata": {},
   "outputs": [],
   "source": [
    "import pandas as pd\n",
    "df_Demography=pd.read_excel(\"Cardiac_Outcomes.xlsx\",\"Demography\")\n",
    "df_Demography=df_Demography['occupation'].value_counts().to_frame('count')\n",
    "df_Demography"
   ]
  },
  {
   "cell_type": "markdown",
   "id": "f8d24633",
   "metadata": {},
   "source": [
    "# Q2.Divide GCS scores into slabs of 5 and count the number of patients under each band of score. Show this as any graph of your choice"
   ]
  },
  {
   "cell_type": "code",
   "execution_count": null,
   "id": "2ad051ef",
   "metadata": {},
   "outputs": [],
   "source": [
    "df_GCS=pd.read_excel(\"Cardiac_Outcomes.xlsx\",\"Responsivenes\",usecols=\"A,F\")\n",
    "df_GCS\n",
    "#creating bands for less tahn 5, 5-10 and 10-15\n",
    "df_GCS=df_GCS.mask((df_GCS['GCS']<=5) & (df_GCS['GCS']>0),5)\n",
    "df_GCS=df_GCS.mask((df_GCS['GCS']<=10) & (df_GCS['GCS']>5),10)\n",
    "df_GCS=df_GCS.mask((df_GCS['GCS']<=15) & (df_GCS['GCS']>10),15)\n",
    "\n",
    "df_GCS\n",
    "# grouping the no of patients in each band\n",
    "\n",
    "x=df_GCS.groupby('GCS').size().to_dict()\n",
    "#assigning the dictionary with no of patients in each band\n",
    "x\n",
    "print(type(x))\n",
    "#plt.pie('no_of_patients',labels='GCS')\n",
    "plt.pie(x.values(), labels=x.keys(),\n",
    "        startangle=90, autopct='%.1f%%', colors=plt.cm.Set2.colors)\n",
    "\n",
    "\n",
    "plt.show()"
   ]
  },
  {
   "cell_type": "markdown",
   "id": "7252094d",
   "metadata": {},
   "source": [
    "# Q3.Add a calculated column called Discharge date into the Hospitalization_Discharge using the information already available to you"
   ]
  },
  {
   "cell_type": "code",
   "execution_count": null,
   "id": "77bc6a2a",
   "metadata": {},
   "outputs": [],
   "source": [
    "df_discharge=pd.read_excel(\"Cardiac_Outcomes.xlsx\",\"Hospitalization_Discharge\")\n",
    "df_discharge=df_discharge.assign(Discharge_date=pd.to_datetime(df_discharge['Admission_date']) + pd.to_timedelta(df_discharge['dischargeDay'],'d'))\n",
    "df_discharge"
   ]
  },
  {
   "cell_type": "markdown",
   "id": "a01e2147",
   "metadata": {},
   "source": [
    "# Q4.What percentage of patients had Biventricular heart failure?"
   ]
  },
  {
   "cell_type": "code",
   "execution_count": null,
   "id": "6130d9bd",
   "metadata": {},
   "outputs": [],
   "source": [
    "import pandas as pd\n",
    "df_Cardiac=pd.read_excel(\"Cardiac_Outcomes.xlsx\",\"CardiacComplications\")\n",
    "df_Cardiac\n",
    "df_Cardiac['type_of_heart_failure'].value_counts()*100\n",
    "(df_Cardiac['type_of_heart_failure'].value_counts()/df_Cardiac['type_of_heart_failure'].count())*100"
   ]
  },
  {
   "cell_type": "code",
   "execution_count": null,
   "id": "f9e6e927",
   "metadata": {},
   "outputs": [],
   "source": [
    "df_Cardiac.groupby('type_of_heart_failure').get_group('Both')"
   ]
  },
  {
   "cell_type": "markdown",
   "id": "a58dffed",
   "metadata": {},
   "source": [
    "# 5.What is the ratio of patients who were responsive to pain vs responsive to sound?"
   ]
  },
  {
   "cell_type": "code",
   "execution_count": null,
   "id": "5bff5ab4",
   "metadata": {},
   "outputs": [],
   "source": [
    "df_responsiveness=pd.read_excel(\"Cardiac_Outcomes.xlsx\",\"Responsivenes\")\n",
    "df_responsiveness"
   ]
  },
  {
   "cell_type": "code",
   "execution_count": null,
   "id": "517c8827",
   "metadata": {},
   "outputs": [],
   "source": [
    "x=df_responsiveness['consciousness'].value_counts()\n",
    "x"
   ]
  },
  {
   "cell_type": "code",
   "execution_count": null,
   "id": "837e03fc",
   "metadata": {},
   "outputs": [],
   "source": [
    "print(\"The ratio of patients who were responsive to pain vs responsive to sound\", x.iloc[3], \":\", x.iloc[1])"
   ]
  },
  {
   "cell_type": "markdown",
   "id": "2c02b02a",
   "metadata": {},
   "source": [
    "# Q6.What was the average age group of the patients that had an outcome of 'Alive'?"
   ]
  },
  {
   "cell_type": "code",
   "execution_count": null,
   "id": "e0c60ae4",
   "metadata": {
    "scrolled": true
   },
   "outputs": [],
   "source": [
    "import pandas as pd\n",
    "import numpy as np\n",
    "xls = pd.ExcelFile('Cardiac_Outcomes.xlsx')\n",
    "df1 = pd.read_excel(xls, 'Hospitalization_Discharge')\n",
    "df2 = pd.read_excel(xls, 'Demography')\n",
    "df_merged = pd.concat([df1, df2], axis=1)\n",
    "df_merged\n",
    "df_merged.groupby('outcome_during_hospitalization').get_group('Alive')\n",
    "#Avg_age = df_merged['ageCat'].mean()"
   ]
  },
  {
   "cell_type": "markdown",
   "id": "37a7ef8a",
   "metadata": {},
   "source": [
    "# Q7.Visualize missing data and missing patterns from Demography table using the \"MissingNo\" Library."
   ]
  },
  {
   "cell_type": "code",
   "execution_count": null,
   "id": "fbbb2e68",
   "metadata": {},
   "outputs": [],
   "source": [
    "pip install missingno"
   ]
  },
  {
   "cell_type": "code",
   "execution_count": null,
   "id": "3e8c917a",
   "metadata": {},
   "outputs": [],
   "source": [
    "\n",
    "import missingno as msno \n",
    "  \n",
    "# Loading the dataset \n",
    "df_missing=pd.read_excel(\"Cardiac_Outcomes.xlsx\",\"Demography\")\n",
    "# Visualize the number of missing \n",
    "# values as a bar chart \n",
    "msno.bar(df_missing) \n",
    "#msno.heatmap(df_missing)"
   ]
  },
  {
   "cell_type": "markdown",
   "id": "6dd30efa",
   "metadata": {},
   "source": [
    "Q8.Create a Waffle chart to show what percentage of total deaths belong to each admission_ward?"
   ]
  },
  {
   "cell_type": "code",
   "execution_count": null,
   "id": "94cb36c8",
   "metadata": {},
   "outputs": [],
   "source": [
    "pip install pywaffle"
   ]
  },
  {
   "cell_type": "code",
   "execution_count": null,
   "id": "6a89eba5",
   "metadata": {},
   "outputs": [],
   "source": [
    "import pandas as pd \n",
    "import matplotlib.pyplot as plt \n",
    "from pywaffle import Waffle \n",
    "\n",
    "df_waffle=pd.read_excel(\"Cardiac_Outcomes.xlsx\",\"Hospitalization_Discharge\",usecols=\"C,K\")\n",
    "df_waffle\n",
    "df_waffle.groupby('admission_ward').count()\n",
    "data ={'admission_ward': ['Cardiology', 'GeneralWard', \n",
    "                 'ICU', 'Others'], \n",
    "      'no_of_deaths': [1547, 265, 15, 181] \n",
    "     } \n",
    "  \n",
    "df = pd.DataFrame(data) \n",
    "#To plot the waffle Chart \n",
    "fig = plt.figure( \n",
    "      FigureClass = Waffle, \n",
    "       rows = 25, \n",
    "       values = df.no_of_deaths, \n",
    "       labels = list(df.admission_ward),\n",
    "       icons='child'\n",
    ")"
   ]
  },
  {
   "cell_type": "markdown",
   "id": "b90f1fc6",
   "metadata": {},
   "source": [
    "# Q9.Create any 2 2-D arrays and perform matrix multiplication. Display the resulting array."
   ]
  },
  {
   "cell_type": "code",
   "execution_count": null,
   "id": "a1f1bbb4",
   "metadata": {},
   "outputs": [],
   "source": [
    "#creating 2-D array\n",
    "A = np.array([[1, 2, 3], [4, 5, 6]])\n",
    "print(A)"
   ]
  },
  {
   "cell_type": "code",
   "execution_count": null,
   "id": "055a4c5f",
   "metadata": {},
   "outputs": [],
   "source": [
    "B= np.array([[3, 4, 5], [9, 10, 11],[2,3,4]])\n",
    "print(B)"
   ]
  },
  {
   "cell_type": "code",
   "execution_count": null,
   "id": "fa44bdf4",
   "metadata": {},
   "outputs": [],
   "source": [
    "res=np.dot(A,B)\n",
    "res"
   ]
  },
  {
   "cell_type": "markdown",
   "id": "63924dc0",
   "metadata": {},
   "source": [
    "Q10. Display the percentage of missing values in each column in the table labs. Show the distribution as a bar graph"
   ]
  },
  {
   "cell_type": "code",
   "execution_count": null,
   "id": "7bbe61d7",
   "metadata": {},
   "outputs": [],
   "source": [
    "import pandas as pd\n",
    "df_Labs=pd.read_excel(\"Cardiac_Outcomes.xlsx\",\"Labs\")\n",
    "df_Labs"
   ]
  },
  {
   "cell_type": "code",
   "execution_count": null,
   "id": "e9f60b9d",
   "metadata": {},
   "outputs": [],
   "source": [
    "df1_1=(df_Labs.isnull().sum(axis = 0)/2008)*100\n",
    "#data frame showing the percentage of missing values in each column of the sheet Labs\n",
    "df1_1"
   ]
  },
  {
   "cell_type": "code",
   "execution_count": null,
   "id": "85f194e2",
   "metadata": {},
   "outputs": [],
   "source": [
    "import matplotlib.pyplot as plt\n",
    "import pandas as pd \n",
    "import missingno as msno \n",
    "# Loading the dataset \n",
    "df_Labs=pd.read_excel(\"Cardiac_Outcomes.xlsx\",\"Labs\")  \n",
    "msno.bar(df_Labs) "
   ]
  },
  {
   "cell_type": "markdown",
   "id": "28be2d50",
   "metadata": {},
   "source": [
    "# Q11.A valid mobile number is a ten digit number starting with a 7,8 or 9. For every string listed, print \"YES\" if it is a valid mobile number and \"NO\" if it is not on separate lines. Do not print the quotes."
   ]
  },
  {
   "cell_type": "code",
   "execution_count": null,
   "id": "3f1aa290",
   "metadata": {},
   "outputs": [],
   "source": [
    "df_mob=df = pd.DataFrame({\n",
    "    'mobile number': [2,9587456281,1252478965,7397260044],\n",
    "    'Valid or not': ['No', 'Yes', 'No', 'Yes']})\n",
    "df_mob"
   ]
  },
  {
   "cell_type": "markdown",
   "id": "5743c5e4",
   "metadata": {},
   "source": [
    "# Q12.If left ventricular end diastolic diameter has a normal range: 3.5 - 5.6 cm, how many patients fall outside that limit and what is the MAP of most patients with this condition?"
   ]
  },
  {
   "cell_type": "code",
   "execution_count": null,
   "id": "b6c37aec",
   "metadata": {},
   "outputs": [],
   "source": [
    "df_map=pd.read_excel(\"Cardiac_Outcomes.xlsx\",\"Labs\",usecols=\"A,G\")\n",
    "df_map\n",
    "df_LV=pd.read_excel(\"Cardiac_Outcomes.xlsx\",\"CardiacComplications\",usecols=\"I\")\n",
    "df_LV\n",
    "df_MapLV = pd.concat([df_map, df_LV], axis=1)\n",
    "df_MapLV\n",
    "df_MapLV = df_MapLV.dropna(how='any',axis=0) \n",
    "df_MapLV\n",
    "newdf = df_MapLV.where(df_MapLV[\"left_ventricular_end_diastolic_diameter_LV\"] < 3.5)\n",
    "newdf\n",
    "newdf = df_MapLV.where(df_MapLV[\"left_ventricular_end_diastolic_diameter_LV\"] > 5.6)\n",
    "newdf\n",
    "print(\"The no of patients whose left_ventricular_end_diastolic_diameter_LV is outside the normalrange is\", len(newdf.index))"
   ]
  },
  {
   "cell_type": "markdown",
   "id": "01650b3c",
   "metadata": {},
   "source": [
    "# Q13.Create a bar chart between lengthofstay and body temperature, classified as: Hypothermia, within range or hyperthermia"
   ]
  },
  {
   "cell_type": "code",
   "execution_count": null,
   "id": "a5caeff5",
   "metadata": {},
   "outputs": [],
   "source": [
    "df_lengthofstay=pd.read_excel(\"Cardiac_Outcomes.xlsx\",\"Hospitalization_Discharge\",usecols=\"I\")\n",
    "df_lengthofstay\n",
    "df_bodytemperature=pd.read_excel(\"Cardiac_Outcomes.xlsx\",\"Labs\",usecols=\"B\")\n",
    "df_bodytemperature\n",
    "df_merged1 = pd.concat([df_lengthofstay, df_bodytemperature], axis=1)\n",
    "df_merged1 = pd.concat([df_lengthofstay, df_bodytemperature], axis=1)\n",
    "df_merged1\n",
    "df_merged1['category'] = 'Normal'\n",
    "df_merged1\n",
    "\n",
    "\n",
    "df_merged1['body_temperature']=df_merged1['body_temperature'].astype(str)\n",
    "\n",
    "df_merged1.loc[df_merged1['body_temperature']<\"35\" ,['category']]='Hypothermia'\n",
    "df_merged1.loc[df_merged1['body_temperature']>=\"41\" ,['category']]='Hyperthermia'\n",
    "df_merged1\n",
    "import matplotlib.pyplot as plt\n",
    "#df_merged1.plot.bar()\n",
    "df2 = df_merged1.groupby(['dischargeDay', 'category'])['dischargeDay'].count().unstack('category').fillna(0)\n",
    "df2\n",
    "df2[['Normal', 'Hyperthermia']].plot(kind='bar', stacked=True)# hypothermia where body temperature is less than 35 is not prresent in dataset\n",
    "plt.title(\"Bar chart with length of stay and body temperature\")\n",
    "plt.show()"
   ]
  },
  {
   "cell_type": "markdown",
   "id": "dd755495",
   "metadata": {},
   "source": [
    "# Q14.Find the list of patients whose DischargeDay is greater than the value given by the user"
   ]
  },
  {
   "cell_type": "code",
   "execution_count": null,
   "id": "8b642366",
   "metadata": {},
   "outputs": [],
   "source": [
    "val = int(input(\"Enter your value: \") )\n",
    "print(val)"
   ]
  },
  {
   "cell_type": "code",
   "execution_count": null,
   "id": "0fcd82f4",
   "metadata": {},
   "outputs": [],
   "source": [
    "import pandas as pd\n",
    "df_dischargeday=pd.read_excel(\"Cardiac_Outcomes.xlsx\",\"Hospitalization_Discharge\",usecols=\"I,A\")\n",
    "df_dischargeday"
   ]
  },
  {
   "cell_type": "markdown",
   "id": "1c4cd873-508c-452c-8193-b24aac55a45f",
   "metadata": {},
   "source": [
    "# Q15.Display a pie chart of number of patients in each category listed"
   ]
  },
  {
   "cell_type": "code",
   "execution_count": null,
   "id": "4f1e8a28-ee58-4783-b69e-a40f6ac7f609",
   "metadata": {},
   "outputs": [],
   "source": [
    "df_pie=pd.read_excel(\"Cardiac_Outcomes.xlsx\",\"Hospitalization_Discharge\",usecols=\"L,M,N,O,P,Q,T\")\n",
    "df_pie\n",
    "death_within_28_days_count = df_pie.death_within_28_days.sum()\n",
    "re_admission_within_28_days_count=df_pie.re_admission_within_28_days.sum()\n",
    "death_within_3_months_count=df_pie.death_within_3_months.sum()\n",
    "re_admission_within_3_months=df_pie.re_admission_within_3_months.sum()\n",
    "death_within_6_months=df_pie.death_within_6_months.sum()\n",
    "re_admission_within_6_months=df_pie.re_admission_within_6_months.sum()\n",
    "return_to_emergency_department_within_6_months=df_pie.return_to_emergency_department_within_6_months.sum()\n",
    "df_no_ofpatients=pd.DataFrame({'Category': ['death_within_28_days_count', 're_admission_within_28_days_count', 'death_within_3_months_count', \n",
    "                                   're_admission_within_3_months', 'death_within_6_months','re_admission_within_6_months','return_to_emergency_department_within_6_months' ], \n",
    "                          'no_of_patients': [death_within_28_days_count,re_admission_within_28_days_count,death_within_3_months_count,re_admission_within_3_months,death_within_6_months,re_admission_within_6_months,return_to_emergency_department_within_6_months]}) \n",
    "  \n",
    "# Plotting the pie chart for above dataframe \n",
    "df_no_ofpatients.groupby(['Category']).sum().plot(kind='pie', y='no_of_patients')"
   ]
  },
  {
   "cell_type": "markdown",
   "id": "92764b55-7633-45d8-9273-9a3bf9a23ae6",
   "metadata": {},
   "source": [
    "Q16.Create a pivot table with myocardial_infarction, congestive_heart_failure,peripheral_vascular_disease as rows and average Uric Acid and BMI as columns, using melt functions"
   ]
  },
  {
   "cell_type": "code",
   "execution_count": null,
   "id": "bdb44fc0-8a08-4703-8a33-9d57931b702e",
   "metadata": {},
   "outputs": [],
   "source": [
    "df_rows=pd.read_excel(\"Cardiac_Outcomes.xlsx\",\"CardiacComplications\",usecols=\"D,E,F\")\n",
    "df_cols1=pd.read_excel(\"Cardiac_Outcomes.xlsx\",\"Labs\",usecols=\"K\")\n",
    "df_cols2=pd.read_excel(\"Cardiac_Outcomes.xlsx\",\"Demography\",usecols=\"E\")\n",
    "df_pivot = pd.concat([df_rows, df_cols1,df_cols2], axis=\"columns\")\n",
    "df_pivot\n",
    "#"
   ]
  },
  {
   "cell_type": "code",
   "execution_count": null,
   "id": "45c8b304-ac35-4fc4-8047-48d2d6a230c6",
   "metadata": {},
   "outputs": [],
   "source": [
    "H_df = pd.read_excel('Cardiac_Outcomes.xlsx',\"Hospitalization_Discharge\")\n",
    "p_df = pd.read_excel('Cardiac_Outcomes.xlsx',\"Patient_Precriptions\")\n",
    "cardiac_df=pd.read_excel('Cardiac_Outcomes.xlsx',\"CardiacComplications\")\n",
    "Res_df=pd.read_excel('Cardiac_Outcomes.xlsx',\"Responsivenes\")\n",
    "patient_df=pd.read_excel('Cardiac_Outcomes.xlsx',\"PatientHistory\")\n",
    "labs_df=pd.read_excel('Cardiac_Outcomes.xlsx',\"Labs\")\n",
    "Demo_df=pd.read_excel('Cardiac_Outcomes.xlsx',\"Demography\")"
   ]
  },
  {
   "cell_type": "code",
   "execution_count": null,
   "id": "6a51512c-a4af-4318-96b0-9de73e078c7f",
   "metadata": {},
   "outputs": [],
   "source": [
    "import seaborn as sns\n",
    "import pandas as pd\n",
    "import numpy as np\n",
    "import matplotlib.pyplot as plt\n",
    "%matplotlib inline\n",
    "%reload_ext autoreload "
   ]
  },
  {
   "cell_type": "code",
   "execution_count": null,
   "id": "0cc2d84f-07a9-4a5d-83bb-0f3f02c81ae5",
   "metadata": {},
   "outputs": [],
   "source": [
    "Q17-Using arrays and loops find the number of patients who were Admitted in the month of November"
   ]
  },
  {
   "cell_type": "code",
   "execution_count": null,
   "id": "a04d22e3-1dd2-421f-befa-fb15801ed591",
   "metadata": {},
   "outputs": [],
   "source": [
    "#Using arrays and loops find the number of patients who were Admitted in the month of November\n",
    "i=0\n",
    "\n",
    "\n",
    "admission_data=list(H_df['Admission_date'])\n",
    "\n",
    "\n",
    "\n",
    "for mont in admission_data:\n",
    "    # print(mont.month)\n",
    "    if(mont.month == 11):\n",
    "        i=i+1\n",
    "print(\"number of patients who were Admitted in the month of November\", i)\n",
    "\n",
    " \n",
    "\n",
    "\n",
    "\n"
   ]
  },
  {
   "cell_type": "code",
   "execution_count": null,
   "id": "8855fb58-450e-4c29-94a0-6dc239268ecf",
   "metadata": {},
   "outputs": [],
   "source": [
    "Q-18 Create a heatmap on any columns of your choice including at least 1 lab value\n"
   ]
  },
  {
   "cell_type": "code",
   "execution_count": null,
   "id": "2b8ff8b3-8669-463a-9235-7cf18af2cfc6",
   "metadata": {},
   "outputs": [],
   "source": [
    "x=Demo_df['weight']\n",
    "y=labs_df['pulse']\n",
    "joint_df = pd.DataFrame({'Weight': x, 'Pulse': y})\n",
    "df=joint_df.corr()\n",
    "sns.heatmap(df,annot=True, cmap='coolwarm')"
   ]
  },
  {
   "cell_type": "code",
   "execution_count": null,
   "id": "2f9ccf46-6882-40db-8c1c-0c006262bc97",
   "metadata": {},
   "outputs": [],
   "source": [
    "Q-19 Create a bar chart by making list on Avg BMI and occupation column (with no duplicates) & make the hatchs onto the bar by using set_hatch() method"
   ]
  },
  {
   "cell_type": "code",
   "execution_count": null,
   "id": "2dbc86c7-71fc-4ab6-87cf-2a83140f1a55",
   "metadata": {},
   "outputs": [],
   "source": [
    "BMI = Demo_df['BMI']\n",
    "data1=pd.DataFrame(Demo_df['BMI']).mean()\n",
    "data2=pd.DataFrame(Demo_df['occupation'])\n",
    "data3=set(data2)\n",
    "\n",
    "y=list(data1)\n",
    "x=list(data3)\n",
    "plt.bar(x,y,color='b')"
   ]
  },
  {
   "cell_type": "code",
   "execution_count": null,
   "id": "20c2b242-fe14-4a4c-835e-e7bee7d38400",
   "metadata": {},
   "outputs": [],
   "source": [
    "Q=20 You are given three integers x,y,z representing the dimensions of a cuboid along with an integer n . Print a list of all possible coordinates given by(i,j,k) on a 3D grid where the sum of i,j,k is not equal to n. x=1, y=1, z=2, n=3"
   ]
  },
  {
   "cell_type": "code",
   "execution_count": null,
   "id": "929f8a40-8cc1-4450-8277-ede47b68db0f",
   "metadata": {},
   "outputs": [],
   "source": [
    "x=[0,1]\n",
    "y=[0,1]\n",
    "z=[0,1,2]\n",
    "l=[]\n",
    "for i in x:\n",
    "    for j in y:\n",
    "        for k in z:\n",
    "            if (i+j+k) !=3:\n",
    "               l.append([i,j,k])\n",
    "print(l)\n",
    "            \n",
    "    "
   ]
  },
  {
   "cell_type": "code",
   "execution_count": null,
   "id": "40a21a03-01b8-4ff0-922c-6341d2834154",
   "metadata": {},
   "outputs": [],
   "source": [
    "Q-21 Given the names and grades for each student in a class of students, store them in a nested list and print the name(s) of any student(s) having the second lowest grade."
   ]
  },
  {
   "cell_type": "code",
   "execution_count": null,
   "id": "fa12960c-e43e-441b-9964-8d3c1ad3394c",
   "metadata": {},
   "outputs": [],
   "source": [
    "python_students = []\n",
    "List = []\n",
    "while(input(\"If you're done then press y\")!= \"y\"):\n",
    "    List = []\n",
    "    string_input = input(\"Enter name: \")\n",
    "    grade=int(input(\"Grade: \"))\n",
    "    List.append(string_input)\n",
    "    List.append(grade)\n",
    "    print(List)\n",
    "    python_students.append(List)\n",
    "# python_students = [['Harry', 37.21], ['Berry', 37.21], ['Tina', 37.2], ['Akriti', 41], ['Harsh', 39]]\n",
    "print(python_students)\n",
    "old_grade=100\n",
    "second_low_grade = 0\n",
    "old_name = \"\"\n",
    "second_old_name = \"\"\n",
    "for each in python_students:\n",
    "    name = each[0]\n",
    "    grade = each[1]\n",
    "    print(name, grade)\n",
    "    if(old_grade>grade):\n",
    "        second_low_grade = old_grade\n",
    "        old_grade = grade\n",
    "        # print(second_low_grade)\n",
    "        second_old_name = old_name\n",
    "        old_name = name\n",
    "        \n",
    "print(\"Second low grade\",second_old_name, second_low_grade)\n",
    "        "
   ]
  },
  {
   "cell_type": "code",
   "execution_count": null,
   "id": "867c660e-1403-48be-800b-aba6e4e7d703",
   "metadata": {},
   "outputs": [],
   "source": [
    "Q-22 Which patient was on the most number of prescribed drugs? What was his age and outcome?"
   ]
  },
  {
   "cell_type": "code",
   "execution_count": null,
   "id": "01eaa256-443a-44ab-995a-48871ac67714",
   "metadata": {},
   "outputs": [],
   "source": [
    "p_df\n",
    "\n",
    "z=p_df\n",
    "k=H_df\n",
    "v=Demo_df\n",
    "a= {}\n",
    "for line in z.itertuples():\n",
    " \n",
    "    if a.get(line.inpatient_number):\n",
    "        a[line.inpatient_number]=a[line.inpatient_number]+1\n",
    "    else:\n",
    "         a[line.inpatient_number]=1\n",
    "        \n",
    "list_value=list(a.values())\n",
    "list_key=list(a.keys())\n",
    "y=max(list_value)\n",
    "\n",
    "print(\"inpatient_number of patient_most number of prescribed drugs:\", list_key[list_value.index(y)])\n",
    "\n",
    "a=list(v[\"ageCat\"])\n",
    "b=list(v[\"inpatient_number\"])\n",
    "x=a[b.index(list_key[list_value.index(y)])]\n",
    "print(\"ageCat:\",x )\n",
    "m=list(k[\"outcome_during_hospitalization\"])\n",
    "n=list(v[\"inpatient_number\"])\n",
    "xy=m[n.index(list_key[list_value.index(y)])]\n",
    "print(\"outcome_during_hospitalization:\",xy)"
   ]
  },
  {
   "cell_type": "code",
   "execution_count": null,
   "id": "3bdb52d1-7127-4341-809e-1fbff3fdd302",
   "metadata": {},
   "outputs": [],
   "source": [
    "Q-23 How many patients were prescribed Digoxin?"
   ]
  },
  {
   "cell_type": "code",
   "execution_count": null,
   "id": "2e09cab8-e357-4b0f-ba6a-d85de4226fff",
   "metadata": {},
   "outputs": [],
   "source": [
    "#How many patients were prescribed Digoxin?\n",
    "p_df\n",
    "x=p_df[\"Drug_name\"]\n",
    "y=(x=='Digoxin tablet')\n",
    "z=y.sum()\n",
    "\n",
    "print(\"patients were prescribed Digoxin\", z)\n",
    "\n"
   ]
  },
  {
   "cell_type": "code",
   "execution_count": null,
   "id": "49b7cbb9-7f56-40c7-bac4-c03677ce6e8b",
   "metadata": {},
   "outputs": [],
   "source": [
    "Q-24 What columns indicate a prescence of anemia? Create a severity score for anemia and prove or disprove a correlation to Length of stay"
   ]
  },
  {
   "cell_type": "code",
   "execution_count": null,
   "id": "9ab09213-20f9-462e-90c5-7d05da78cad2",
   "metadata": {},
   "outputs": [],
   "source": [
    "The diagnostic criterion for anemia is For men: Hemoglobin < 14 g/dL (140 g/L), For women: Hemoglobin < 12 g/dL (120 g/l),\n"
   ]
  },
  {
   "cell_type": "code",
   "execution_count": null,
   "id": "1788b76e-d687-4c70-9807-d3319a09374b",
   "metadata": {},
   "outputs": [],
   "source": [
    "k=labs_df\n",
    "m=Demo_df\n",
    "merged_df = pd.merge(m[['inpatient_number', 'gender']], k[['inpatient_number', 'total_hemoglobin']], on='inpatient_number')\n",
    "\n",
    "s=list(merged_df['gender'])\n",
    "r=list(merged_df['total_hemoglobin'])\n",
    "z=0\n",
    "d=0\n",
    "num=0\n",
    "for n in r:\n",
    "    \n",
    "    if(n<=120):\n",
    "        if(s[z]=='Female'):\n",
    "          \n",
    "            num = num+1\n",
    "    z=z+1\n",
    "print(\" No.of Female have anemia:\",num)\n",
    "for n in r:\n",
    "    if(n<=140):\n",
    "        if(s[d]=='Male'):\n",
    "          \n",
    "              num= num+1\n",
    "    z=z+1\n",
    "    \n",
    "print(\" No.of Males have anemia:\",num)"
   ]
  },
  {
   "cell_type": "code",
   "execution_count": null,
   "id": "f430f82f-f620-4c09-9b01-c08c44635fc6",
   "metadata": {},
   "outputs": [],
   "source": [
    "Q-25 Using GCS score, how many patients are considered to be in a coma?"
   ]
  },
  {
   "cell_type": "code",
   "execution_count": null,
   "id": "3f00688e-3193-47a8-96f0-79cfe34716e8",
   "metadata": {},
   "outputs": [],
   "source": [
    "y=Res_df[\"GCS\"]\n",
    "i=0\n",
    "for n in y:\n",
    "    \n",
    "    if(n<=8):\n",
    "        i=i+1\n",
    "print(\" patients are considered to be in a coma:\", i)"
   ]
  },
  {
   "cell_type": "code",
   "execution_count": null,
   "id": "32a82d92-e771-4bb8-a06d-5d2399358f84",
   "metadata": {},
   "outputs": [],
   "source": [
    "Q-26 Create a column that randomly generates an age between the age group given for each patient. What was the average age of the patients?"
   ]
  },
  {
   "cell_type": "code",
   "execution_count": null,
   "id": "7c1953e9-bc19-4809-919c-b9d85b56302f",
   "metadata": {},
   "outputs": [],
   "source": [
    "import random as rd\n",
    "l=Demo_df[\"ageCat\"]\n",
    "\n",
    "\n",
    "b=0\n",
    "x=0\n",
    "for n in l:\n",
    "\n",
    "    a=n.split(\"-\")\n",
    "    # x=(a[0], a[1])\n",
    "    print(rd.randint(int(a[0]), int(a[1])))\n",
    "    \n",
    " \n",
    "    b=b+(rd.randint(int(a[0]), int(a[1])))\n",
    "    \n",
    " \n",
    "    x = x+1\n",
    "print(\"average age of the patients= \", b/x)\n",
    "\n"
   ]
  },
  {
   "cell_type": "code",
   "execution_count": null,
   "id": "32d35e1f-c2a6-44d9-9285-84b209e0eb06",
   "metadata": {},
   "outputs": [],
   "source": [
    "Q-27 Using the age column generated in Q.26, calculate year of birth for each patient"
   ]
  },
  {
   "cell_type": "code",
   "execution_count": null,
   "id": "4d2e7b35-9bc5-4c59-a98e-6f84e90e0b83",
   "metadata": {},
   "outputs": [],
   "source": [
    "import random as rd\n",
    "l=Demo_df[\"ageCat\"]\n",
    "\n",
    "\n",
    "b=0\n",
    "x=0\n",
    "for n in l:\n",
    "\n",
    "    a=n.split(\"-\")\n",
    "    b=rd.randint(int(a[0]), int(a[1]))\n",
    "    j=pd. DataFrame(Demo_df['inpatient_number'])\n",
    " \n",
    " \n",
    "   \n",
    "    print(\" year of birth for each patient= \",2024-b)"
   ]
  },
  {
   "cell_type": "code",
   "execution_count": null,
   "id": "6d3fe036-8aab-4233-a80d-3562bd275436",
   "metadata": {},
   "outputs": [],
   "source": [
    "Q-28 Store patient number and gender in a dictionary as a pair of values. Show the first 10 values"
   ]
  },
  {
   "cell_type": "code",
   "execution_count": null,
   "id": "509dfa70-f6da-4582-8d50-ccd269a740ec",
   "metadata": {},
   "outputs": [],
   "source": [
    "df=pd.DataFrame(Demo_df,columns=['inpatient_number','gender'])\n",
    "d={}\n",
    "for n in df.itertuples():\n",
    "    d[n.inpatient_number]=n.gender\n",
    "\n",
    "i=0\n",
    "for key, value in d.items():\n",
    "    if (i<10):\n",
    "        print(i, key, value)\n",
    "    i = i+1\n",
    "  \n",
    "    "
   ]
  },
  {
   "cell_type": "markdown",
   "id": "0d73c6d8-1f27-40a3-91eb-1a1662a4253d",
   "metadata": {},
   "source": [
    "Q-29 What percentage of those in a coma also have diabetes?"
   ]
  },
  {
   "cell_type": "code",
   "execution_count": null,
   "id": "294bff58-7dac-4e35-a749-096e52a98e6e",
   "metadata": {},
   "outputs": [],
   "source": [
    "k1=patient_df\n",
    "k2=patient_df[\"inpatient_number\"]\n",
    "d1=Res_df\n",
    "# d1=Res_df[\"inpatient_number\"]\n",
    "merged_df = pd.merge(k1[['inpatient_number', 'diabetes']], d1[['inpatient_number', 'GCS']], on='inpatient_number')\n",
    "# print(d1)\n",
    "# u=v[\"GCS\"]\n",
    "\n",
    "# print(merged_df)\n",
    "\n",
    "\n",
    "i=list(merged_df['GCS'])\n",
    "j=list(merged_df['diabetes'])\n",
    "z=0\n",
    "num=0\n",
    "for n in i:\n",
    "    \n",
    "    if(n<=8):\n",
    "        if(j[z]==1):\n",
    "            # print(j[z])\n",
    "            num = num+1\n",
    "    z=z+1\n",
    "       \n",
    "print(\" percentage of those in a coma also have diabetes:\",num/n*100,\"%\")"
   ]
  },
  {
   "cell_type": "code",
   "execution_count": null,
   "id": "81afcd5a-4bee-4729-aac5-b43f021a0963",
   "metadata": {},
   "outputs": [],
   "source": [
    "Q-30 Identify any columns relating to echocardiography and create a severity score for cardiac function. Compare this outcome and show average severity score for each outcome"
   ]
  },
  {
   "cell_type": "code",
   "execution_count": null,
   "id": "548df9d7-2f18-4b85-a246-aad1a4e0c686",
   "metadata": {},
   "outputs": [],
   "source": [
    "x=cardiac_df\n",
    "y=H_df\n",
    "merged_df = pd.merge(x[['inpatient_number', 'type_of_heart_failure']], y[['inpatient_number', 'outcome_during_hospitalization']], on='inpatient_number')\n",
    "merged_df\n",
    "\n",
    "i=0\n",
    "k=0\n",
    "for n in merged_df[\"type_of_heart_failure\"] :\n",
    "    if n=='Both':\n",
    "        i=i+1\n",
    "    \n",
    "          \n",
    "print(\"type_of_heart_failure in Both:\",i)\n",
    "\n",
    "j=0\n",
    "for n in merged_df[\"type_of_heart_failure\"] :\n",
    "    if n=='Left':\n",
    "        j=j+1\n",
    "print(\"type_of_heart_failure in Left:\",j)\n",
    "\n",
    "k=0\n",
    "for n in merged_df[\"type_of_heart_failure\"] :\n",
    "    if n=='Right':\n",
    "        k=k+1\n",
    "print(\"type_of_heart_failure in Right:\",k)\n",
    "        "
   ]
  },
  {
   "cell_type": "code",
   "execution_count": null,
   "id": "22a5d102-c2f8-4941-b6f9-a9a05a07e6ec",
   "metadata": {},
   "outputs": [],
   "source": [
    "Q-31 Group the days to re-admission into bins and count how many patients were in each bin"
   ]
  },
  {
   "cell_type": "code",
   "execution_count": null,
   "id": "517575c2-a5c8-4ad2-989f-6917e5a121cf",
   "metadata": {},
   "outputs": [],
   "source": [
    "admission_data=H_df[\"readmission_time_days_from_admission\"]\n",
    "x=admission_data.dropna().sort_values()\n",
    "\n",
    "bins=[0,20,30,40]\n",
    "bins_name=['first','second','third','fourth']\n",
    "\n",
    "H_df['new']=pd.cut(admission_data,bins,bins_name)\n",
    "H_df['new'].dropna()\n",
    "\n",
    "\n",
    "\n",
    "\n"
   ]
  },
  {
   "cell_type": "code",
   "execution_count": null,
   "id": "5ed4ed5c-9cf7-4b6d-aca0-26da263d9f2d",
   "metadata": {},
   "outputs": [],
   "source": [
    "Q-32 Combine admission_ward & admission_way and count the patients under the new group. Create a pie chart and explode the biggest wedge"
   ]
  },
  {
   "cell_type": "code",
   "execution_count": null,
   "id": "90b8842b-9973-48a7-a7c4-875c6c7c0671",
   "metadata": {},
   "outputs": [],
   "source": [
    "H_df\n",
    "x=H_df['inpatient_number']\n",
    "y=H_df['admission_way']\n",
    "z=H_df['admission_ward']\n",
    "\n",
    "df1= pd.DataFrame({'admission_ward': z, 'admission_way': y})\n",
    "df2=df1.value_counts()\n",
    "# print (df2)\n",
    "k=0\n",
    "t=0\n",
    "z=0\n",
    "explodes=[0]\n",
    "\n",
    "for n in df2:\n",
    "    # print(n)\n",
    "    if n>k:\n",
    "        k=n\n",
    "        t=z\n",
    "    z=z+1\n",
    "    \n",
    "    explodes = [0.4 if i == t else 0 for i in range(len(df2))]\n",
    "plt.pie(df2,labels=df2,explode= explodes)\n",
    "plt.legend(labels=y,loc=\"upper left\")\n"
   ]
  },
  {
   "cell_type": "code",
   "execution_count": null,
   "id": "116b9c8e-8824-4f99-b6c6-861530ddf83a",
   "metadata": {},
   "outputs": [],
   "source": [
    "import pandas as pd\n",
    "import seaborn as sns\n",
    "import numpy as np\n",
    "import re\n",
    "import matplotlib.pyplot as plt \n",
    "import random as rd"
   ]
  },
  {
   "cell_type": "code",
   "execution_count": null,
   "id": "843db52a-0839-4ce0-a46f-f43f9b308039",
   "metadata": {},
   "outputs": [],
   "source": [
    "df_Labs=pd.read_excel(\"Cardiac_Outcomes.xlsx\",\"Labs\")\n",
    "df_Hospitalization_Discharge=pd.read_excel(\"Cardiac_Outcomes.xlsx\",\"Hospitalization_Discharge\")\n",
    "df_CardiacComplications=pd.read_excel(\"Cardiac_Outcomes.xlsx\",\"CardiacComplications\")\n",
    "df_Responsiveness=pd.read_excel(\"Cardiac_Outcomes.xlsx\",\"Responsivenes\")\n",
    "df_PatientHistory=pd.read_excel(\"Cardiac_Outcomes.xlsx\",\"PatientHistory\")\n",
    "df_demography=pd.read_excel(\"Cardiac_Outcomes.xlsx\",\"Demography\")\n",
    "df_Patient_Precriptions=pd.read_excel(\"Cardiac_Outcomes.xlsx\",\"Patient_Precriptions\")"
   ]
  },
  {
   "cell_type": "code",
   "execution_count": null,
   "id": "9392e09d-2b82-44f5-bfc6-1cd83cf5dac8",
   "metadata": {},
   "outputs": [],
   "source": [
    "Q.33 Retrieve the row with minimum white_blood_cell count using sorting technique."
   ]
  },
  {
   "cell_type": "code",
   "execution_count": null,
   "id": "42808ba3-f239-4e64-92d1-6aabf359df01",
   "metadata": {},
   "outputs": [],
   "source": [
    "df_Labs=pd.read_excel(\"cardiac_outcomes.xlsx\",\"Labs\")\n",
    "white=df_Labs.sort_values(by=['white_blood_cell'])\n",
    "white.head(1) "
   ]
  },
  {
   "cell_type": "code",
   "execution_count": null,
   "id": "98a5aae9-a9ae-4310-b99e-03ec752111ef",
   "metadata": {},
   "outputs": [],
   "source": [
    "Q.34. get the last letter of discharge_department of patients using RegEX"
   ]
  },
  {
   "cell_type": "code",
   "execution_count": null,
   "id": "e0d8eb1a-5d59-494f-891b-2c1ffe060a44",
   "metadata": {},
   "outputs": [],
   "source": [
    "discharge=df_Hospitalization_Discharge['discharge_department']\n",
    "print(discharge)\n",
    "lastchar=discharge.str.extract(r'(\\w)$')\n",
    "print(lastchar)"
   ]
  },
  {
   "cell_type": "markdown",
   "id": "71bd9408-bdba-42ec-9e25-c29f66727e03",
   "metadata": {},
   "source": [
    "Q.35.find the way to reverse string for given input (eg: input : This hackathon is about cardiac outcomes: outcomes cardiac about is hackathon This"
   ]
  },
  {
   "cell_type": "code",
   "execution_count": null,
   "id": "97cbbffa-a18d-41c8-b9f5-c395eb2c3d4e",
   "metadata": {},
   "outputs": [],
   "source": [
    "string = \" This hackthon is about cardiac outcomes\"\n",
    "s = string.split() [::-1]\n",
    "l = []\n",
    "for i in s :\n",
    "   l.append(i)\n",
    "print(\" \".join(l))\n"
   ]
  },
  {
   "cell_type": "code",
   "execution_count": null,
   "id": "80c81248-1444-4b61-bba5-6d46378b4abc",
   "metadata": {},
   "outputs": [],
   "source": [
    "Q.36 Use the QB style library to create any multidimensional arrays.Create a figure object called fig using plt.figure() **"
   ]
  },
  {
   "cell_type": "markdown",
   "id": "4b5b9933-a035-42d3-9729-d78cc4e13209",
   "metadata": {},
   "source": [
    "** Use add_axes to add an axis to the figure canvas at [0,0,1,1]. Call this new axis ax. ** ** Plot (x,y) on that axes and set the labels."
   ]
  },
  {
   "cell_type": "code",
   "execution_count": null,
   "id": "bcc3e19f-e81a-4bdc-b684-1614096b410e",
   "metadata": {},
   "outputs": [],
   "source": [
    "fig = plt.figure()\n",
    "ax= fig.add_axes([0,0,1,1])\n",
    "ax.plot(x,y,color='red',lw=4,ls=':')\n",
    "ax.set_title('title')\n",
    "ax.set_xlabel('x')\n",
    "ax.set_ylabel('y')"
   ]
  },
  {
   "cell_type": "markdown",
   "id": "e5cc41da-69b2-4c2a-ab18-2b4a28aa10c7",
   "metadata": {},
   "source": [
    "Q.37 Using dischargeDay values print even if it even number and odd if it odd number"
   ]
  },
  {
   "cell_type": "code",
   "execution_count": null,
   "id": "3ae7fb91-6687-4d20-9fe0-e52e1d63590c",
   "metadata": {},
   "outputs": [],
   "source": [
    "discharge=df_Hospitalization_Discharge.loc[:,\"dischargeDay\"]\n",
    "for i in discharge:\n",
    "    print(i, end =\" \")\n",
    "    if i%2==0 :\n",
    "      print(\"Even\")\n",
    "    else:\n",
    "      print(\"Odd\")"
   ]
  },
  {
   "cell_type": "markdown",
   "id": "af54add0-8908-4d26-a53f-26ca3b03e9c4",
   "metadata": {},
   "source": [
    "Q.38 find the length of Tuple for any given input (Hint: Input a string from user )"
   ]
  },
  {
   "cell_type": "code",
   "execution_count": null,
   "id": "0e8d87b2-1d0b-4070-8bf7-e9261404e266",
   "metadata": {},
   "outputs": [],
   "source": [
    "name = ()\n",
    "name = input('Enter the string')\n",
    "t = tuple(name.split())\n",
    "print(len(t))"
   ]
  },
  {
   "cell_type": "code",
   "execution_count": null,
   "id": "cde2bcbf-e1c5-4ac3-906f-a7052c306d66",
   "metadata": {},
   "outputs": [],
   "source": [
    "Q.39 Create a subplot on x = np.arange(0, 10, 0.1) , y = np.sin(np.pi * x) + x with 2 rows & 2 columns with object oriented approach"
   ]
  },
  {
   "cell_type": "code",
   "execution_count": null,
   "id": "9d4a8b2d-aaf9-4b64-a6b5-ddc0d66ec431",
   "metadata": {},
   "outputs": [],
   "source": [
    "x = np.arange(0, 10, 0.1) \n",
    "y = np.sin(np.pi * x) + x \n",
    "\n",
    "\n",
    "fig, axs = plt.subplots(2,2)\n",
    "fig.suptitle('Vertically stacked subplots')\n",
    "axs[0,0].plot(x, y,'g--' )\n",
    "axs[0,1].plot(x, y,'m--')\n",
    "axs[1,0].plot(x, -y,'b--')\n",
    "axs[1,1].plot(x, -y,'r--')\n",
    "fig.tight_layout()"
   ]
  },
  {
   "cell_type": "markdown",
   "id": "fd4251f0-cf28-4b8e-8a04-aaa36f593ad4",
   "metadata": {},
   "source": [
    "Q40.Select 25 different random values between 200 to 800."
   ]
  },
  {
   "cell_type": "code",
   "execution_count": null,
   "id": "03ba2364-af54-48a9-a190-28dd43ab018f",
   "metadata": {},
   "outputs": [],
   "source": [
    "import random\n",
    "print(\"25 Random values between 200 to 800 :\")\n",
    "for i in range(25) :\n",
    "   y = random.randrange(200, 800)\n",
    "   print(y)"
   ]
  },
  {
   "cell_type": "markdown",
   "id": "65775a75-7780-4860-9777-6fb1e1050cea",
   "metadata": {},
   "source": [
    "Q.41 Plot the time series of Admission dates with count of patients. The X-Axis should be for every 5 months"
   ]
  },
  {
   "cell_type": "code",
   "execution_count": null,
   "id": "bc2e3b16-829f-4aa0-a18b-a030bc4b5f2c",
   "metadata": {},
   "outputs": [],
   "source": [
    "df_Hospitalization_Discharge=pd.read_excel(\"cardiac_outcomes.xlsx\",\"Hospitalization_Discharge\")\n",
    "admission_date=df_Hospitalization_Discharge[\"Admission_date\"]\n",
    "inpatient_number=df_Hospitalization_Discharge[\"inpatient_number\"]"
   ]
  },
  {
   "cell_type": "markdown",
   "id": "bf552e7b-d3b9-4282-a05e-5f239a96a447",
   "metadata": {},
   "source": [
    "Q.42.np.arange(1,21).reshape(4,5), find array slicing to get the elements 1,2,8,19."
   ]
  },
  {
   "cell_type": "code",
   "execution_count": null,
   "id": "a56cddf9-db4b-4aaa-a58b-40c5350fc7c8",
   "metadata": {},
   "outputs": [],
   "source": [
    "a = np.arange(1,21)\n",
    "b = a.reshape(4,5)\n",
    "print(b)\n",
    "print(b[0,0] , b[0,1], b[1,2], b[3,3])"
   ]
  },
  {
   "cell_type": "markdown",
   "id": "ea6b400b-678d-46de-938f-5962b28e892d",
   "metadata": {},
   "source": [
    "Q.43 Give Distribution chart of max Killip_grade"
   ]
  },
  {
   "cell_type": "code",
   "execution_count": null,
   "id": "cc8b173b-0f62-4a7d-948e-2bbdc79a6067",
   "metadata": {},
   "outputs": [],
   "source": [
    "kg=df_CardiacComplications['Killip_grade']\n",
    "sns.histplot(kg, kde=True)\n",
    "#print(kg)\n"
   ]
  },
  {
   "cell_type": "markdown",
   "id": "2d8b8f2e-9492-490e-a3da-15b4e902db40",
   "metadata": {},
   "source": [
    "Q.44.Based on Q26 and 27 display all demographic details of patients who are born in year 1945"
   ]
  },
  {
   "cell_type": "code",
   "execution_count": null,
   "id": "38a566b2-6eba-4107-8e2c-b14d3d55a4ae",
   "metadata": {},
   "outputs": [],
   "source": [
    "import random as rd\n",
    "from datetime import datetime\n",
    "\n",
    "now = datetime.now()\n",
    "print(now)\n",
    "year=now.strftime(\"%Y\")\n",
    "print(year)\n",
    "\n",
    "x=df_demography['ageCat'].str.split(\"-\")\n",
    "lower_upper = x.to_frame(name ='range')\n",
    "\n",
    "lower = lower_upper['range'].apply(lambda item:int( item[0]))\n",
    "upper = lower_upper['range'].apply(lambda item: int(item[1]))\n",
    "\n",
    "df_demography['Age'] = np.random.randint(lower,upper)\n",
    "#print(df_demography['Age'])\n",
    "\n",
    "df_demography['YOB']=int(year)-df_demography['Age']\n",
    "df_demography[(df_demography['YOB']==1945)]\n",
    "\n",
    " "
   ]
  },
  {
   "cell_type": "markdown",
   "id": "7dbd921d-b0fc-4952-a77a-683bde2ccdc3",
   "metadata": {},
   "source": [
    "Q.45.Create a dataframe with date and time as columns, where the values are the admission time"
   ]
  },
  {
   "cell_type": "code",
   "execution_count": null,
   "id": "c943a109-2297-4497-a0b5-3f305f31e729",
   "metadata": {},
   "outputs": [],
   "source": [
    "df_Hospitalization_Discharge[\"visit_times\"]\n",
    "df_Hospitalization_Discharge[\"Admission_date\"]\n",
    "\n",
    "data = {'Date':df_Hospitalization_Discharge[\"Admission_date\"] ,\n",
    "        'Time':df_Hospitalization_Discharge[\"visit_times\"]}\n",
    "df = pd.DataFrame(data)\n",
    "df"
   ]
  },
  {
   "cell_type": "code",
   "execution_count": null,
   "id": "ae18181f-4bb8-4d4a-b4f4-fe5f8a1596a6",
   "metadata": {},
   "outputs": [],
   "source": [
    "Q.46 Convert occupation into numeric by Label encoding"
   ]
  },
  {
   "cell_type": "code",
   "execution_count": null,
   "id": "c066004e-aa71-47f2-a802-a1e4fe94cfe6",
   "metadata": {},
   "outputs": [],
   "source": [
    "from sklearn.preprocessing import LabelEncoder\n",
    "\n",
    "label_encoder = LabelEncoder()\n",
    "df_Demography['occupation']=label_encoder.fit_transform(df_Demography['occupation'])\n",
    "#df_Demography['occupation'].unique()\n",
    "df_Demography['occupation'].value_counts()"
   ]
  },
  {
   "cell_type": "code",
   "execution_count": null,
   "id": "114a563a-3bbe-47b3-8da2-0691321db91b",
   "metadata": {},
   "outputs": [],
   "source": [
    "import pandas as pd"
   ]
  },
  {
   "cell_type": "code",
   "execution_count": null,
   "id": "866701b0-b46d-4467-ad8f-895375d734a1",
   "metadata": {},
   "outputs": [],
   "source": [
    "df_Labs=pd.read_excel(\"cardiac_outcomes.xlsx\",\"Labs\")\n",
    "df_Hospitalization_Discharge=pd.read_excel(\"cardiac_outcomes.xlsx\",\"Hospitalization_Discharge\")\n",
    "df_CardiacComplications=pd.read_excel(\"cardiac_outcomes.xlsx\",\"CardiacComplications\")\n",
    "df_Responsivenes=pd.read_excel(\"cardiac_outcomes.xlsx\",\"Responsivenes\")\n",
    "df_PatientHistory=pd.read_excel(\"cardiac_outcomes.xlsx\",\"PatientHistory\")\n",
    "df_Demography=pd.read_excel(\"cardiac_outcomes.xlsx\",\"Demography\")\n",
    "df_Patient_Precriptions=pd.read_excel(\"cardiac_outcomes.xlsx\",\"Patient_Precriptions\")"
   ]
  },
  {
   "cell_type": "code",
   "execution_count": null,
   "id": "136cc5d2-bdcb-41d6-954c-4733c03a74a9",
   "metadata": {},
   "outputs": [],
   "source": [
    "pip install psycopg2"
   ]
  },
  {
   "cell_type": "code",
   "execution_count": null,
   "id": "5cd2afc9-6f58-48d8-b47f-eede57f33ed5",
   "metadata": {},
   "outputs": [],
   "source": [
    "pip install psycopg2-binary"
   ]
  },
  {
   "cell_type": "code",
   "execution_count": null,
   "id": "d22bbc01-8d61-4679-a2ba-4a7ac0339b12",
   "metadata": {},
   "outputs": [],
   "source": [
    "import psycopg2\n",
    "conn = psycopg2.connect(database=\"Cardiology\",host='localhost',port='5432',user=\"postgres\",password=\"Admin\")"
   ]
  },
  {
   "cell_type": "markdown",
   "id": "1bf8bb61-f1d8-4c86-bcfe-f6ac429184d2",
   "metadata": {},
   "source": [
    "Q49 Connect to sql and write a query to find all patients who have a gender of 'Male' ( Attach screenshots for this question)\n"
   ]
  },
  {
   "cell_type": "code",
   "execution_count": null,
   "id": "82e4a056-6b3c-49fe-9ae0-a27b2c56c666",
   "metadata": {},
   "outputs": [],
   "source": [
    "import psycopg2\n",
    "conn = psycopg2.connect(database=\"Cardiology\",host='localhost',port='5432',user=\"postgres\",password=\"Admin\")\n",
    "cur = conn.cursor()\n",
    "cur.execute (\"\"\"select * from demography where gender = 'Male';\"\"\")\n",
    "rows=cur.fetchall()\n",
    "conn.commit()\n",
    "conn.close()\n",
    "for row in rows:\n",
    "    print(row)"
   ]
  },
  {
   "cell_type": "code",
   "execution_count": null,
   "id": "e0ddc0ab-b1d8-4ad7-a32e-d051ca4f3105",
   "metadata": {},
   "outputs": [],
   "source": [
    "import seaborn as sns\n",
    "import pandas as pd\n",
    "import numpy as np\n",
    "import matplotlib.pyplot as plt\n"
   ]
  },
  {
   "cell_type": "markdown",
   "id": "72894e97-b786-4dd7-8acf-e51422743ee3",
   "metadata": {},
   "source": [
    "Q 50 Display the lab details of the patient with maximum pulse using the .loc\n"
   ]
  },
  {
   "cell_type": "code",
   "execution_count": null,
   "id": "8408f713-c8b5-4149-b588-ce1213859d5d",
   "metadata": {},
   "outputs": [],
   "source": [
    "df_Labs=pd.read_excel(\"cardiac_outcomes.xlsx\",\"Labs\")\n",
    "max_pulse=df_Labs['pulse'].max()\n",
    "print(\"---Lab Details with maximum pulse---\")\n",
    "max_pulse_loc=df_Labs.loc[max_pulse,:]\n",
    "print(max_pulse_loc)"
   ]
  },
  {
   "cell_type": "markdown",
   "id": "baa196e8-a0dc-4995-a4b8-1e5901a5d4a0",
   "metadata": {},
   "source": [
    "Q51 Display a violin chart to show distribution of Pulse Rate against age."
   ]
  },
  {
   "cell_type": "code",
   "execution_count": null,
   "id": "59ddd535-a88d-4a19-b2ac-7093fe70fe7e",
   "metadata": {},
   "outputs": [],
   "source": [
    "import seaborn as sns\n",
    "%matplotlib inline\n",
    "import matplotlib.pyplot as plt\n",
    "sns.violinplot(x=df_Demography[\"ageCat\"],y=df_Labs[\"pulse\"], fill=False) "
   ]
  },
  {
   "cell_type": "markdown",
   "id": "4a1a2dee-cf75-4008-a922-f233a94e3b9f",
   "metadata": {},
   "source": [
    "Q52 Create a Point Plot on Age against time to readmission."
   ]
  },
  {
   "cell_type": "code",
   "execution_count": null,
   "id": "007f9f8b-eff1-4122-af8d-c51a0827c107",
   "metadata": {},
   "outputs": [],
   "source": [
    "sns.pointplot(x=df_Demography[\"ageCat\"],y=df_Hospitalization_Discharge[\"readmission_time_days_from_admission\"]) "
   ]
  },
  {
   "cell_type": "markdown",
   "id": "ab9e0d21-8f3a-49e7-96c4-91f8851b4cbf",
   "metadata": {},
   "source": [
    "Q53 What is the correlation between CCI score and outcome?"
   ]
  },
  {
   "cell_type": "code",
   "execution_count": null,
   "id": "ab2a826a-1862-4323-8179-73c48105803a",
   "metadata": {},
   "outputs": [],
   "source": [
    "df_PatientHistory=pd.read_excel(\"cardiac_outcomes.xlsx\",\"PatientHistory\")\n",
    "df_Hospitalization_Discharge[\"outcome_during_hospitalization\"]= pd.factorize(df_Hospitalization_Discharge[\"outcome_during_hospitalization\"])[0]\n",
    "df_Hospitalization_Discharge[\"outcome_during_hospitalization\"].corr(df_PatientHistory['CCI_score'])"
   ]
  },
  {
   "cell_type": "markdown",
   "id": "122c20d4-61c0-4ffd-b4d5-e8bc10d53248",
   "metadata": {},
   "source": [
    "Q54 For all non-negative integers that are also even numbers in the array [0,1,2,6,8] print i*i"
   ]
  },
  {
   "cell_type": "code",
   "execution_count": null,
   "id": "8b3e132f-db1e-4178-888e-9fb8543482a2",
   "metadata": {},
   "outputs": [],
   "source": [
    "listA=[0,1,2,6,8]\n",
    "for number in listA:\n",
    "  if number>=0  and number % 2 == 0:\n",
    "    print(number*number)"
   ]
  },
  {
   "cell_type": "code",
   "execution_count": null,
   "id": "72d94139-550b-451e-ab4f-189fd1338933",
   "metadata": {},
   "outputs": [],
   "source": [
    "Q55 Create a jointplot on diastolic_blood_pressure & length of stay"
   ]
  },
  {
   "cell_type": "code",
   "execution_count": null,
   "id": "c29958e0-341f-40a4-8cee-786c6edfb6a8",
   "metadata": {},
   "outputs": [],
   "source": [
    "sns.jointplot(x=df_Labs['diastolic_blood_pressure'],y=df_Hospitalization_Discharge[\"readmission_time_days_from_admission\"],kind='kde',color='Green',fill=True)"
   ]
  },
  {
   "cell_type": "code",
   "execution_count": null,
   "id": "fbf92bd5-d22e-4ead-b371-b0e1a6ba0998",
   "metadata": {},
   "outputs": [],
   "source": [
    "Q56 Using loc, retrieve the agegroup and weight between indices 101 and 201."
   ]
  },
  {
   "cell_type": "code",
   "execution_count": null,
   "id": "5b2577b9-efd7-4250-9728-530ecb5cfa6e",
   "metadata": {},
   "outputs": [],
   "source": [
    "df_Demography=pd.read_excel(\"cardiac_outcomes.xlsx\",\"Demography\")\n",
    "##df_Demography.loc=df_Demography.loc[1p01:201,['ageCat','weight']]\n",
    "start_index = 101\n",
    "end_index = 201\n",
    "age_group_weight= df_Demography.loc[start_index:end_index,['ageCat' , 'weight']]\n",
    "age_group_weight"
   ]
  },
  {
   "cell_type": "code",
   "execution_count": null,
   "id": "01d7a9e5-90c9-4e36-b221-b4d39ba0e833",
   "metadata": {},
   "outputs": [],
   "source": [
    "Q57 Create a pivot table show shows outcome type as rows, the admission_ward as columns and counts of patients in each category as values"
   ]
  },
  {
   "cell_type": "code",
   "execution_count": null,
   "id": "72736dc1-8902-4f9c-b058-1a949f3d1b0f",
   "metadata": {},
   "outputs": [],
   "source": [
    "import pandas as pd\n",
    "df_Hospitalization_Discharge=pd.read_excel(\"cardiac_outcomes.xlsx\",\"Hospitalization_Discharge\")\n",
    "pd.pivot_table(data = df_Hospitalization_Discharge,index=[\"outcome_during_hospitalization\"],values=[\"inpatient_number\"],columns=[\"admission_ward\"],aggfunc = 'count')"
   ]
  },
  {
   "cell_type": "markdown",
   "id": "8d061861-c6b4-4e86-83c8-e14d1398e63c",
   "metadata": {},
   "source": [
    "Q58 Use Hexagonal binning to show the density of patients who were readmitted when compared to Discharge Days"
   ]
  },
  {
   "cell_type": "code",
   "execution_count": null,
   "id": "63579603-b8a1-4ac4-b828-4db3b315f516",
   "metadata": {},
   "outputs": [],
   "source": [
    "df_Hospitalization_Discharge=pd.read_excel(\"cardiac_outcomes.xlsx\",\"Hospitalization_Discharge\")\n",
    "import matplotlib.pyplot as plt\n",
    "df_Hospitalization_Discharge.plot(kind=\"hexbin\",x=\"readmission_time_days_from_admission\",y=\"dischargeDay\",linewidth=2.1,edgecolor=\"green\", linestyle ='solid', alpha=0.6,gridsize=(14,10),cmap=\"rainbow\") \n",
    "plt.xlabel(\"readmission_time_days_from_admission\",fontsize=10,fontweight=\"bold\")\n",
    "plt.ylabel(\"dischargeDay\",fontsize=12,fontweight=\"bold\")"
   ]
  },
  {
   "cell_type": "markdown",
   "id": "3e5832ef-63a5-418f-b525-ae7faa409fdf",
   "metadata": {},
   "source": [
    "Q59 Using Sunburst chart display patients Age group, occupation and BMI Group"
   ]
  },
  {
   "cell_type": "code",
   "execution_count": null,
   "id": "d12012aa-7ada-4c71-8130-648e1244fd12",
   "metadata": {},
   "outputs": [],
   "source": [
    "pip install plotly"
   ]
  },
  {
   "cell_type": "code",
   "execution_count": null,
   "id": "d78e81b1-ffa2-40a7-a7f1-927044c737a1",
   "metadata": {},
   "outputs": [],
   "source": [
    "import plotly.express as px\n",
    "import pandas as pd\n",
    "df_Demography=pd.read_excel(\"cardiac_outcomes.xlsx\",\"Demography\")"
   ]
  },
  {
   "cell_type": "code",
   "execution_count": null,
   "id": "cf0bd4f9-1a4c-4256-bd59-999bc4bcf2da",
   "metadata": {},
   "outputs": [],
   "source": [
    "df_Demography = df_Demography.dropna()\n",
    "fig=px.sunburst(df_Demography,path=[\"ageCat\",\"occupation\",\"BMI\"],maxdepth =-3,width=1000,height=800,color_discrete_sequence=px.colors.qualitative.Prism) fig.show()"
   ]
  },
  {
   "cell_type": "markdown",
   "id": "e68963c5-3d17-43b0-81b3-440484de521c",
   "metadata": {},
   "source": [
    "Q60 Plot the Density Chart for visit times"
   ]
  },
  {
   "cell_type": "code",
   "execution_count": null,
   "id": "b3a13447-c188-43c0-a1e5-e8acfa174a9e",
   "metadata": {},
   "outputs": [],
   "source": [
    "import matplotlib.pyplot as plt\n",
    "df_Hospitalization_Discharge=pd.read_excel(\"cardiac_outcomes.xlsx\",\"Hospitalization_Discharge\")\n",
    "df_Hospitalization_Discharge.visit_times.plot.density(color='magenta',linewidth=3.5)\n",
    "plt.title('Density Chart for Visit time',fontsize=12,fontweight=\"bold\")\n",
    "plt.show()"
   ]
  },
  {
   "cell_type": "markdown",
   "id": "33d0fc37-dbaa-47e5-8122-ab8970058f22",
   "metadata": {},
   "source": [
    "Q61 np.arange(1,31).reshape(6,5) Find the array slicing to get the elements with values 11,12,16,17.¶"
   ]
  },
  {
   "cell_type": "code",
   "execution_count": null,
   "id": "6fc26b82-5810-47c1-affb-cf99718c8fb8",
   "metadata": {},
   "outputs": [],
   "source": [
    "x = np.arange(start=1,stop=31,step=1)\n",
    "print(x)"
   ]
  },
  {
   "cell_type": "code",
   "execution_count": null,
   "id": "9f2d1b0c-9ec1-4f2f-a7c7-1351b52b17a9",
   "metadata": {},
   "outputs": [],
   "source": [
    "y = x.reshape(6,5)\n",
    "print(y)\n",
    "print(y.shape)"
   ]
  },
  {
   "cell_type": "code",
   "execution_count": null,
   "id": "360df9b8-b171-4615-813f-4ca1a6972514",
   "metadata": {},
   "outputs": [],
   "source": [
    "y[2][0:2],y[3][0:2]"
   ]
  },
  {
   "cell_type": "markdown",
   "id": "30484852-6399-404b-a9e6-80c4b42e6985",
   "metadata": {},
   "source": [
    "Q62 What % of all patients with an outcome of \"Alive\" died within 28 days. What was the mean platelet volume among this group?"
   ]
  },
  {
   "cell_type": "code",
   "execution_count": null,
   "id": "2d9ece5d-7d40-41cd-96d8-b91ebb5fff88",
   "metadata": {},
   "outputs": [],
   "source": [
    "import pandas as pd\n",
    "df_Hospitalization_Discharge=pd.read_excel(\"cardiac_outcomes.xlsx\",\"Hospitalization_Discharge\")\n",
    "patients_alive_died=df_Hospitalization_Discharge[(df_Hospitalization_Discharge['outcome_during_hospitalization']=='Alive')&(df_Hospitalization_Discharge['death_within_28_days'] == 1)]\n",
    "total_patients=len(df_Hospitalization_Discharge)\n",
    "patients_alive_died_num=len(patients_alive_died)\n",
    "percentage=(patients_alive_died_num/total_patients)*100\n",
    "percentage"
   ]
  },
  {
   "cell_type": "code",
   "execution_count": null,
   "id": "19697682-2205-4d7b-8094-b79e2a8ffa4a",
   "metadata": {},
   "outputs": [],
   "source": [
    "df_Labs=pd.read_excel(\"cardiac_outcomes.xlsx\",\"Labs\")\n",
    "merge_df_Labs=pd.merge(patients_alive_died,df_Labs, on='inpatient_number')\n",
    "mean_platelet_group=merge_df_Labs['platelet'].mean()\n",
    "mean_platelet_group"
   ]
  },
  {
   "cell_type": "markdown",
   "id": "74f4941b-b2c6-4743-af01-0d0785fea54e",
   "metadata": {},
   "source": [
    "Q63 find the patients who have 'h' in their DestinationDischarge and print them"
   ]
  },
  {
   "cell_type": "code",
   "execution_count": null,
   "id": "16c746b7-d89e-4ca5-b370-6222a8727f60",
   "metadata": {},
   "outputs": [],
   "source": [
    "df_Hospitalization_Discharge=pd.read_excel(\"cardiac_outcomes.xlsx\",\"Hospitalization_Discharge\")\n",
    "Patients_Home=df_Hospitalization_Discharge[df_Hospitalization_Discharge['DestinationDischarge'].str.startswith('H')]\n",
    "Patients_Home1=Patients_Home.loc[:,'inpatient_number']\n",
    "print(Patients_Home1)"
   ]
  },
  {
   "cell_type": "code",
   "execution_count": null,
   "id": "8c6a3c93-23c4-4b69-be06-526dcbbf3fc6",
   "metadata": {},
   "outputs": [],
   "source": [
    "Q64 Create a grouped bar chart that shows number of patients by gender and ageCat"
   ]
  },
  {
   "cell_type": "code",
   "execution_count": null,
   "id": "7b467784-d0fd-4c7e-be63-ed95a2210585",
   "metadata": {},
   "outputs": [],
   "source": [
    "import matplotlib.pyplot as plt\n",
    "df_Demography=pd.read_excel(\"cardiac_outcomes.xlsx\",\"Demography\")\n",
    "group_bar=df_Demography.groupby(['gender','ageCat']).size().unstack(fill_value=0)\n",
    "group_bar.plot(kind='bar',stacked=False)\n",
    "plt.xlabel('Gender')\n",
    "plt.ylabel('Total Patients')\n",
    "plt.title('Patients by Gender and Age')\n",
    "plt.legend(title='Age group')\n",
    "plt.show()"
   ]
  },
  {
   "cell_type": "markdown",
   "id": "1c0781a4",
   "metadata": {},
   "source": [
    "# Q65.Which Admission Ward has maximum number of visits scheduled"
   ]
  },
  {
   "cell_type": "code",
   "execution_count": null,
   "id": "067a8f95",
   "metadata": {
    "scrolled": true
   },
   "outputs": [],
   "source": [
    "Visit_countMax = df_Hospitalization_Discharge.groupby('admission_ward')[\"visit_times\"].idxmax()\n",
    "Visit_countMax\n",
    "Visit_countMax.head(1)\n"
   ]
  },
  {
   "cell_type": "markdown",
   "id": "d51d5272",
   "metadata": {},
   "source": [
    "# Q66.Display total count of patients in each discharge_department based on gender"
   ]
  },
  {
   "cell_type": "code",
   "execution_count": null,
   "id": "9243e4ad",
   "metadata": {},
   "outputs": [],
   "source": [
    "#df_merged = pd.concat([df_Demography, df_Hospitalization_Discharge])\n",
    "#df_grouped = merged_df.groupby(['discharge_department','gender']).size().unstack()\n",
    "#df_grouped\n",
    "df1=df_Hospitalization_Discharge\n",
    "df2=df_Demography\n",
    "df_Merged=pd.merge(df1,df2)\n",
    "df_Merged\n",
    "df_grouped = df_Merged.groupby(['discharge_department','gender']).size().unstack()\n",
    "df_grouped"
   ]
  },
  {
   "cell_type": "markdown",
   "id": "a7f655d2",
   "metadata": {},
   "source": [
    "# Q67.How many Unique patients were precribed each type of medication?"
   ]
  },
  {
   "cell_type": "code",
   "execution_count": null,
   "id": "84e0759f",
   "metadata": {},
   "outputs": [],
   "source": [
    "Unique_patients_Per_Medication = df_Patient_Precriptions.groupby('Drug_name')['inpatient_number'].nunique()\n",
    "Unique_patients_Per_Medication"
   ]
  },
  {
   "cell_type": "markdown",
   "id": "a40f6f5a",
   "metadata": {},
   "source": [
    "# Q68.Find 5 patients with the highest Discharge days greater than 20. List their most common outcome"
   ]
  },
  {
   "cell_type": "code",
   "execution_count": null,
   "id": "829223b3",
   "metadata": {},
   "outputs": [],
   "source": [
    "Filtered_patients = df_Hospitalization_Discharge[df_Hospitalization_Discharge['dischargeDay'] > 20]\n",
    "#Filtered_patients\n",
    "#selected_columns = df_Hospitalization_Discharge.loc[:, ['inpatient_number', 'dischargeDay', 'outcome_during_hospitalization']]\n",
    "#selected_columns\n",
    "Top_5_patients = Filtered_patients.nlargest(5, 'dischargeDay')\n",
    "Top_5_patients\n",
    "selected_columns=Top_5_patients.loc[:, ['inpatient_number', 'dischargeDay', 'outcome_during_hospitalization']]\n",
    "selected_columns"
   ]
  },
  {
   "cell_type": "markdown",
   "id": "8c8890e6",
   "metadata": {},
   "source": [
    "# Q69.Get the list of patient ID's which are not there in prescriptions but in demographics"
   ]
  },
  {
   "cell_type": "code",
   "execution_count": null,
   "id": "07b3f05f",
   "metadata": {},
   "outputs": [],
   "source": [
    "Demographics_IDs = set(df_Demography['inpatient_number'])\n",
    "Prescriptions_IDs = set(df_Patient_Precriptions['inpatient_number'])\n",
    "Missing_IDs = Demographics_IDs - Prescriptions_IDs\n",
    "Missing_IDs_List = list(Missing_IDs)\n",
    "Missing_IDs_List"
   ]
  },
  {
   "cell_type": "markdown",
   "id": "6edc69a1",
   "metadata": {},
   "source": [
    "# Q70.On average, what is the most frequent weekday of admission?"
   ]
  },
  {
   "cell_type": "code",
   "execution_count": null,
   "id": "b0962836",
   "metadata": {},
   "outputs": [],
   "source": [
    "df_Hospitalization_Discharge['weekday'] = pd.to_datetime(df_Hospitalization_Discharge['Admission_date']).dt.dayofweek\n",
    "Weekday_count = df_Hospitalization_Discharge['weekday'].value_counts()\n",
    "Most_Frequent_Weekday = Weekday_count.index[0]\n",
    "Weekday_Names = ['Monday', 'Tuesday', 'Wednesday', 'Thursday', 'Friday', 'Saturday', 'Sunday']\n",
    "Most_Frequent_Weekday_Name = Weekday_Names[Most_Frequent_Weekday]\n",
    "f\"On average, the most frequent weekday of admission is {Most_Frequent_Weekday_Name}\""
   ]
  },
  {
   "cell_type": "markdown",
   "id": "24715ece",
   "metadata": {},
   "source": [
    "# Q71.Which year had the maximum admissions"
   ]
  },
  {
   "cell_type": "code",
   "execution_count": null,
   "id": "89a1e124",
   "metadata": {},
   "outputs": [],
   "source": [
    "df_Hospitalization_Discharge['year'] = pd.to_datetime(df_Hospitalization_Discharge['Admission_date']).dt.year\n",
    "Max_Admissions_Year = df_Hospitalization_Discharge['year'].value_counts().idxmax()\n",
    "f\"The year with the maximum admissions is {Max_Admissions_Year}\""
   ]
  },
  {
   "cell_type": "markdown",
   "id": "86232fd4",
   "metadata": {},
   "source": [
    "# Q72.What % of the dataset is male vs female?"
   ]
  },
  {
   "cell_type": "code",
   "execution_count": null,
   "id": "14edb674",
   "metadata": {},
   "outputs": [],
   "source": [
    "#Male_count = df_Demography['gender'].value_counts()['Male']\n",
    "#Female_count = df_Demography['gender'].value_counts()['Female']\n",
    "#Male_count\n",
    "#Female_count\n",
    "#Male_percentage = (Male_count / Total_Patients) * 100\n",
    "#Female_percentage = (Female_count / Total_Patients) * 100\n",
    "#Male_percentage\n",
    "#Female_percentage\n",
    "Gender_Count = df_Demography['gender'].value_counts()\n",
    "Gender_Count\n",
    "Total_Patients = len(df_Demography)\n",
    "Gender_Percentage=(Gender_Count / Total_Patients) * 100\n",
    "Gender_Percentage"
   ]
  },
  {
   "cell_type": "markdown",
   "id": "2e642bb5",
   "metadata": {},
   "source": [
    "# Q73.Which patient in the youngest age category weighs the most?"
   ]
  },
  {
   "cell_type": "code",
   "execution_count": null,
   "id": "b1896954",
   "metadata": {},
   "outputs": [],
   "source": [
    "df_Demography=pd.read_excel(\"Cardiac_Outcomes.xlsx\",\"Demography\")\n",
    "df_YoungestAge = df_Demography[df_Demography.ageCat == df_Demography.ageCat.min()]\n",
    "df_MaxWeight = df_YoungestAge.loc[df_YoungestAge['weight'].idxmax()]\n",
    "#df_MaxWeight\n",
    "Selected_Rows = df_MaxWeight[[\"inpatient_number\",\"weight\",\"ageCat\"]]\n",
    "Selected_Rows"
   ]
  },
  {
   "cell_type": "markdown",
   "id": "90cdfb7e",
   "metadata": {},
   "source": [
    "# Q74.Which adm ward had the lowest rate of Outcome Death?"
   ]
  },
  {
   "cell_type": "code",
   "execution_count": null,
   "id": "39a78501",
   "metadata": {},
   "outputs": [],
   "source": [
    "Death_Rate = df_Hospitalization_Discharge.groupby('admission_ward')['outcome_during_hospitalization'].apply(lambda x: (x == 'Dead').sum() / len(x))\n",
    "Lowest_Death_Rate_Outcome = Death_Rate.idxmin()\n",
    "Lowest_Death_Rate_Outcome"
   ]
  },
  {
   "cell_type": "markdown",
   "id": "a853ca40",
   "metadata": {},
   "source": [
    "# Q75.What % of those with an outcome of death, had myocardial infarction?"
   ]
  },
  {
   "cell_type": "code",
   "execution_count": null,
   "id": "0beeb58e",
   "metadata": {
    "scrolled": true
   },
   "outputs": [],
   "source": [
    "#df1=df_Hospitalization_Discharge\n",
    "#df2=df_CardiacComplications\n",
    "#df_Merged=pd.merge(df1,df2)\n",
    "#df_Merged\n",
    "#df_Death = df_Merged[df_Merged['outcome_during_hospitalization'] == 'dead']\n",
    "#df_Death\n",
    "#df_MI = df_Merged[df_Merged['myocardial_infarction'] == '1']\n",
    "#df_MI\n",
    "#Total_DeathCount = len(df_Death)\n",
    "#Total_DeathCount\n",
    "#Total_MIcount=len(df_MI)\n",
    "#Percentage_MI_Death=(Total_MIcount/Total_DeathCount)*100\n",
    "#Percentage_MI_Death\n",
    "DeathOutcome_count = df_Hospitalization_Discharge[df_Hospitalization_Discharge['outcome_during_hospitalization'] == 'Dead'][['inpatient_number','outcome_during_hospitalization']]\n",
    "#DeathOutcome_count\n",
    "Total_DeathCount=DeathOutcome_count['outcome_during_hospitalization'].value_counts().to_frame('count')\n",
    "Total_DeathCount"
   ]
  },
  {
   "cell_type": "code",
   "execution_count": null,
   "id": "a5723427",
   "metadata": {},
   "outputs": [],
   "source": [
    "Patient_MI = df_CardiacComplications[df_CardiacComplications['myocardial_infarction'] >0]\n",
    "Patient_MI\n",
    "Total_MI_Count=Common_inpatient_number['myocardial_infarction'].value_counts().to_frame('count')\n",
    "Total_MI_Count\n",
    "#Common_inpatient_number = pd.merge(DeathOutcome_count,Patient_MI, how='inner', on=['inpatient_number'])\n",
    "#Common_inpatient_number"
   ]
  },
  {
   "cell_type": "code",
   "execution_count": null,
   "id": "85602f9f",
   "metadata": {},
   "outputs": [],
   "source": [
    "Percentage_MI_Death=(1/11)*100\n",
    "Percentage_MI_Death"
   ]
  },
  {
   "cell_type": "markdown",
   "id": "5a7d1ab6",
   "metadata": {},
   "source": [
    "# Q76.What is the ratio of those with congestive heart failure to those who had type of heart failure Both?"
   ]
  },
  {
   "cell_type": "code",
   "execution_count": null,
   "id": "4eb2fc8e",
   "metadata": {},
   "outputs": [],
   "source": [
    "CHF_Patients = df_CardiacComplications[df_CardiacComplications['congestive_heart_failure'] > 0]\n",
    "#CHF_Patients\n",
    "CHF_Count=CHF_Patients['congestive_heart_failure'].value_counts().to_frame('count')\n",
    "CHF_Count\n"
   ]
  },
  {
   "cell_type": "code",
   "execution_count": null,
   "id": "f7cb2f69",
   "metadata": {},
   "outputs": [],
   "source": [
    "Typeof_HF_Patients = df_CardiacComplications[df_CardiacComplications['type_of_heart_failure'] == 'Both']\n",
    "#Typeof_HF_Patients\n",
    "Typeof_HF_Count=Typeof_HF_Patients['type_of_heart_failure'].value_counts().to_frame('count')\n",
    "Typeof_HF_Count"
   ]
  },
  {
   "cell_type": "code",
   "execution_count": null,
   "id": "d67f474f",
   "metadata": {},
   "outputs": [],
   "source": [
    "CHF_Typeof_HF_Ratio=1872/1480\n",
    "CHF_Typeof_HF_Ratio\n",
    "#Ratio=CHF_Count['>0'] / Typeof_HF_Count['Both']\n",
    "#Ratio"
   ]
  },
  {
   "cell_type": "markdown",
   "id": "ad90be7b",
   "metadata": {},
   "source": [
    "# Q77.LIst the number of cardiogenic shock patients based on hospitalization outcome, having a severe GCS score(higher risk of death) "
   ]
  },
  {
   "cell_type": "code",
   "execution_count": null,
   "id": "09ef842b",
   "metadata": {},
   "outputs": [],
   "source": [
    "Hospitalization_outcome= df_Hospitalization_Discharge[df_Hospitalization_Discharge['outcome_during_hospitalization'] == 'Dead'][['inpatient_number','outcome_during_hospitalization']]\n",
    "#Hospitalization_outcome\n",
    "GCSscore_Death= df_Responsivenes[df_Responsivenes['GCS'] <8]\n",
    "#GCSscore_Death\n",
    "df_Merged=pd.merge(Hospitalization_outcome,GCSscore_Death)\n",
    "df_Merged"
   ]
  },
  {
   "cell_type": "markdown",
   "id": "cbe13e0b",
   "metadata": {},
   "source": [
    "# Q78.Give the count of patients who have experinced tachicardia or bradycardia."
   ]
  },
  {
   "cell_type": "code",
   "execution_count": null,
   "id": "9bd25bf4",
   "metadata": {},
   "outputs": [],
   "source": [
    "Pulse_Range = [df_Labs['pulse'] <60,df_Labs['pulse'] >60,df_Labs['pulse'] >99]\n",
    "Pulse_Categories = ['brachycardia','Normal','tachycardia']\n",
    "df['Pulse_Categories'] = np.select(Pulse_Range,Pulse_Categories)\n",
    "df['Pulse_Categories']\n",
    "Patients_PulseCategories = df['Pulse_Categories'] .value_counts()\n",
    "Patients_PulseCategories\n",
    "Brachycardia=Patients_PulseCategories.iloc[1]\n",
    "f\"The count of patients who have Brachycardia is {Brachycardia}\""
   ]
  },
  {
   "cell_type": "markdown",
   "id": "de30d9a2",
   "metadata": {},
   "source": [
    "# Q79.Create a Funnel chart of BMI Category(Normal Weight, Underweight and Obese)"
   ]
  },
  {
   "cell_type": "code",
   "execution_count": null,
   "id": "a4db0f5e",
   "metadata": {},
   "outputs": [],
   "source": [
    "BMI_Range = [df_Demography['BMI'] < 18.5,df_Demography['BMI'] < 25,df_Demography['BMI'] < 30,df_Demography['BMI'] >= 30]\n",
    "BMI_Categories = ['Underweight', 'Normal Weight', 'Overweight', 'Obese']\n",
    "df['BMI_categories'] = np.select(BMI_Range,BMI_Categories)\n",
    "df['BMI_categories']\n",
    "BMI_CategoryCounts = df['BMI_categories'].value_counts()\n",
    "BMI_CategoryCounts"
   ]
  },
  {
   "cell_type": "code",
   "execution_count": null,
   "id": "c7eb85c4",
   "metadata": {},
   "outputs": [],
   "source": [
    "import matplotlib.pyplot as plt\n",
    "plt.figure(figsize=(8,6))\n",
    "plt.barh(df['BMI_categories'].index,df['BMI_categories'].values, color=['green','red','blue','brown'])\n",
    "plt.xlabel('Count')\n",
    "plt.ylabel('BMI Category')\n",
    "plt.title('BMI Category Funnel Chart')\n",
    "plt.show()"
   ]
  },
  {
   "cell_type": "code",
   "execution_count": null,
   "id": "fcfa7cd2",
   "metadata": {},
   "outputs": [],
   "source": [
    "colors=[\"#a9d18e\",\"#ffc000\",\"#ed7d31\",\"#5b9bd5\"]\n",
    "import matplotlib.pyplot as plt\n",
    "fig=plt.figure(figsize=(12,10))\n",
    "plt.fill_betweenx(y=[1,3.8],x1=[10,12],x2=[8,6],color=colors[0]);\n",
    "plt.fill_betweenx(y=[4,6.8],x1=[12,14],x2=[6,4],color=colors[1]);\n",
    "plt.fill_betweenx(y=[7,9.8],x1=[14,16],x2=[4,2],color=colors[2]);\n",
    "plt.fill_betweenx(y=[10,12.8],x1=[16,18],x2=[2,0],color=colors[3]);\n",
    "\n",
    "#plt.xticks([],[]);\n",
    "#plt.yticks([2,5,8,11]),df1[\"BMI_categories\"] ;\n",
    "#plt.ylabel(\"stages\");\n",
    "#for y,value in zip([2,5,8,11],df[\"BMI_CategoryCounts\"]):\n",
    "    #plt.text(9,y,value,fontsize=16,fontweight=\"bold\",color=\"brown\");\n",
    "#plt.title(\"BMI Category Funnel Chart\",loc=\"center\",fontsize=25,fontweight=\"bold\");\n"
   ]
  },
  {
   "cell_type": "code",
   "execution_count": null,
   "id": "52e8ddfe",
   "metadata": {},
   "outputs": [],
   "source": [
    "import plotly.graph_objects as go\n",
    "fig =go.Figure( go.Funnel(\n",
    "    y = df['BMI_categories'].index,\n",
    "    x = df['BMI_categories'].values,\n",
    "    textposition = 'inside',\n",
    "    textinfo = 'value+percent initial',\n",
    "    opacity=0.65,\n",
    "       marker={\n",
    "        \"color\": [\"deepskyblue\", \"lightsalmon\", \"tan\"],\n",
    "                  \"line\": {\"width\": [4, 2, 2], \"color\": \"wheat\"} },\n",
    "       connector={\"line\": {\"color\": \"royalblue\", \"dash\": \"dot\", \"width\": 3}}))\n",
    "fig.show()\n",
    "#fig.title(\"BMI Category Funnel Chart\",title_font_size=24,font_size=18)"
   ]
  },
  {
   "cell_type": "markdown",
   "id": "abf27310",
   "metadata": {},
   "source": [
    "# Q80.Delete the column age from Q26 iteratively."
   ]
  },
  {
   "cell_type": "code",
   "execution_count": null,
   "id": "0a6aa0eb",
   "metadata": {},
   "outputs": [],
   "source": [
    "import random as rd\n",
    "import random\n",
    "df1=df_Demography[\"ageCat\"]\n",
    "df['Age'] = [random.randint(1, 100) for _ in range(len(df1))]\n",
    "df['Age']\n",
    "df.drop(['Age'],axis=1,inplace=True)   "
   ]
  },
  {
   "cell_type": "code",
   "execution_count": null,
   "id": "f11a34d6",
   "metadata": {},
   "outputs": [],
   "source": []
  }
 ],
 "metadata": {
  "kernelspec": {
   "display_name": "Python 3 (ipykernel)",
   "language": "python",
   "name": "python3"
  },
  "language_info": {
   "codemirror_mode": {
    "name": "ipython",
    "version": 3
   },
   "file_extension": ".py",
   "mimetype": "text/x-python",
   "name": "python",
   "nbconvert_exporter": "python",
   "pygments_lexer": "ipython3",
   "version": "3.11.7"
  }
 },
 "nbformat": 4,
 "nbformat_minor": 5
}
