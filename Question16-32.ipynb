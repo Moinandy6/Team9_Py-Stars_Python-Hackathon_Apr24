{
 "cells": [
  {
   "cell_type": "markdown",
   "id": "517ecedd-77fa-4dc5-a869-8d6f3e1ed29f",
   "metadata": {},
   "source": [
    "import seaborn as sns\n",
    "import pandas as pd\n",
    "import numpy as np\n",
    "import matplotlib.pyplot as plt\n",
    "%matplotlib inline\n",
    "%reload_ext autoreload "
   ]
  },
  {
   "cell_type": "markdown",
   "id": "0cfe0558-101c-4c57-8ce5-a5a2af6c0d9d",
   "metadata": {},
   "source": [
    "Q1-Using arrays and loops find the number of patients who were Admitted in the month of November"
   ]
  },
  {
   "cell_type": "code",
   "execution_count": 816,
   "id": "0090239c-fdc9-4ff7-8a58-13fe1e190902",
   "metadata": {},
   "outputs": [],
   "source": [
    "H_df = pd.read_excel('Cardiac_Outcomes.xlsx',\"Hospitalization_Discharge\")\n",
    "p_df = pd.read_excel('Cardiac_Outcomes.xlsx',\"Patient_Precriptions\")\n",
    "cardiac_df=pd.read_excel('Cardiac_Outcomes.xlsx',\"CardiacComplications\")\n",
    "Res_df=pd.read_excel('Cardiac_Outcomes.xlsx',\"Responsivenes\")\n",
    "patient_df=pd.read_excel('Cardiac_Outcomes.xlsx',\"PatientHistory\")\n",
    "labs_df=pd.read_excel('Cardiac_Outcomes.xlsx',\"Labs\")\n",
    "Demo_df=pd.read_excel('Cardiac_Outcomes.xlsx',\"Demography\")\n",
    "\n",
    "\n",
    "\n",
    "\n",
    "\n"
   ]
  },
  {
   "cell_type": "code",
   "execution_count": 496,
   "id": "ee6058e8-8275-4123-972f-72ce938d1b6b",
   "metadata": {},
   "outputs": [
    {
     "name": "stdout",
     "output_type": "stream",
     "text": [
      "number of patients who were Admitted in the month of November 195\n"
     ]
    }
   ],
   "source": [
    "#Using arrays and loops find the number of patients who were Admitted in the month of November\n",
    "i=0\n",
    "\n",
    "\n",
    "admission_data=list(H_df['Admission_date'])\n",
    "\n",
    "for mont in admission_data:\n",
    "    # print(mont.month)\n",
    "    if(mont.month == 11):\n",
    "        i=i+1\n",
    "print(\"number of patients who were Admitted in the month of November\", i)\n",
    "#     Date_list = str(admission_data)\n",
    "#     x=Date_list[::1]\n",
    "#     print(x)\n",
    " \n",
    "\n",
    "\n",
    "\n",
    "\n",
    "        \n",
    "        "
   ]
  },
  {
   "cell_type": "code",
   "execution_count": 161,
   "id": "88360a8a-a904-472e-8984-990c74f85023",
   "metadata": {},
   "outputs": [
    {
     "name": "stdout",
     "output_type": "stream",
     "text": [
      "patients were prescribed Digoxin 999\n"
     ]
    }
   ],
   "source": [
    "#How many patients were prescribed Digoxin?\n",
    "p_df\n",
    "x=p_df[\"Drug_name\"]\n",
    "y=(x=='Digoxin tablet')\n",
    "z=y.sum()\n",
    "\n",
    "print(\"patients were prescribed Digoxin\", z)\n",
    "\n",
    "\n",
    "    \n",
    " \n",
    "\n"
   ]
  },
  {
   "cell_type": "code",
   "execution_count": null,
   "id": "b77ae08d-6f7e-45f5-a6c5-5d310e9abfc3",
   "metadata": {},
   "outputs": [],
   "source": [
    "#Which patient was on the most number of prescribed drugs? What was his age and outcome?"
   ]
  },
  {
   "cell_type": "code",
   "execution_count": 514,
   "id": "359ace83-df39-4b5f-a7e4-9ead0c0ee0a6",
   "metadata": {},
   "outputs": [
    {
     "name": "stdout",
     "output_type": "stream",
     "text": [
      "inpatient_number of patient_most number of prescribed drugs: 777204\n",
      "ageCat: 79-89\n",
      "outcome_during_hospitalization: Alive\n"
     ]
    }
   ],
   "source": [
    "p_df\n",
    "\n",
    "z=p_df\n",
    "k=H_df\n",
    "v=Demo_df\n",
    "a= {}\n",
    "for line in z.itertuples():\n",
    " \n",
    "    if a.get(line.inpatient_number):\n",
    "        a[line.inpatient_number]=a[line.inpatient_number]+1\n",
    "    else:\n",
    "         a[line.inpatient_number]=1\n",
    "        \n",
    "list_value=list(a.values())\n",
    "list_key=list(a.keys())\n",
    "y=max(list_value)\n",
    "\n",
    "print(\"inpatient_number of patient_most number of prescribed drugs:\", list_key[list_value.index(y)])\n",
    "\n",
    "a=list(v[\"ageCat\"])\n",
    "b=list(v[\"inpatient_number\"])\n",
    "x=a[b.index(list_key[list_value.index(y)])]\n",
    "print(\"ageCat:\",x )\n",
    "m=list(k[\"outcome_during_hospitalization\"])\n",
    "n=list(v[\"inpatient_number\"])\n",
    "xy=m[n.index(list_key[list_value.index(y)])]\n",
    "print(\"outcome_during_hospitalization:\",xy)"
   ]
  },
  {
   "cell_type": "code",
   "execution_count": 206,
   "id": "36c8b39b-09ff-4096-979a-3c32cf9192e0",
   "metadata": {
    "scrolled": true
   },
   "outputs": [
    {
     "data": {
      "text/plain": [
       "<Axes: >"
      ]
     },
     "execution_count": 206,
     "metadata": {},
     "output_type": "execute_result"
    },
    {
     "data": {
      "image/png": "[encoded data removed]",
      "text/plain": [
       "<Figure size 640x480 with 2 Axes>"
      ]
     },
     "metadata": {},
     "output_type": "display_data"
    }
   ],
   "source": [
    "x=Demo_df['weight']\n",
    "y=labs_df['pulse']\n",
    "joint_df = pd.DataFrame({'Weight': x, 'Pulse': y})\n",
    "df=joint_df.corr()\n",
    "sns.heatmap(df,annot=True, cmap='coolwarm')"
   ]
  },
  {
   "cell_type": "code",
   "execution_count": 737,
   "id": "bedcf941-ecc2-494c-b9d7-382fb9d1642a",
   "metadata": {},
   "outputs": [
    {
     "ename": "TypeError",
     "evalue": "'list' object is not callable",
     "output_type": "error",
     "traceback": [
      "\u001b[1;31m---------------------------------------------------------------------------\u001b[0m",
      "\u001b[1;31mTypeError\u001b[0m                                 Traceback (most recent call last)",
      "Cell \u001b[1;32mIn[737], line 10\u001b[0m\n\u001b[0;32m      3\u001b[0m data2\u001b[38;5;241m=\u001b[39mpd\u001b[38;5;241m.\u001b[39mDataFrame(Demo_df[\u001b[38;5;124m'\u001b[39m\u001b[38;5;124moccupation\u001b[39m\u001b[38;5;124m'\u001b[39m])\u001b[38;5;241m.\u001b[39mdrop_duplicates()\n\u001b[0;32m      4\u001b[0m \u001b[38;5;66;03m#pivot=Demo_df.groupby('occupation')['BMI'].mean()\u001b[39;00m\n\u001b[0;32m      5\u001b[0m \n\u001b[0;32m      6\u001b[0m \n\u001b[0;32m      7\u001b[0m \n\u001b[0;32m      8\u001b[0m \u001b[38;5;66;03m#fig=plt.figure()\u001b[39;00m\n\u001b[0;32m      9\u001b[0m \u001b[38;5;66;03m#ax=fig.add_axes([0,0,0.5,0.5])\u001b[39;00m\n\u001b[1;32m---> 10\u001b[0m y\u001b[38;5;241m=\u001b[39m\u001b[38;5;28mlist\u001b[39m(data1)\n\u001b[0;32m     11\u001b[0m x\u001b[38;5;241m=\u001b[39m\u001b[38;5;28mlist\u001b[39m(data2)\n\u001b[0;32m     12\u001b[0m plt\u001b[38;5;241m.\u001b[39mbar(x,y,color\u001b[38;5;241m=\u001b[39m\u001b[38;5;124m'\u001b[39m\u001b[38;5;124mb\u001b[39m\u001b[38;5;124m'\u001b[39m)\n",
      "\u001b[1;31mTypeError\u001b[0m: 'list' object is not callable"
     ]
    }
   ],
   "source": [
    "BMI = Demo_df['BMI']\n",
    "data1=pd.DataFrame(Demo_df['BMI']).mean()\n",
    "data2=pd.DataFrame(Demo_df['occupation']).drop_duplicates()\n",
    "#pivot=Demo_df.groupby('occupation')['BMI'].mean()\n",
    "\n",
    "\n",
    "\n",
    "#fig=plt.figure()\n",
    "#ax=fig.add_axes([0,0,0.5,0.5])\n",
    "y=list(data1)\n",
    "x=list(data2)\n",
    "plt.bar(x,y,color='b')\n",
    "\n",
    "       "
   ]
  },
  {
   "cell_type": "markdown",
   "id": "b015b73a-bc70-4836-bca2-d094bcd79f9b",
   "metadata": {},
   "source": [
    "\n",
    "#What percentage of those in a coma also have diabetes?\n"
   ]
  },
  {
   "cell_type": "code",
   "execution_count": null,
   "id": "4d032f8f-55aa-4002-8360-25c447d0d64e",
   "metadata": {},
   "outputs": [],
   "source": []
  },
  {
   "cell_type": "code",
   "execution_count": 482,
   "id": "9b574cfd-54ee-4efe-9792-25eb6e45bf45",
   "metadata": {},
   "outputs": [
    {
     "name": "stdout",
     "output_type": "stream",
     "text": [
      "0 857781 Male\n",
      "1 743087 Female\n",
      "2 866418 Male\n",
      "3 775928 Male\n",
      "4 810128 Female\n",
      "5 823318 Female\n",
      "6 844094 Male\n",
      "7 787530 Female\n",
      "8 795420 Female\n",
      "9 829801 Female\n"
     ]
    }
   ],
   "source": [
    "#Store patient number and gender in a dictionary as a pair of values. Show the first 10 values\n",
    "df=pd.DataFrame(Demo_df,columns=['inpatient_number','gender'])\n",
    "d={}\n",
    "for n in df.itertuples():\n",
    "    d[n.inpatient_number]=n.gender\n",
    "\n",
    "i=0\n",
    "for key, value in d.items():\n",
    "    if (i<10):\n",
    "        print(i, key, value)\n",
    "    i = i+1\n",
    "  \n",
    "    \n",
    "    \n",
    "         \n",
    "    \n"
   ]
  },
  {
   "cell_type": "code",
   "execution_count": null,
   "id": "bd686eed-f383-474d-80b8-5921403a9378",
   "metadata": {},
   "outputs": [],
   "source": []
  },
  {
   "cell_type": "markdown",
   "id": "3845733c-b53c-4365-a08f-eb5b2f107dea",
   "metadata": {},
   "source": [
    "#Combine admission_ward & admission_way and count the patients under the new group. Create a pie chart and explode the biggest wedge\n"
   ]
  },
  {
   "cell_type": "code",
   "execution_count": 686,
   "id": "0fdcbd7f-bd51-4a30-bbba-bc63a557f7be",
   "metadata": {},
   "outputs": [
    {
     "data": {
      "text/plain": [
       "<matplotlib.legend.Legend at 0x155235c46d0>"
      ]
     },
     "execution_count": 686,
     "metadata": {},
     "output_type": "execute_result"
    },
    {
     "data": {
      "image/png": "[encoded data removed]",
      "text/plain": [
       "<Figure size 640x480 with 1 Axes>"
      ]
     },
     "metadata": {},
     "output_type": "display_data"
    }
   ],
   "source": [
    "H_df\n",
    "x=H_df['inpatient_number']\n",
    "y=H_df['admission_way']\n",
    "z=H_df['admission_ward']\n",
    "\n",
    "df1= pd.DataFrame({'admission_ward': z, 'admission_way': y})\n",
    "df2=df1.value_counts()\n",
    "# print (df2)\n",
    "k=0\n",
    "t=0\n",
    "z=0\n",
    "explodes=[0]\n",
    "\n",
    "for n in df2:\n",
    "    # print(n)\n",
    "    if n>k:\n",
    "        k=n\n",
    "        t=z\n",
    "    z=z+1\n",
    "    \n",
    "    explodes = [0.4 if i == t else 0 for i in range(len(df2))]\n",
    "plt.pie(df2,labels=df2,explode= explodes)\n",
    "plt.legend(labels=y,loc=\"upper left\")\n",
    "\n",
    "\n",
    "\n",
    "\n",
    "\n",
    "\n",
    "\n",
    "\n",
    "\n",
    "\n",
    "\n",
    "\n"
   ]
  },
  {
   "cell_type": "code",
   "execution_count": 687,
   "id": "f524264a-8783-488f-8f53-811b8aa4a20d",
   "metadata": {},
   "outputs": [],
   "source": [
    "#Using GCS score, how many patients are considered to be in a coma?"
   ]
  },
  {
   "cell_type": "code",
   "execution_count": 728,
   "id": "a08e4dce-8e09-438a-aa80-e22ac5619a78",
   "metadata": {},
   "outputs": [
    {
     "name": "stdout",
     "output_type": "stream",
     "text": [
      " patients are considered to be in a coma: 19\n"
     ]
    }
   ],
   "source": [
    "y=Res_df[\"GCS\"]\n",
    "i=0\n",
    "for n in y:\n",
    "    \n",
    "    if(n<=8):\n",
    "        i=i+1\n",
    "print(\" patients are considered to be in a coma:\", i)\n",
    "       \n",
    "\n",
    "\n",
    "     \n",
    "\n",
    "        \n",
    "   \n",
    "\n",
    "\n",
    "\n"
   ]
  },
  {
   "cell_type": "code",
   "execution_count": null,
   "id": "344a6e5a-3848-406c-b611-596e2954c4e5",
   "metadata": {},
   "outputs": [],
   "source": [
    "#What percentage of those in a coma also have diabetes?"
   ]
  },
  {
   "cell_type": "code",
   "execution_count": 843,
   "id": "81dd2912-a48e-44cc-8b5a-487625829444",
   "metadata": {},
   "outputs": [
    {
     "name": "stdout",
     "output_type": "stream",
     "text": [
      "8854\n"
     ]
    }
   ],
   "source": [
    "k=patient_df[\"diabetes\"]\n",
    "y=Res_df[\"GCS\"]\n",
    "i=0\n",
    "j=0\n",
    "r=0\n",
    "\n",
    "for l in k:\n",
    "    if(l==1):\n",
    "     \n",
    "        for n in y:\n",
    "            if(n<=8):\n",
    "                i=i+1\n",
    "               \n",
    "    \n",
    "        \n",
    "       \n",
    "            \n",
    "         \n",
    "            \n",
    "       \n",
    "\n",
    "print(i)\n"
   ]
  },
  {
   "cell_type": "code",
   "execution_count": 802,
   "id": "a0341ebf-a5f4-4738-8de7-d7cd88faed94",
   "metadata": {},
   "outputs": [
    {
     "name": "stdout",
     "output_type": "stream",
     "text": [
      "466\n"
     ]
    }
   ],
   "source": [
    " for l in k:\n",
    "            if(l==1):\n",
    "                j=j+1\n",
    "\n",
    "\n",
    "for n in y:\n",
    "    if(n<=8):\n",
    "        i=i+1"
   ]
  },
  {
   "cell_type": "code",
   "execution_count": null,
   "id": "1328d448-456e-4c85-bfd8-8e1f45ceb922",
   "metadata": {},
   "outputs": [],
   "source": [
    "#\"Given the names and grades for each student in a class of students, store them in a nested list and print the name(s) of any student(s) having the second lowest grade.\n"
   ]
  },
  {
   "cell_type": "code",
   "execution_count": 732,
   "id": "2a497460-dda6-4e9f-b0e2-b66375970f91",
   "metadata": {},
   "outputs": [],
   "source": [
    "python_students = [['Harry', 37.21], ['Berry', 37.21], ['Tina', 37.2], ['Akriti', 41], ['Harsh', 39]]\n",
    "nested list\n"
   ]
  }
 ],
 "metadata": {
  "kernelspec": {
   "display_name": "Python 3 (ipykernel)",
   "language": "python",
   "name": "python3"
  },
  "language_info": {
   "codemirror_mode": {
    "name": "ipython",
    "version": 3
   },
   "file_extension": ".py",
   "mimetype": "text/x-python",
   "name": "python",
   "nbconvert_exporter": "python",
   "pygments_lexer": "ipython3",
   "version": "3.11.7"
  }
 },
 "nbformat": 4,
 "nbformat_minor": 5
}
