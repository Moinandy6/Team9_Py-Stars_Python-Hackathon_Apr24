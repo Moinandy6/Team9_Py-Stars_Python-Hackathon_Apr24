{
 "cells": [
  {
   "cell_type": "markdown",
   "id": "517ecedd-77fa-4dc5-a869-8d6f3e1ed29f",
   "metadata": {},
   "source": [
    "import seaborn as sns\n",
    "import pandas as pd\n",
    "import numpy as np\n",
    "import matplotlib.pyplot as plt\n",
    "%matplotlib inline\n",
    "%reload_ext autoreload "
   ]
  },
  {
   "cell_type": "markdown",
   "id": "0cfe0558-101c-4c57-8ce5-a5a2af6c0d9d",
   "metadata": {},
   "source": [
    "Q1-Using arrays and loops find the number of patients who were Admitted in the month of November"
   ]
  },
  {
   "cell_type": "code",
   "execution_count": 136,
   "id": "0090239c-fdc9-4ff7-8a58-13fe1e190902",
   "metadata": {},
   "outputs": [],
   "source": [
    "H_df = pd.read_excel('Cardiac_Outcomes.xlsx',\"Hospitalization_Discharge\")\n",
    "p_df = pd.read_excel('Cardiac_Outcomes.xlsx',\"Patient_Precriptions\")\n",
    "cardiac_df=pd.read_excel('Cardiac_Outcomes.xlsx',\"CardiacComplications\")\n",
    "Res_df=pd.read_excel('Cardiac_Outcomes.xlsx',\"Responsivenes\")\n",
    "patient_df=pd.read_excel('Cardiac_Outcomes.xlsx',\"PatientHistory\")\n",
    "labs_df=pd.read_excel('Cardiac_Outcomes.xlsx',\"Labs\")\n",
    "Demo_df=pd.read_excel('Cardiac_Outcomes.xlsx',\"Demography\")\n",
    "\n",
    "\n",
    "\n",
    "\n",
    "\n"
   ]
  },
  {
   "cell_type": "code",
   "execution_count": 496,
   "id": "ee6058e8-8275-4123-972f-72ce938d1b6b",
   "metadata": {},
   "outputs": [
    {
     "name": "stdout",
     "output_type": "stream",
     "text": [
      "number of patients who were Admitted in the month of November 195\n"
     ]
    }
   ],
   "source": [
    "#Using arrays and loops find the number of patients who were Admitted in the month of November\n",
    "i=0\n",
    "\n",
    "\n",
    "admission_data=list(H_df['Admission_date'])\n",
    "\n",
    "for mont in admission_data:\n",
    "    # print(mont.month)\n",
    "    if(mont.month == 11):\n",
    "        i=i+1\n",
    "print(\"number of patients who were Admitted in the month of November\", i)\n",
    "#     Date_list = str(admission_data)\n",
    "#     x=Date_list[::1]\n",
    "#     print(x)\n",
    " \n",
    "\n",
    "\n",
    "\n",
    "\n",
    "        \n",
    "        "
   ]
  },
  {
   "cell_type": "code",
   "execution_count": 161,
   "id": "88360a8a-a904-472e-8984-990c74f85023",
   "metadata": {},
   "outputs": [
    {
     "name": "stdout",
     "output_type": "stream",
     "text": [
      "patients were prescribed Digoxin 999\n"
     ]
    }
   ],
   "source": [
    "#How many patients were prescribed Digoxin?\n",
    "p_df\n",
    "x=p_df[\"Drug_name\"]\n",
    "y=(x=='Digoxin tablet')\n",
    "z=y.sum()\n",
    "\n",
    "print(\"patients were prescribed Digoxin\", z)\n",
    "\n",
    "\n",
    "    \n",
    " \n",
    "\n"
   ]
  },
  {
   "cell_type": "code",
   "execution_count": null,
   "id": "b77ae08d-6f7e-45f5-a6c5-5d310e9abfc3",
   "metadata": {},
   "outputs": [],
   "source": [
    "#Which patient was on the most number of prescribed drugs? What was his age and outcome?"
   ]
  },
  {
   "cell_type": "code",
   "execution_count": 514,
   "id": "359ace83-df39-4b5f-a7e4-9ead0c0ee0a6",
   "metadata": {},
   "outputs": [
    {
     "name": "stdout",
     "output_type": "stream",
     "text": [
      "inpatient_number of patient_most number of prescribed drugs: 777204\n",
      "ageCat: 79-89\n",
      "outcome_during_hospitalization: Alive\n"
     ]
    }
   ],
   "source": [
    "p_df\n",
    "\n",
    "z=p_df\n",
    "k=H_df\n",
    "v=Demo_df\n",
    "a= {}\n",
    "for line in z.itertuples():\n",
    " \n",
    "    if a.get(line.inpatient_number):\n",
    "        a[line.inpatient_number]=a[line.inpatient_number]+1\n",
    "    else:\n",
    "         a[line.inpatient_number]=1\n",
    "        \n",
    "list_value=list(a.values())\n",
    "list_key=list(a.keys())\n",
    "y=max(list_value)\n",
    "\n",
    "print(\"inpatient_number of patient_most number of prescribed drugs:\", list_key[list_value.index(y)])\n",
    "\n",
    "a=list(v[\"ageCat\"])\n",
    "b=list(v[\"inpatient_number\"])\n",
    "x=a[b.index(list_key[list_value.index(y)])]\n",
    "print(\"ageCat:\",x )\n",
    "m=list(k[\"outcome_during_hospitalization\"])\n",
    "n=list(v[\"inpatient_number\"])\n",
    "xy=m[n.index(list_key[list_value.index(y)])]\n",
    "print(\"outcome_during_hospitalization:\",xy)"
   ]
  },
  {
   "cell_type": "code",
   "execution_count": 206,
   "id": "36c8b39b-09ff-4096-979a-3c32cf9192e0",
   "metadata": {
    "scrolled": true
   },
   "outputs": [
    {
     "data": {
      "text/plain": [
       "<Axes: >"
      ]
     },
     "execution_count": 206,
     "metadata": {},
     "output_type": "execute_result"
    },
    {
     "data": {
      "image/png": "[encoded data removed]",
      "text/plain": [
       "<Figure size 640x480 with 2 Axes>"
      ]
     },
     "metadata": {},
     "output_type": "display_data"
    }
   ],
   "source": [
    "x=Demo_df['weight']\n",
    "y=labs_df['pulse']\n",
    "joint_df = pd.DataFrame({'Weight': x, 'Pulse': y})\n",
    "df=joint_df.corr()\n",
    "sns.heatmap(df,annot=True, cmap='coolwarm')"
   ]
  },
  {
   "cell_type": "code",
   "execution_count": 337,
   "id": "bedcf941-ecc2-494c-b9d7-382fb9d1642a",
   "metadata": {},
   "outputs": [
    {
     "data": {
      "text/plain": [
       "<BarContainer object of 1 artists>"
      ]
     },
     "execution_count": 337,
     "metadata": {},
     "output_type": "execute_result"
    },
    {
     "data": {
      "image/png": "[encoded data removed]",
      "text/plain": [
       "<Figure size 640x480 with 1 Axes>"
      ]
     },
     "metadata": {},
     "output_type": "display_data"
    }
   ],
   "source": [
    "BMI = Demo_df['BMI']\n",
    "data1=pd.DataFrame(Demo_df['BMI']).mean()\n",
    "data2=pd.DataFrame(Demo_df['occupation']).drop_duplicates()\n",
    "#pivot=Demo_df.groupby('occupation')['BMI'].mean()\n",
    "\n",
    "\n",
    "\n",
    "#fig=plt.figure()\n",
    "#ax=fig.add_axes([0,0,0.5,0.5])\n",
    "y=list(data1)\n",
    "x=list(data2)\n",
    "plt.bar(x,y,color='b')\n",
    "\n",
    "       "
   ]
  },
  {
   "cell_type": "markdown",
   "id": "b015b73a-bc70-4836-bca2-d094bcd79f9b",
   "metadata": {},
   "source": [
    "\n",
    "#What percentage of those in a coma also have diabetes?\n"
   ]
  },
  {
   "cell_type": "code",
   "execution_count": null,
   "id": "4d032f8f-55aa-4002-8360-25c447d0d64e",
   "metadata": {},
   "outputs": [],
   "source": []
  },
  {
   "cell_type": "code",
   "execution_count": 482,
   "id": "9b574cfd-54ee-4efe-9792-25eb6e45bf45",
   "metadata": {},
   "outputs": [
    {
     "name": "stdout",
     "output_type": "stream",
     "text": [
      "0 857781 Male\n",
      "1 743087 Female\n",
      "2 866418 Male\n",
      "3 775928 Male\n",
      "4 810128 Female\n",
      "5 823318 Female\n",
      "6 844094 Male\n",
      "7 787530 Female\n",
      "8 795420 Female\n",
      "9 829801 Female\n"
     ]
    }
   ],
   "source": [
    "#Store patient number and gender in a dictionary as a pair of values. Show the first 10 values\n",
    "df=pd.DataFrame(Demo_df,columns=['inpatient_number','gender'])\n",
    "d={}\n",
    "for n in df.itertuples():\n",
    "    d[n.inpatient_number]=n.gender\n",
    "\n",
    "i=0\n",
    "for key, value in d.items():\n",
    "    if (i<10):\n",
    "        print(i, key, value)\n",
    "    i = i+1\n",
    "  \n",
    "    \n",
    "    \n",
    "         \n",
    "    \n"
   ]
  },
  {
   "cell_type": "code",
   "execution_count": null,
   "id": "8755e7fc-738e-4e84-83a7-6e2bfac8fc17",
   "metadata": {},
   "outputs": [],
   "source": []
  }
 ],
 "metadata": {
  "kernelspec": {
   "display_name": "Python 3 (ipykernel)",
   "language": "python",
   "name": "python3"
  },
  "language_info": {
   "codemirror_mode": {
    "name": "ipython",
    "version": 3
   },
   "file_extension": ".py",
   "mimetype": "text/x-python",
   "name": "python",
   "nbconvert_exporter": "python",
   "pygments_lexer": "ipython3",
   "version": "3.11.7"
  }
 },
 "nbformat": 4,
 "nbformat_minor": 5
}
