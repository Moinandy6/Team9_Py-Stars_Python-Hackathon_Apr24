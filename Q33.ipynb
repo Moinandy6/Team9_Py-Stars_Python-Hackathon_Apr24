{
 "cells": [
  {
   "cell_type": "code",
   "execution_count": 1,
   "id": "71f1ed5e-1005-464b-a22d-eaa80d12eb5a",
   "metadata": {},
   "outputs": [],
   "source": [
    "import pandas as pd"
   ]
  },
  {
   "cell_type": "code",
   "execution_count": 11,
   "id": "2d96f8ab-e383-41fe-9358-aaade1548fc6",
   "metadata": {},
   "outputs": [
    {
     "name": "stdout",
     "output_type": "stream",
     "text": [
      "      inpatient_number  body_temperature  pulse  respiration  \\\n",
      "0               857781              36.7     87           19   \n",
      "1               743087              36.8     95           18   \n",
      "2               866418              36.5     98           18   \n",
      "3               775928              36.0     73           19   \n",
      "4               810128              35.0     88           19   \n",
      "...                ...               ...    ...          ...   \n",
      "2003            740689              36.1    117           22   \n",
      "2004            734280              36.3     70           21   \n",
      "2005            781004              36.8    113           19   \n",
      "2006            744870              36.4    134           19   \n",
      "2007            791864              36.3    100           19   \n",
      "\n",
      "      systolic_blood_pressure  diastolic_blood_pressure         map  fio2  \\\n",
      "0                         102                        64   76.666667    33   \n",
      "1                         150                        70   96.666667    33   \n",
      "2                         102                        67   78.666667    33   \n",
      "3                         110                        74   86.000000    33   \n",
      "4                         134                        62   86.000000    33   \n",
      "...                       ...                       ...         ...   ...   \n",
      "2003                      120                        80   93.333333    33   \n",
      "2004                      120                        86   97.333333    29   \n",
      "2005                      135                       100  111.666667    33   \n",
      "2006                       92                        72   78.666667    41   \n",
      "2007                      142                        80  100.666667    33   \n",
      "\n",
      "      creatinine_enzymatic_method   urea  ...  measured_residual_base  \\\n",
      "0                           108.3  12.55  ...                    -2.1   \n",
      "1                            62.0   4.29  ...                     NaN   \n",
      "2                           185.1  15.99  ...                     NaN   \n",
      "3                           104.8   8.16  ...                     NaN   \n",
      "4                            83.9   6.86  ...                     NaN   \n",
      "...                           ...    ...  ...                     ...   \n",
      "2003                        115.3   8.72  ...                     NaN   \n",
      "2004                         63.1   5.96  ...                     NaN   \n",
      "2005                         51.9   4.27  ...                     NaN   \n",
      "2006                        191.1  35.87  ...                    -2.5   \n",
      "2007                        104.0   9.26  ...                     NaN   \n",
      "\n",
      "      measured_bicarbonate  carboxyhemoglobin  body_temperature_blood_gas  \\\n",
      "0                     21.2                0.4                        37.0   \n",
      "1                      NaN                NaN                         NaN   \n",
      "2                      NaN                NaN                         NaN   \n",
      "3                      NaN                NaN                         NaN   \n",
      "4                      NaN                NaN                         NaN   \n",
      "...                    ...                ...                         ...   \n",
      "2003                   NaN                NaN                         NaN   \n",
      "2004                   NaN                NaN                         NaN   \n",
      "2005                   NaN                NaN                         NaN   \n",
      "2006                  18.8                0.3                        37.0   \n",
      "2007                   NaN                NaN                         NaN   \n",
      "\n",
      "      oxygen_saturation  partial_oxygen_pressure  oxyhemoglobin  anion_gap  \\\n",
      "0                  97.0                     93.0           95.9       17.8   \n",
      "1                   NaN                      NaN            NaN        NaN   \n",
      "2                   NaN                      NaN            NaN        NaN   \n",
      "3                   NaN                      NaN            NaN        NaN   \n",
      "4                   NaN                      NaN            NaN        NaN   \n",
      "...                 ...                      ...            ...        ...   \n",
      "2003                NaN                      NaN            NaN        NaN   \n",
      "2004                NaN                      NaN            NaN        NaN   \n",
      "2005                NaN                      NaN            NaN        NaN   \n",
      "2006               96.0                     84.0           95.6       21.8   \n",
      "2007                NaN                      NaN            NaN        NaN   \n",
      "\n",
      "      free_calcium  total_hemoglobin  \n",
      "0             1.14             125.0  \n",
      "1              NaN               NaN  \n",
      "2              NaN               NaN  \n",
      "3              NaN               NaN  \n",
      "4              NaN               NaN  \n",
      "...            ...               ...  \n",
      "2003           NaN               NaN  \n",
      "2004           NaN               NaN  \n",
      "2005           NaN               NaN  \n",
      "2006          0.94             139.0  \n",
      "2007           NaN               NaN  \n",
      "\n",
      "[2008 rows x 107 columns]\n"
     ]
    }
   ],
   "source": [
    "df_Labs=pd.read_excel(\"cardiac_outcomes.xlsx\",\"Labs\")\n",
    "df_Hospitalization_Discharge=pd.read_excel(\"cardiac_outcomes.xlsx\",\"Hospitalization_Discharge\")\n",
    "df_CardiacComplications=pd.read_excel(\"cardiac_outcomes.xlsx\",\"CardiacComplications\")\n",
    "df_Responsiveness=pd.read_excel(\"cardiac_outcomes.xlsx\",\"Responsiveness\")\n",
    "df_PatientHistory=pd.read_excel(\"cardiac_outcomes.xlsx\",\"PatientHistory\")\n",
    "df_Demography=pd.read_excel(\"cardiac_outcomes.xlsx\",\"Demography\")\n",
    "df_Patient_Precriptions=pd.read_excel(\"cardiac_outcomes.xlsx\",\"Patient_Precriptions\")\n",
    "\n"
   ]
  },
  {
   "cell_type": "markdown",
   "id": "f802b3ee-f9ce-4d38-8364-50f955e1816e",
   "metadata": {},
   "source": [
    "33.Retrieve the row with minimum white_blood_cell count using sorting technique."
   ]
  },
  {
   "cell_type": "code",
   "execution_count": 28,
   "id": "13575eda-c7e0-4af2-a27e-5006afd842f5",
   "metadata": {},
   "outputs": [
    {
     "data": {
      "text/html": [
       "<div>\n",
       "<style scoped>\n",
       "    .dataframe tbody tr th:only-of-type {\n",
       "        vertical-align: middle;\n",
       "    }\n",
       "\n",
       "    .dataframe tbody tr th {\n",
       "        vertical-align: top;\n",
       "    }\n",
       "\n",
       "    .dataframe thead th {\n",
       "        text-align: right;\n",
       "    }\n",
       "</style>\n",
       "<table border=\"1\" class=\"dataframe\">\n",
       "  <thead>\n",
       "    <tr style=\"text-align: right;\">\n",
       "      <th></th>\n",
       "      <th>inpatient_number</th>\n",
       "      <th>body_temperature</th>\n",
       "      <th>pulse</th>\n",
       "      <th>respiration</th>\n",
       "      <th>systolic_blood_pressure</th>\n",
       "      <th>diastolic_blood_pressure</th>\n",
       "      <th>map</th>\n",
       "      <th>fio2</th>\n",
       "      <th>creatinine_enzymatic_method</th>\n",
       "      <th>urea</th>\n",
       "      <th>...</th>\n",
       "      <th>measured_residual_base</th>\n",
       "      <th>measured_bicarbonate</th>\n",
       "      <th>carboxyhemoglobin</th>\n",
       "      <th>body_temperature_blood_gas</th>\n",
       "      <th>oxygen_saturation</th>\n",
       "      <th>partial_oxygen_pressure</th>\n",
       "      <th>oxyhemoglobin</th>\n",
       "      <th>anion_gap</th>\n",
       "      <th>free_calcium</th>\n",
       "      <th>total_hemoglobin</th>\n",
       "    </tr>\n",
       "  </thead>\n",
       "  <tbody>\n",
       "    <tr>\n",
       "      <th>865</th>\n",
       "      <td>746068</td>\n",
       "      <td>37.1</td>\n",
       "      <td>71</td>\n",
       "      <td>20</td>\n",
       "      <td>130</td>\n",
       "      <td>88</td>\n",
       "      <td>102.0</td>\n",
       "      <td>21</td>\n",
       "      <td>88.8</td>\n",
       "      <td>7.26</td>\n",
       "      <td>...</td>\n",
       "      <td>-2.6</td>\n",
       "      <td>21.6</td>\n",
       "      <td>0.3</td>\n",
       "      <td>37.0</td>\n",
       "      <td>97.0</td>\n",
       "      <td>95.0</td>\n",
       "      <td>96.3</td>\n",
       "      <td>16.8</td>\n",
       "      <td>1.11</td>\n",
       "      <td>94.0</td>\n",
       "    </tr>\n",
       "  </tbody>\n",
       "</table>\n",
       "<p>1 rows × 107 columns</p>\n",
       "</div>"
      ],
      "text/plain": [
       "     inpatient_number  body_temperature  pulse  respiration  \\\n",
       "865            746068              37.1     71           20   \n",
       "\n",
       "     systolic_blood_pressure  diastolic_blood_pressure    map  fio2  \\\n",
       "865                      130                        88  102.0    21   \n",
       "\n",
       "     creatinine_enzymatic_method  urea  ...  measured_residual_base  \\\n",
       "865                         88.8  7.26  ...                    -2.6   \n",
       "\n",
       "     measured_bicarbonate  carboxyhemoglobin  body_temperature_blood_gas  \\\n",
       "865                  21.6                0.3                        37.0   \n",
       "\n",
       "     oxygen_saturation  partial_oxygen_pressure  oxyhemoglobin  anion_gap  \\\n",
       "865               97.0                     95.0           96.3       16.8   \n",
       "\n",
       "     free_calcium  total_hemoglobin  \n",
       "865          1.11              94.0  \n",
       "\n",
       "[1 rows x 107 columns]"
      ]
     },
     "execution_count": 28,
     "metadata": {},
     "output_type": "execute_result"
    }
   ],
   "source": [
    "df_Labs=pd.read_excel(\"cardiac_outcomes.xlsx\",\"Labs\")\n",
    "white=df_Labs.sort_values(by=['white_blood_cell'])\n",
    "white.head(1) \n"
   ]
  },
  {
   "cell_type": "raw",
   "id": "f8362f14-cd1e-493b-968c-a875527cd6ab",
   "metadata": {},
   "source": [
    "34.get the last letter of discharge_department of patients using RegEX\n"
   ]
  },
  {
   "cell_type": "code",
   "execution_count": 45,
   "id": "ca9aafba-95ee-4c70-beef-f6ea2185f6b1",
   "metadata": {},
   "outputs": [],
   "source": [
    "df_Hospitalization_Discharge=pd.read_excel(\"cardiac_outcomes.xlsx\",\"Hospitalization_Discharge\")\n"
   ]
  },
  {
   "cell_type": "code",
   "execution_count": null,
   "id": "f90593df-aab4-4279-aab4-766f26b8f894",
   "metadata": {},
   "outputs": [],
   "source": []
  },
  {
   "cell_type": "markdown",
   "id": "1d35a1c7-b3d0-4336-8d0f-b04e6628e7f9",
   "metadata": {},
   "source": [
    "35.find the way to reverse string for given input (eg: input : This hackathon is about cardiac outcomes: outcomes cardiac about is hackathon This\n"
   ]
  },
  {
   "cell_type": "code",
   "execution_count": 19,
   "id": "77ab773e-8bad-40ef-84f7-f88ffa2521ef",
   "metadata": {},
   "outputs": [
    {
     "name": "stdout",
     "output_type": "stream",
     "text": [
      "outcomes cardiac about is hackthon This\n"
     ]
    }
   ],
   "source": [
    "string = \" This hackthon is about cardiac outcomes\"\n",
    "s = string.split() [::-1]\n",
    "l = []\n",
    "for i in s :\n",
    "   l.append(i)\n",
    "print(\" \".join(l))\n"
   ]
  },
  {
   "cell_type": "code",
   "execution_count": null,
   "id": "3c7b821a-516a-45c1-9612-664ed606f5e0",
   "metadata": {},
   "outputs": [],
   "source": [
    "Q.38 find the length of Tuple for any given input (Hint: Input a string from user )"
   ]
  },
  {
   "cell_type": "code",
   "execution_count": 37,
   "id": "10e404f0-4adc-4ce5-8955-1a69155e486e",
   "metadata": {},
   "outputs": [
    {
     "name": "stdin",
     "output_type": "stream",
     "text": [
      "Enter the string jag hjasvjhs shh. bvsj sjsa sb sb ssh jhsvjhs jh \n"
     ]
    },
    {
     "name": "stdout",
     "output_type": "stream",
     "text": [
      "10\n"
     ]
    }
   ],
   "source": [
    "name = ()\n",
    "name = input('Enter the string')\n",
    "t = tuple(name.split())\n",
    "print(len(t))"
   ]
  },
  {
   "cell_type": "markdown",
   "id": "24fa0bd4-eef0-475e-85c6-b4844b2a7790",
   "metadata": {},
   "source": [
    "Q40.Select 25 different random values between 200 to 800.\n"
   ]
  },
  {
   "cell_type": "code",
   "execution_count": 75,
   "id": "9544f265-fc68-4f71-949b-be198fed43f7",
   "metadata": {},
   "outputs": [
    {
     "name": "stdout",
     "output_type": "stream",
     "text": [
      "25 Random values between 200 to 800 :\n",
      "332\n",
      "399\n",
      "615\n",
      "605\n",
      "493\n",
      "767\n",
      "439\n",
      "358\n",
      "390\n",
      "679\n",
      "617\n",
      "321\n",
      "242\n",
      "638\n",
      "345\n",
      "615\n",
      "622\n",
      "673\n",
      "641\n",
      "274\n",
      "541\n",
      "775\n",
      "323\n",
      "405\n",
      "612\n"
     ]
    }
   ],
   "source": [
    "import random\n",
    "print(\"25 Random values between 200 to 800 :\")\n",
    "for i in range(25) :\n",
    "   y = random.randrange(200, 800)\n",
    "   print(y)"
   ]
  },
  {
   "cell_type": "code",
   "execution_count": null,
   "id": "241ffecd-f7a8-4ef4-b5e7-790f84312057",
   "metadata": {},
   "outputs": [],
   "source": []
  },
  {
   "cell_type": "code",
   "execution_count": null,
   "id": "2aad0fd5-b353-4d10-b517-a80579f82e9a",
   "metadata": {},
   "outputs": [],
   "source": []
  }
 ],
 "metadata": {
  "kernelspec": {
   "display_name": "Python 3 (ipykernel)",
   "language": "python",
   "name": "python3"
  },
  "language_info": {
   "codemirror_mode": {
    "name": "ipython",
    "version": 3
   },
   "file_extension": ".py",
   "mimetype": "text/x-python",
   "name": "python",
   "nbconvert_exporter": "python",
   "pygments_lexer": "ipython3",
   "version": "3.11.7"
  }
 },
 "nbformat": 4,
 "nbformat_minor": 5
}
