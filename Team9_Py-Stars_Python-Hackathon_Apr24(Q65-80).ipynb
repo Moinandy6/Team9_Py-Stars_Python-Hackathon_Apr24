{
 "cells": [
  {
   "cell_type": "code",
   "execution_count": 31,
   "id": "42f2e4d7",
   "metadata": {},
   "outputs": [],
   "source": [
    "import pandas as pd\n",
    "import numpy as np\n",
    "\n"
   ]
  },
  {
   "cell_type": "code",
   "execution_count": 56,
   "id": "e649c4b6",
   "metadata": {
    "scrolled": true
   },
   "outputs": [],
   "source": [
    "df_Hospitalization_Discharge = pd.read_excel(\"Cardiac_Outcomes.xlsx\",\"Hospitalization_Discharge\")\n",
    "df_Demography=pd.read_excel(\"Cardiac_Outcomes.xlsx\",\"Demography\")\n",
    "df_Patient_Precriptions=pd.read_excel(\"Cardiac_Outcomes.xlsx\",\"Patient_Precriptions\")\n",
    "df_CardiacComplications=pd.read_excel(\"Cardiac_Outcomes.xlsx\",\"CardiacComplications\")"
   ]
  },
  {
   "cell_type": "markdown",
   "id": "1c0781a4",
   "metadata": {},
   "source": [
    "# Q65.Which Admission Ward has maximum number of visits scheduled"
   ]
  },
  {
   "cell_type": "code",
   "execution_count": 199,
   "id": "067a8f95",
   "metadata": {
    "scrolled": true
   },
   "outputs": [
    {
     "data": {
      "text/plain": [
       "admission_ward\n",
       "Cardiology    1225\n",
       "Name: visit_times, dtype: int64"
      ]
     },
     "execution_count": 199,
     "metadata": {},
     "output_type": "execute_result"
    }
   ],
   "source": [
    "Visit_countMax = df_Hospitalization_Discharge.groupby('admission_ward')[\"visit_times\"].idxmax()\n",
    "Visit_countMax\n",
    "Visit_countMax.head(1)\n"
   ]
  },
  {
   "cell_type": "markdown",
   "id": "d51d5272",
   "metadata": {},
   "source": [
    "# Q66.Display total count of patients in each discharge_department based on gender"
   ]
  },
  {
   "cell_type": "code",
   "execution_count": 164,
   "id": "9243e4ad",
   "metadata": {},
   "outputs": [
    {
     "data": {
      "text/html": [
       "<div>\n",
       "<style scoped>\n",
       "    .dataframe tbody tr th:only-of-type {\n",
       "        vertical-align: middle;\n",
       "    }\n",
       "\n",
       "    .dataframe tbody tr th {\n",
       "        vertical-align: top;\n",
       "    }\n",
       "\n",
       "    .dataframe thead th {\n",
       "        text-align: right;\n",
       "    }\n",
       "</style>\n",
       "<table border=\"1\" class=\"dataframe\">\n",
       "  <thead>\n",
       "    <tr style=\"text-align: right;\">\n",
       "      <th>gender</th>\n",
       "    </tr>\n",
       "    <tr>\n",
       "      <th>discharge_department</th>\n",
       "    </tr>\n",
       "  </thead>\n",
       "  <tbody>\n",
       "  </tbody>\n",
       "</table>\n",
       "</div>"
      ],
      "text/plain": [
       "Empty DataFrame\n",
       "Columns: []\n",
       "Index: []"
      ]
     },
     "execution_count": 164,
     "metadata": {},
     "output_type": "execute_result"
    }
   ],
   "source": [
    "merged_df = pd.concat([df_Demography, df_Hospitalization_Discharge])\n",
    "grouped_df = merged_df.groupby(['discharge_department','gender']).size().unstack()\n",
    "grouped_df"
   ]
  },
  {
   "cell_type": "markdown",
   "id": "a7f655d2",
   "metadata": {},
   "source": [
    "# Q67.How many Unique patients were precribed each type of medication?"
   ]
  },
  {
   "cell_type": "code",
   "execution_count": 106,
   "id": "84e0759f",
   "metadata": {},
   "outputs": [
    {
     "data": {
      "text/plain": [
       "Drug_name\n",
       "Aspirin enteric-coated tablet                        958\n",
       "Atorvastatin calcium tablet                          822\n",
       "Benazepril hydrochloride tablet                      434\n",
       "Clopidogrel Hydrogen Sulphate tablet                 401\n",
       "Deslanoside injection                               1017\n",
       "Digoxin tablet                                       999\n",
       "Dobutamine hydrochloride injection                    22\n",
       "Enoxaparin Sodium injection                          113\n",
       "Furosemide injection                                1720\n",
       "Furosemide tablet                                   1641\n",
       "Heparin Sodium injection                             153\n",
       "Hydrochlorothiazide tablet                           283\n",
       "Isoprenaline Hydrochloride injection                  30\n",
       "Isosorbide Mononitrate Sustained Release tablet      326\n",
       "Meglumine Adenosine Cyclophosphate for injection    1115\n",
       "Metoprolol Succinate Sustained-release tablet        523\n",
       "Milrinone injection                                  709\n",
       "Nitroglycerin injection                              203\n",
       "Shenfu injection                                     338\n",
       "Spironolactone tablet                               1833\n",
       "Torasemide tablet                                    252\n",
       "Valsartan Dispersible tablet                         348\n",
       "metoprolol tartrate injection                        307\n",
       "sulfotanshinone sodium injection                     570\n",
       "warfarin sodium tablet                               253\n",
       "Name: inpatient_number, dtype: int64"
      ]
     },
     "execution_count": 106,
     "metadata": {},
     "output_type": "execute_result"
    }
   ],
   "source": [
    "Unique_patients_Per_Medication = df_Patient_Precriptions.groupby('Drug_name')['inpatient_number'].nunique()\n",
    "Unique_patients_Per_Medication"
   ]
  },
  {
   "cell_type": "markdown",
   "id": "a40f6f5a",
   "metadata": {},
   "source": [
    "# Q68.Find 5 patients with the highest Discharge days greater than 20. List their most common outcome"
   ]
  },
  {
   "cell_type": "code",
   "execution_count": 111,
   "id": "829223b3",
   "metadata": {},
   "outputs": [
    {
     "data": {
      "text/html": [
       "<div>\n",
       "<style scoped>\n",
       "    .dataframe tbody tr th:only-of-type {\n",
       "        vertical-align: middle;\n",
       "    }\n",
       "\n",
       "    .dataframe tbody tr th {\n",
       "        vertical-align: top;\n",
       "    }\n",
       "\n",
       "    .dataframe thead th {\n",
       "        text-align: right;\n",
       "    }\n",
       "</style>\n",
       "<table border=\"1\" class=\"dataframe\">\n",
       "  <thead>\n",
       "    <tr style=\"text-align: right;\">\n",
       "      <th></th>\n",
       "      <th>inpatient_number</th>\n",
       "      <th>dischargeDay</th>\n",
       "      <th>outcome_during_hospitalization</th>\n",
       "    </tr>\n",
       "  </thead>\n",
       "  <tbody>\n",
       "    <tr>\n",
       "      <th>884</th>\n",
       "      <td>794077</td>\n",
       "      <td>123</td>\n",
       "      <td>Alive</td>\n",
       "    </tr>\n",
       "    <tr>\n",
       "      <th>1613</th>\n",
       "      <td>768711</td>\n",
       "      <td>118</td>\n",
       "      <td>Alive</td>\n",
       "    </tr>\n",
       "    <tr>\n",
       "      <th>1548</th>\n",
       "      <td>791880</td>\n",
       "      <td>88</td>\n",
       "      <td>Alive</td>\n",
       "    </tr>\n",
       "    <tr>\n",
       "      <th>1573</th>\n",
       "      <td>794784</td>\n",
       "      <td>82</td>\n",
       "      <td>Alive</td>\n",
       "    </tr>\n",
       "    <tr>\n",
       "      <th>1513</th>\n",
       "      <td>757711</td>\n",
       "      <td>76</td>\n",
       "      <td>Alive</td>\n",
       "    </tr>\n",
       "  </tbody>\n",
       "</table>\n",
       "</div>"
      ],
      "text/plain": [
       "      inpatient_number  dischargeDay outcome_during_hospitalization\n",
       "884             794077           123                          Alive\n",
       "1613            768711           118                          Alive\n",
       "1548            791880            88                          Alive\n",
       "1573            794784            82                          Alive\n",
       "1513            757711            76                          Alive"
      ]
     },
     "execution_count": 111,
     "metadata": {},
     "output_type": "execute_result"
    }
   ],
   "source": [
    "Filtered_patients = df_Hospitalization_Discharge[df_Hospitalization_Discharge['dischargeDay'] > 20]\n",
    "#Filtered_patients\n",
    "#selected_columns = df_Hospitalization_Discharge.loc[:, ['inpatient_number', 'dischargeDay', 'outcome_during_hospitalization']]\n",
    "#selected_columns\n",
    "Top_5_patients = Filtered_patients.nlargest(5, 'dischargeDay')\n",
    "Top_5_patients\n",
    "selected_columns=Top_5_patients.loc[:, ['inpatient_number', 'dischargeDay', 'outcome_during_hospitalization']]\n",
    "selected_columns"
   ]
  },
  {
   "cell_type": "markdown",
   "id": "8c8890e6",
   "metadata": {},
   "source": [
    "# Q69.Get the list of patient ID's which are not there in prescriptions but in demographics"
   ]
  },
  {
   "cell_type": "code",
   "execution_count": 112,
   "id": "07b3f05f",
   "metadata": {},
   "outputs": [
    {
     "data": {
      "text/plain": [
       "[789308]"
      ]
     },
     "execution_count": 112,
     "metadata": {},
     "output_type": "execute_result"
    }
   ],
   "source": [
    "Demographics_IDs = set(df_Demography['inpatient_number'])\n",
    "Prescriptions_IDs = set(df_Patient_Precriptions['inpatient_number'])\n",
    "Missing_IDs = Demographics_IDs - Prescriptions_IDs\n",
    "Missing_IDs_List = list(Missing_IDs)\n",
    "Missing_IDs_List"
   ]
  },
  {
   "cell_type": "markdown",
   "id": "6edc69a1",
   "metadata": {},
   "source": [
    "# Q70.On average, what is the most frequent weekday of admission?"
   ]
  },
  {
   "cell_type": "code",
   "execution_count": 121,
   "id": "b0962836",
   "metadata": {},
   "outputs": [
    {
     "data": {
      "text/plain": [
       "'On average, the most frequent weekday of admission is Monday'"
      ]
     },
     "execution_count": 121,
     "metadata": {},
     "output_type": "execute_result"
    }
   ],
   "source": [
    "df_Hospitalization_Discharge['weekday'] = pd.to_datetime(df_Hospitalization_Discharge['Admission_date']).dt.dayofweek\n",
    "Weekday_count = df_Hospitalization_Discharge['weekday'].value_counts()\n",
    "Most_Frequent_Weekday = Weekday_count.index[0]\n",
    "Weekday_Names = ['Monday', 'Tuesday', 'Wednesday', 'Thursday', 'Friday', 'Saturday', 'Sunday']\n",
    "Most_Frequent_Weekday_Name = Weekday_Names[Most_Frequent_Weekday]\n",
    "f\"On average, the most frequent weekday of admission is {Most_Frequent_Weekday_Name}\""
   ]
  },
  {
   "cell_type": "markdown",
   "id": "24715ece",
   "metadata": {},
   "source": [
    "# Q71.Which year had the maximum admissions"
   ]
  },
  {
   "cell_type": "code",
   "execution_count": 132,
   "id": "89a1e124",
   "metadata": {},
   "outputs": [
    {
     "data": {
      "text/plain": [
       "'The year with the maximum admissions is 2016'"
      ]
     },
     "execution_count": 132,
     "metadata": {},
     "output_type": "execute_result"
    }
   ],
   "source": [
    "df_Hospitalization_Discharge['year'] = pd.to_datetime(df_Hospitalization_Discharge['Admission_date']).dt.year\n",
    "Max_Admissions_Year = df_Hospitalization_Discharge['year'].value_counts().idxmax()\n",
    "f\"The year with the maximum admissions is {Max_Admissions_Year}\""
   ]
  },
  {
   "cell_type": "markdown",
   "id": "86232fd4",
   "metadata": {},
   "source": [
    "# Q72.What % of the dataset is male vs female?"
   ]
  },
  {
   "cell_type": "code",
   "execution_count": 141,
   "id": "14edb674",
   "metadata": {},
   "outputs": [
    {
     "data": {
      "text/plain": [
       "gender\n",
       "Female    57.918327\n",
       "Male      42.081673\n",
       "Name: count, dtype: float64"
      ]
     },
     "execution_count": 141,
     "metadata": {},
     "output_type": "execute_result"
    }
   ],
   "source": [
    "#Male_count = df_Demography['gender'].value_counts()['Male']\n",
    "#Female_count = df_Demography['gender'].value_counts()['Female']\n",
    "#Male_count\n",
    "#Female_count\n",
    "#Male_percentage = (Male_count / Total_Patients) * 100\n",
    "#Female_percentage = (Female_count / Total_Patients) * 100\n",
    "#Male_percentage\n",
    "#Female_percentage\n",
    "Gender_Count = df_Demography['gender'].value_counts()\n",
    "Gender_Count\n",
    "Total_Patients = len(df_Demography)\n",
    "Gender_Percentage=(Gender_Count / Total_Patients) * 100\n",
    "Gender_Percentage"
   ]
  },
  {
   "cell_type": "markdown",
   "id": "2e642bb5",
   "metadata": {},
   "source": [
    "# Q73.Which patient in the youngest age category weighs the most?"
   ]
  },
  {
   "cell_type": "code",
   "execution_count": 196,
   "id": "b1896954",
   "metadata": {},
   "outputs": [
    {
     "data": {
      "text/plain": [
       "inpatient_number    831184\n",
       "weight                82.5\n",
       "ageCat               21-29\n",
       "Name: 1092, dtype: object"
      ]
     },
     "execution_count": 196,
     "metadata": {},
     "output_type": "execute_result"
    }
   ],
   "source": [
    "df_Demography=pd.read_excel(\"Cardiac_Outcomes.xlsx\",\"Demography\")\n",
    "df_YoungestAge = df_Demography[df_Demography.ageCat == df_Demography.ageCat.min()]\n",
    "df_MaxWeight = df_YoungestAge.loc[df_YoungestAge['weight'].idxmax()]\n",
    "#df_MaxWeight\n",
    "Selected_Rows = df_MaxWeight[[\"inpatient_number\",\"weight\",\"ageCat\"]]\n",
    "Selected_Rows"
   ]
  },
  {
   "cell_type": "markdown",
   "id": "90cdfb7e",
   "metadata": {},
   "source": [
    "# Q74.Which adm ward had the lowest rate of Outcome Death?"
   ]
  },
  {
   "cell_type": "code",
   "execution_count": 166,
   "id": "39a78501",
   "metadata": {},
   "outputs": [
    {
     "data": {
      "text/plain": [
       "'GeneralWard'"
      ]
     },
     "execution_count": 166,
     "metadata": {},
     "output_type": "execute_result"
    }
   ],
   "source": [
    "Death_Rate = df_Hospitalization_Discharge.groupby('admission_ward')['outcome_during_hospitalization'].apply(lambda x: (x == 'Dead').sum() / len(x))\n",
    "Lowest_Death_Rate_Outcome = Death_Rate.idxmin()\n",
    "Lowest_Death_Rate_Outcome"
   ]
  },
  {
   "cell_type": "markdown",
   "id": "a853ca40",
   "metadata": {},
   "source": [
    "# Q75.What % of those with an outcome of death, had myocardial infarction?"
   ]
  },
  {
   "cell_type": "code",
   "execution_count": 84,
   "id": "0beeb58e",
   "metadata": {},
   "outputs": [
    {
     "data": {
      "text/html": [
       "<div>\n",
       "<style scoped>\n",
       "    .dataframe tbody tr th:only-of-type {\n",
       "        vertical-align: middle;\n",
       "    }\n",
       "\n",
       "    .dataframe tbody tr th {\n",
       "        vertical-align: top;\n",
       "    }\n",
       "\n",
       "    .dataframe thead th {\n",
       "        text-align: right;\n",
       "    }\n",
       "</style>\n",
       "<table border=\"1\" class=\"dataframe\">\n",
       "  <thead>\n",
       "    <tr style=\"text-align: right;\">\n",
       "      <th></th>\n",
       "      <th>count</th>\n",
       "    </tr>\n",
       "    <tr>\n",
       "      <th>outcome_during_hospitalization</th>\n",
       "      <th></th>\n",
       "    </tr>\n",
       "  </thead>\n",
       "  <tbody>\n",
       "    <tr>\n",
       "      <th>Dead</th>\n",
       "      <td>9.090909</td>\n",
       "    </tr>\n",
       "  </tbody>\n",
       "</table>\n",
       "</div>"
      ],
      "text/plain": [
       "                                   count\n",
       "outcome_during_hospitalization          \n",
       "Dead                            9.090909"
      ]
     },
     "execution_count": 84,
     "metadata": {},
     "output_type": "execute_result"
    }
   ],
   "source": [
    "#df1=df_Hospitalization_Discharge\n",
    "#df2=df_CardiacComplications\n",
    "#df_Merged=pd.merge(df1,df2)\n",
    "#df_Merged\n",
    "#df_Death = df_Merged[df_Merged['outcome_during_hospitalization'] == 'dead']\n",
    "#df_Death\n",
    "#df_MI = df_Merged[df_Merged['myocardial_infarction'] == '1']\n",
    "#df_MI\n",
    "#Total_DeathCount = len(df_Death)\n",
    "#Total_DeathCount\n",
    "#Total_MIcount=len(df_MI)\n",
    "#Percentage_MI_Death=(Total_MIcount/Total_DeathCount)*100\n",
    "#Percentage_MI_Death\n",
    "DeathOutcome_count = df_Hospitalization_Discharge[df_Hospitalization_Discharge['outcome_during_hospitalization'] == 'Dead'][['inpatient_number', 'outcome_during_hospitalization']]\n",
    "DeathOutcome_count\n",
    "Total_DeathCount=DeathOutcome_count['outcome_during_hospitalization'].value_counts().to_frame('count')\n",
    "Total_DeathCount\n",
    "Common_inpatient_number = pd.merge(DeathOutcome_count,df_CardiacComplications, how='inner', on=['inpatient_number'])\n",
    "Common_inpatient_number\n",
    "Percentage_MI_Death=(1/Total_DeathCount)*100\n",
    "Percentage_MI_Death"
   ]
  },
  {
   "cell_type": "markdown",
   "id": "1ec470e3",
   "metadata": {},
   "source": [
    "# Q19.Create a bar chart by making list on Avg BMI and occupation column (with no duplicates) & make the hatchs onto the bar by using set_hatch() method"
   ]
  },
  {
   "cell_type": "code",
   "execution_count": 21,
   "id": "97dcb74a",
   "metadata": {},
   "outputs": [
    {
     "name": "stdout",
     "output_type": "stream",
     "text": [
      "Requirement already satisfied: matplotlib in c:\\users\\moi\\anaconda3\\lib\\site-packages (3.7.2)\n",
      "Requirement already satisfied: contourpy>=1.0.1 in c:\\users\\moi\\anaconda3\\lib\\site-packages (from matplotlib) (1.0.5)\n",
      "Requirement already satisfied: cycler>=0.10 in c:\\users\\moi\\anaconda3\\lib\\site-packages (from matplotlib) (0.11.0)\n",
      "Requirement already satisfied: fonttools>=4.22.0 in c:\\users\\moi\\anaconda3\\lib\\site-packages (from matplotlib) (4.25.0)\n",
      "Requirement already satisfied: kiwisolver>=1.0.1 in c:\\users\\moi\\anaconda3\\lib\\site-packages (from matplotlib) (1.4.4)\n",
      "Requirement already satisfied: numpy>=1.20 in c:\\users\\moi\\anaconda3\\lib\\site-packages (from matplotlib) (1.24.3)\n",
      "Requirement already satisfied: packaging>=20.0 in c:\\users\\moi\\anaconda3\\lib\\site-packages (from matplotlib) (23.1)\n",
      "Requirement already satisfied: pillow>=6.2.0 in c:\\users\\moi\\anaconda3\\lib\\site-packages (from matplotlib) (9.4.0)\n",
      "Requirement already satisfied: pyparsing<3.1,>=2.3.1 in c:\\users\\moi\\anaconda3\\lib\\site-packages (from matplotlib) (3.0.9)\n",
      "Requirement already satisfied: python-dateutil>=2.7 in c:\\users\\moi\\anaconda3\\lib\\site-packages (from matplotlib) (2.8.2)\n",
      "Requirement already satisfied: six>=1.5 in c:\\users\\moi\\anaconda3\\lib\\site-packages (from python-dateutil>=2.7->matplotlib) (1.16.0)\n",
      "Note: you may need to restart the kernel to use updated packages.\n"
     ]
    }
   ],
   "source": [
    "pip install matplotlib\n"
   ]
  },
  {
   "cell_type": "code",
   "execution_count": null,
   "id": "04fc729d",
   "metadata": {},
   "outputs": [],
   "source": []
  }
 ],
 "metadata": {
  "kernelspec": {
   "display_name": "Python 3 (ipykernel)",
   "language": "python",
   "name": "python3"
  },
  "language_info": {
   "codemirror_mode": {
    "name": "ipython",
    "version": 3
   },
   "file_extension": ".py",
   "mimetype": "text/x-python",
   "name": "python",
   "nbconvert_exporter": "python",
   "pygments_lexer": "ipython3",
   "version": "3.11.5"
  }
 },
 "nbformat": 4,
 "nbformat_minor": 5
}
