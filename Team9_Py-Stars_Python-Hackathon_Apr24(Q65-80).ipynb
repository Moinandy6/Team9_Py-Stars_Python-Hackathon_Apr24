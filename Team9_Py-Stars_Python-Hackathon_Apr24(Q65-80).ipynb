{
 "cells": [
  {
   "cell_type": "code",
   "execution_count": 4,
   "id": "42f2e4d7",
   "metadata": {},
   "outputs": [],
   "source": [
    "import pandas as pd\n",
    "import numpy as np\n",
    "\n"
   ]
  },
  {
   "cell_type": "code",
   "execution_count": 117,
   "id": "e649c4b6",
   "metadata": {},
   "outputs": [],
   "source": [
    "df_Hospitalization_Discharge = pd.read_excel(\"Cardiac_Outcomes.xlsx\",\"Hospitalization_Discharge\")\n",
    "df_Demography=pd.read_excel(\"Cardiac_Outcomes.xlsx\",\"Demography\")\n",
    "df_Patient_Precriptions=pd.read_excel(\"Cardiac_Outcomes.xlsx\",\"Patient_Precriptions\")"
   ]
  },
  {
   "cell_type": "markdown",
   "id": "1c0781a4",
   "metadata": {},
   "source": [
    "# Q65.Which Admission Ward has maximum number of visits scheduled"
   ]
  },
  {
   "cell_type": "code",
   "execution_count": 59,
   "id": "067a8f95",
   "metadata": {
    "scrolled": true
   },
   "outputs": [
    {
     "data": {
      "text/plain": [
       "admission_ward\n",
       "Cardiology     1225\n",
       "GeneralWard    1058\n",
       "ICU             180\n",
       "Others          211\n",
       "Name: visit_times, dtype: int64"
      ]
     },
     "execution_count": 59,
     "metadata": {},
     "output_type": "execute_result"
    }
   ],
   "source": [
    "Visit_countMax = df_Hospitalization_Discharge.groupby(by=\"admission_ward\")[\"visit_times\"].idxmax()\n",
    "Visit_countMax\n"
   ]
  },
  {
   "cell_type": "markdown",
   "id": "d51d5272",
   "metadata": {},
   "source": [
    "# Q66.Display total count of patients in each discharge_department based on gender"
   ]
  },
  {
   "cell_type": "code",
   "execution_count": 98,
   "id": "9243e4ad",
   "metadata": {},
   "outputs": [
    {
     "data": {
      "text/html": [
       "<div>\n",
       "<style scoped>\n",
       "    .dataframe tbody tr th:only-of-type {\n",
       "        vertical-align: middle;\n",
       "    }\n",
       "\n",
       "    .dataframe tbody tr th {\n",
       "        vertical-align: top;\n",
       "    }\n",
       "\n",
       "    .dataframe thead th {\n",
       "        text-align: right;\n",
       "    }\n",
       "</style>\n",
       "<table border=\"1\" class=\"dataframe\">\n",
       "  <thead>\n",
       "    <tr style=\"text-align: right;\">\n",
       "      <th>gender</th>\n",
       "    </tr>\n",
       "    <tr>\n",
       "      <th>discharge_department</th>\n",
       "    </tr>\n",
       "  </thead>\n",
       "  <tbody>\n",
       "  </tbody>\n",
       "</table>\n",
       "</div>"
      ],
      "text/plain": [
       "Empty DataFrame\n",
       "Columns: []\n",
       "Index: []"
      ]
     },
     "execution_count": 98,
     "metadata": {},
     "output_type": "execute_result"
    }
   ],
   "source": [
    "merged_df = pd.concat([df_Demography, df_Hospitalization_Discharge])\n",
    "grouped_df = merged_df.groupby(['discharge_department','gender']).size().unstack()\n",
    "grouped_df"
   ]
  },
  {
   "cell_type": "markdown",
   "id": "26a7c7b3",
   "metadata": {},
   "source": [
    "# Q67.How many Unique patients were precribed each type of medication?"
   ]
  },
  {
   "cell_type": "code",
   "execution_count": 106,
   "id": "d56f65d4",
   "metadata": {},
   "outputs": [
    {
     "data": {
      "text/plain": [
       "Drug_name\n",
       "Aspirin enteric-coated tablet                        958\n",
       "Atorvastatin calcium tablet                          822\n",
       "Benazepril hydrochloride tablet                      434\n",
       "Clopidogrel Hydrogen Sulphate tablet                 401\n",
       "Deslanoside injection                               1017\n",
       "Digoxin tablet                                       999\n",
       "Dobutamine hydrochloride injection                    22\n",
       "Enoxaparin Sodium injection                          113\n",
       "Furosemide injection                                1720\n",
       "Furosemide tablet                                   1641\n",
       "Heparin Sodium injection                             153\n",
       "Hydrochlorothiazide tablet                           283\n",
       "Isoprenaline Hydrochloride injection                  30\n",
       "Isosorbide Mononitrate Sustained Release tablet      326\n",
       "Meglumine Adenosine Cyclophosphate for injection    1115\n",
       "Metoprolol Succinate Sustained-release tablet        523\n",
       "Milrinone injection                                  709\n",
       "Nitroglycerin injection                              203\n",
       "Shenfu injection                                     338\n",
       "Spironolactone tablet                               1833\n",
       "Torasemide tablet                                    252\n",
       "Valsartan Dispersible tablet                         348\n",
       "metoprolol tartrate injection                        307\n",
       "sulfotanshinone sodium injection                     570\n",
       "warfarin sodium tablet                               253\n",
       "Name: inpatient_number, dtype: int64"
      ]
     },
     "execution_count": 106,
     "metadata": {},
     "output_type": "execute_result"
    }
   ],
   "source": [
    "Unique_patients_Per_Medication = df_Patient_Precriptions.groupby('Drug_name')['inpatient_number'].nunique()\n",
    "Unique_patients_Per_Medication"
   ]
  },
  {
   "cell_type": "markdown",
   "id": "a8bdad53",
   "metadata": {},
   "source": [
    "# Q68.Find 5 patients with the highest Discharge days greater than 20. List their most common outcome"
   ]
  },
  {
   "cell_type": "code",
   "execution_count": 111,
   "id": "5eb912e6",
   "metadata": {},
   "outputs": [
    {
     "data": {
      "text/html": [
       "<div>\n",
       "<style scoped>\n",
       "    .dataframe tbody tr th:only-of-type {\n",
       "        vertical-align: middle;\n",
       "    }\n",
       "\n",
       "    .dataframe tbody tr th {\n",
       "        vertical-align: top;\n",
       "    }\n",
       "\n",
       "    .dataframe thead th {\n",
       "        text-align: right;\n",
       "    }\n",
       "</style>\n",
       "<table border=\"1\" class=\"dataframe\">\n",
       "  <thead>\n",
       "    <tr style=\"text-align: right;\">\n",
       "      <th></th>\n",
       "      <th>inpatient_number</th>\n",
       "      <th>dischargeDay</th>\n",
       "      <th>outcome_during_hospitalization</th>\n",
       "    </tr>\n",
       "  </thead>\n",
       "  <tbody>\n",
       "    <tr>\n",
       "      <th>884</th>\n",
       "      <td>794077</td>\n",
       "      <td>123</td>\n",
       "      <td>Alive</td>\n",
       "    </tr>\n",
       "    <tr>\n",
       "      <th>1613</th>\n",
       "      <td>768711</td>\n",
       "      <td>118</td>\n",
       "      <td>Alive</td>\n",
       "    </tr>\n",
       "    <tr>\n",
       "      <th>1548</th>\n",
       "      <td>791880</td>\n",
       "      <td>88</td>\n",
       "      <td>Alive</td>\n",
       "    </tr>\n",
       "    <tr>\n",
       "      <th>1573</th>\n",
       "      <td>794784</td>\n",
       "      <td>82</td>\n",
       "      <td>Alive</td>\n",
       "    </tr>\n",
       "    <tr>\n",
       "      <th>1513</th>\n",
       "      <td>757711</td>\n",
       "      <td>76</td>\n",
       "      <td>Alive</td>\n",
       "    </tr>\n",
       "  </tbody>\n",
       "</table>\n",
       "</div>"
      ],
      "text/plain": [
       "      inpatient_number  dischargeDay outcome_during_hospitalization\n",
       "884             794077           123                          Alive\n",
       "1613            768711           118                          Alive\n",
       "1548            791880            88                          Alive\n",
       "1573            794784            82                          Alive\n",
       "1513            757711            76                          Alive"
      ]
     },
     "execution_count": 111,
     "metadata": {},
     "output_type": "execute_result"
    }
   ],
   "source": [
    "Filtered_patients = df_Hospitalization_Discharge[df_Hospitalization_Discharge['dischargeDay'] > 20]\n",
    "#Filtered_patients\n",
    "#selected_columns = df_Hospitalization_Discharge.loc[:, ['inpatient_number', 'dischargeDay', 'outcome_during_hospitalization']]\n",
    "#selected_columns\n",
    "Top_5_patients = Filtered_patients.nlargest(5, 'dischargeDay')\n",
    "Top_5_patients\n",
    "selected_columns=Top_5_patients.loc[:, ['inpatient_number', 'dischargeDay', 'outcome_during_hospitalization']]\n",
    "selected_columns"
   ]
  },
  {
   "cell_type": "markdown",
   "id": "302734a1",
   "metadata": {},
   "source": [
    "# Q69.Get the list of patient ID's which are not there in prescriptions but in demographics"
   ]
  },
  {
   "cell_type": "code",
   "execution_count": 112,
   "id": "9aefb5ff",
   "metadata": {},
   "outputs": [
    {
     "data": {
      "text/plain": [
       "[789308]"
      ]
     },
     "execution_count": 112,
     "metadata": {},
     "output_type": "execute_result"
    }
   ],
   "source": [
    "Demographics_IDs = set(df_Demography['inpatient_number'])\n",
    "Prescriptions_IDs = set(df_Patient_Precriptions['inpatient_number'])\n",
    "Missing_IDs = Demographics_IDs - Prescriptions_IDs\n",
    "Missing_IDs_List = list(Missing_IDs)\n",
    "Missing_IDs_List"
   ]
  },
  {
   "cell_type": "markdown",
   "id": "069070cd",
   "metadata": {},
   "source": [
    "# Q70.On average, what is the most frequent weekday of admission?"
   ]
  },
  {
   "cell_type": "code",
   "execution_count": 121,
   "id": "e1e0e3c1",
   "metadata": {},
   "outputs": [
    {
     "data": {
      "text/plain": [
       "'On average, the most frequent weekday of admission is Monday'"
      ]
     },
     "execution_count": 121,
     "metadata": {},
     "output_type": "execute_result"
    }
   ],
   "source": [
    "df_Hospitalization_Discharge['weekday'] = pd.to_datetime(df_Hospitalization_Discharge['Admission_date']).dt.dayofweek\n",
    "Weekday_count = df_Hospitalization_Discharge['weekday'].value_counts()\n",
    "Most_Frequent_Weekday = Weekday_count.index[0]\n",
    "Weekday_Names = ['Monday', 'Tuesday', 'Wednesday', 'Thursday', 'Friday', 'Saturday', 'Sunday']\n",
    "Most_Frequent_Weekday_Name = Weekday_Names[Most_Frequent_Weekday]\n",
    "f\"On average, the most frequent weekday of admission is {Most_Frequent_Weekday_Name}\""
   ]
  },
  {
   "cell_type": "code",
   "execution_count": null,
   "id": "3cfdd07c",
   "metadata": {},
   "outputs": [],
   "source": []
  }
 ],
 "metadata": {
  "kernelspec": {
   "display_name": "Python 3 (ipykernel)",
   "language": "python",
   "name": "python3"
  },
  "language_info": {
   "codemirror_mode": {
    "name": "ipython",
    "version": 3
   },
   "file_extension": ".py",
   "mimetype": "text/x-python",
   "name": "python",
   "nbconvert_exporter": "python",
   "pygments_lexer": "ipython3",
   "version": "3.11.5"
  }
 },
 "nbformat": 4,
 "nbformat_minor": 5
}
