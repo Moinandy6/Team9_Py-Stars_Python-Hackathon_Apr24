{
 "cells": [
  {
   "cell_type": "code",
   "execution_count": 31,
   "id": "42f2e4d7",
   "metadata": {},
   "outputs": [],
   "source": [
    "import pandas as pd\n",
    "import numpy as np\n",
    "\n"
   ]
  },
  {
   "cell_type": "code",
   "execution_count": 144,
   "id": "e649c4b6",
   "metadata": {
    "scrolled": true
   },
   "outputs": [],
   "source": [
    "df_Hospitalization_Discharge = pd.read_excel(\"Cardiac_Outcomes.xlsx\",\"Hospitalization_Discharge\")\n",
    "df_Demography=pd.read_excel(\"Cardiac_Outcomes.xlsx\",\"Demography\")\n",
    "df_Patient_Precriptions=pd.read_excel(\"Cardiac_Outcomes.xlsx\",\"Patient_Precriptions\")\n",
    "df_CardiacComplications=pd.read_excel(\"Cardiac_Outcomes.xlsx\",\"CardiacComplications\")\n",
    "df_Labs=pd.read_excel(\"Cardiac_Outcomes.xlsx\",\"Labs\")"
   ]
  },
  {
   "cell_type": "markdown",
   "id": "1c0781a4",
   "metadata": {},
   "source": [
    "# Q65.Which Admission Ward has maximum number of visits scheduled"
   ]
  },
  {
   "cell_type": "code",
   "execution_count": 199,
   "id": "067a8f95",
   "metadata": {
    "scrolled": true
   },
   "outputs": [
    {
     "data": {
      "text/plain": [
       "admission_ward\n",
       "Cardiology    1225\n",
       "Name: visit_times, dtype: int64"
      ]
     },
     "execution_count": 199,
     "metadata": {},
     "output_type": "execute_result"
    }
   ],
   "source": [
    "Visit_countMax = df_Hospitalization_Discharge.groupby('admission_ward')[\"visit_times\"].idxmax()\n",
    "Visit_countMax\n",
    "Visit_countMax.head(1)\n"
   ]
  },
  {
   "cell_type": "markdown",
   "id": "d51d5272",
   "metadata": {},
   "source": [
    "# Q66.Display total count of patients in each discharge_department based on gender"
   ]
  },
  {
   "cell_type": "code",
   "execution_count": 167,
   "id": "9243e4ad",
   "metadata": {},
   "outputs": [
    {
     "data": {
      "text/html": [
       "<div>\n",
       "<style scoped>\n",
       "    .dataframe tbody tr th:only-of-type {\n",
       "        vertical-align: middle;\n",
       "    }\n",
       "\n",
       "    .dataframe tbody tr th {\n",
       "        vertical-align: top;\n",
       "    }\n",
       "\n",
       "    .dataframe thead th {\n",
       "        text-align: right;\n",
       "    }\n",
       "</style>\n",
       "<table border=\"1\" class=\"dataframe\">\n",
       "  <thead>\n",
       "    <tr style=\"text-align: right;\">\n",
       "      <th>gender</th>\n",
       "      <th>Female</th>\n",
       "      <th>Male</th>\n",
       "    </tr>\n",
       "    <tr>\n",
       "      <th>discharge_department</th>\n",
       "      <th></th>\n",
       "      <th></th>\n",
       "    </tr>\n",
       "  </thead>\n",
       "  <tbody>\n",
       "    <tr>\n",
       "      <th>Cardiology</th>\n",
       "      <td>993</td>\n",
       "      <td>710</td>\n",
       "    </tr>\n",
       "    <tr>\n",
       "      <th>GeneralWard</th>\n",
       "      <td>137</td>\n",
       "      <td>104</td>\n",
       "    </tr>\n",
       "    <tr>\n",
       "      <th>ICU</th>\n",
       "      <td>5</td>\n",
       "      <td>7</td>\n",
       "    </tr>\n",
       "    <tr>\n",
       "      <th>Others</th>\n",
       "      <td>28</td>\n",
       "      <td>24</td>\n",
       "    </tr>\n",
       "  </tbody>\n",
       "</table>\n",
       "</div>"
      ],
      "text/plain": [
       "gender                Female  Male\n",
       "discharge_department              \n",
       "Cardiology               993   710\n",
       "GeneralWard              137   104\n",
       "ICU                        5     7\n",
       "Others                    28    24"
      ]
     },
     "execution_count": 167,
     "metadata": {},
     "output_type": "execute_result"
    }
   ],
   "source": [
    "#df_merged = pd.concat([df_Demography, df_Hospitalization_Discharge])\n",
    "#df_grouped = merged_df.groupby(['discharge_department','gender']).size().unstack()\n",
    "#df_grouped\n",
    "df1=df_Hospitalization_Discharge\n",
    "df2=df_Demography\n",
    "df_Merged=pd.merge(df1,df2)\n",
    "df_Merged\n",
    "df_grouped = df_Merged.groupby(['discharge_department','gender']).size().unstack()\n",
    "df_grouped"
   ]
  },
  {
   "cell_type": "markdown",
   "id": "a7f655d2",
   "metadata": {},
   "source": [
    "# Q67.How many Unique patients were precribed each type of medication?"
   ]
  },
  {
   "cell_type": "code",
   "execution_count": 106,
   "id": "84e0759f",
   "metadata": {},
   "outputs": [
    {
     "data": {
      "text/plain": [
       "Drug_name\n",
       "Aspirin enteric-coated tablet                        958\n",
       "Atorvastatin calcium tablet                          822\n",
       "Benazepril hydrochloride tablet                      434\n",
       "Clopidogrel Hydrogen Sulphate tablet                 401\n",
       "Deslanoside injection                               1017\n",
       "Digoxin tablet                                       999\n",
       "Dobutamine hydrochloride injection                    22\n",
       "Enoxaparin Sodium injection                          113\n",
       "Furosemide injection                                1720\n",
       "Furosemide tablet                                   1641\n",
       "Heparin Sodium injection                             153\n",
       "Hydrochlorothiazide tablet                           283\n",
       "Isoprenaline Hydrochloride injection                  30\n",
       "Isosorbide Mononitrate Sustained Release tablet      326\n",
       "Meglumine Adenosine Cyclophosphate for injection    1115\n",
       "Metoprolol Succinate Sustained-release tablet        523\n",
       "Milrinone injection                                  709\n",
       "Nitroglycerin injection                              203\n",
       "Shenfu injection                                     338\n",
       "Spironolactone tablet                               1833\n",
       "Torasemide tablet                                    252\n",
       "Valsartan Dispersible tablet                         348\n",
       "metoprolol tartrate injection                        307\n",
       "sulfotanshinone sodium injection                     570\n",
       "warfarin sodium tablet                               253\n",
       "Name: inpatient_number, dtype: int64"
      ]
     },
     "execution_count": 106,
     "metadata": {},
     "output_type": "execute_result"
    }
   ],
   "source": [
    "Unique_patients_Per_Medication = df_Patient_Precriptions.groupby('Drug_name')['inpatient_number'].nunique()\n",
    "Unique_patients_Per_Medication"
   ]
  },
  {
   "cell_type": "markdown",
   "id": "a40f6f5a",
   "metadata": {},
   "source": [
    "# Q68.Find 5 patients with the highest Discharge days greater than 20. List their most common outcome"
   ]
  },
  {
   "cell_type": "code",
   "execution_count": 111,
   "id": "829223b3",
   "metadata": {},
   "outputs": [
    {
     "data": {
      "text/html": [
       "<div>\n",
       "<style scoped>\n",
       "    .dataframe tbody tr th:only-of-type {\n",
       "        vertical-align: middle;\n",
       "    }\n",
       "\n",
       "    .dataframe tbody tr th {\n",
       "        vertical-align: top;\n",
       "    }\n",
       "\n",
       "    .dataframe thead th {\n",
       "        text-align: right;\n",
       "    }\n",
       "</style>\n",
       "<table border=\"1\" class=\"dataframe\">\n",
       "  <thead>\n",
       "    <tr style=\"text-align: right;\">\n",
       "      <th></th>\n",
       "      <th>inpatient_number</th>\n",
       "      <th>dischargeDay</th>\n",
       "      <th>outcome_during_hospitalization</th>\n",
       "    </tr>\n",
       "  </thead>\n",
       "  <tbody>\n",
       "    <tr>\n",
       "      <th>884</th>\n",
       "      <td>794077</td>\n",
       "      <td>123</td>\n",
       "      <td>Alive</td>\n",
       "    </tr>\n",
       "    <tr>\n",
       "      <th>1613</th>\n",
       "      <td>768711</td>\n",
       "      <td>118</td>\n",
       "      <td>Alive</td>\n",
       "    </tr>\n",
       "    <tr>\n",
       "      <th>1548</th>\n",
       "      <td>791880</td>\n",
       "      <td>88</td>\n",
       "      <td>Alive</td>\n",
       "    </tr>\n",
       "    <tr>\n",
       "      <th>1573</th>\n",
       "      <td>794784</td>\n",
       "      <td>82</td>\n",
       "      <td>Alive</td>\n",
       "    </tr>\n",
       "    <tr>\n",
       "      <th>1513</th>\n",
       "      <td>757711</td>\n",
       "      <td>76</td>\n",
       "      <td>Alive</td>\n",
       "    </tr>\n",
       "  </tbody>\n",
       "</table>\n",
       "</div>"
      ],
      "text/plain": [
       "      inpatient_number  dischargeDay outcome_during_hospitalization\n",
       "884             794077           123                          Alive\n",
       "1613            768711           118                          Alive\n",
       "1548            791880            88                          Alive\n",
       "1573            794784            82                          Alive\n",
       "1513            757711            76                          Alive"
      ]
     },
     "execution_count": 111,
     "metadata": {},
     "output_type": "execute_result"
    }
   ],
   "source": [
    "Filtered_patients = df_Hospitalization_Discharge[df_Hospitalization_Discharge['dischargeDay'] > 20]\n",
    "#Filtered_patients\n",
    "#selected_columns = df_Hospitalization_Discharge.loc[:, ['inpatient_number', 'dischargeDay', 'outcome_during_hospitalization']]\n",
    "#selected_columns\n",
    "Top_5_patients = Filtered_patients.nlargest(5, 'dischargeDay')\n",
    "Top_5_patients\n",
    "selected_columns=Top_5_patients.loc[:, ['inpatient_number', 'dischargeDay', 'outcome_during_hospitalization']]\n",
    "selected_columns"
   ]
  },
  {
   "cell_type": "markdown",
   "id": "8c8890e6",
   "metadata": {},
   "source": [
    "# Q69.Get the list of patient ID's which are not there in prescriptions but in demographics"
   ]
  },
  {
   "cell_type": "code",
   "execution_count": 112,
   "id": "07b3f05f",
   "metadata": {},
   "outputs": [
    {
     "data": {
      "text/plain": [
       "[789308]"
      ]
     },
     "execution_count": 112,
     "metadata": {},
     "output_type": "execute_result"
    }
   ],
   "source": [
    "Demographics_IDs = set(df_Demography['inpatient_number'])\n",
    "Prescriptions_IDs = set(df_Patient_Precriptions['inpatient_number'])\n",
    "Missing_IDs = Demographics_IDs - Prescriptions_IDs\n",
    "Missing_IDs_List = list(Missing_IDs)\n",
    "Missing_IDs_List"
   ]
  },
  {
   "cell_type": "markdown",
   "id": "6edc69a1",
   "metadata": {},
   "source": [
    "# Q70.On average, what is the most frequent weekday of admission?"
   ]
  },
  {
   "cell_type": "code",
   "execution_count": 121,
   "id": "b0962836",
   "metadata": {},
   "outputs": [
    {
     "data": {
      "text/plain": [
       "'On average, the most frequent weekday of admission is Monday'"
      ]
     },
     "execution_count": 121,
     "metadata": {},
     "output_type": "execute_result"
    }
   ],
   "source": [
    "df_Hospitalization_Discharge['weekday'] = pd.to_datetime(df_Hospitalization_Discharge['Admission_date']).dt.dayofweek\n",
    "Weekday_count = df_Hospitalization_Discharge['weekday'].value_counts()\n",
    "Most_Frequent_Weekday = Weekday_count.index[0]\n",
    "Weekday_Names = ['Monday', 'Tuesday', 'Wednesday', 'Thursday', 'Friday', 'Saturday', 'Sunday']\n",
    "Most_Frequent_Weekday_Name = Weekday_Names[Most_Frequent_Weekday]\n",
    "f\"On average, the most frequent weekday of admission is {Most_Frequent_Weekday_Name}\""
   ]
  },
  {
   "cell_type": "markdown",
   "id": "24715ece",
   "metadata": {},
   "source": [
    "# Q71.Which year had the maximum admissions"
   ]
  },
  {
   "cell_type": "code",
   "execution_count": 132,
   "id": "89a1e124",
   "metadata": {},
   "outputs": [
    {
     "data": {
      "text/plain": [
       "'The year with the maximum admissions is 2016'"
      ]
     },
     "execution_count": 132,
     "metadata": {},
     "output_type": "execute_result"
    }
   ],
   "source": [
    "df_Hospitalization_Discharge['year'] = pd.to_datetime(df_Hospitalization_Discharge['Admission_date']).dt.year\n",
    "Max_Admissions_Year = df_Hospitalization_Discharge['year'].value_counts().idxmax()\n",
    "f\"The year with the maximum admissions is {Max_Admissions_Year}\""
   ]
  },
  {
   "cell_type": "markdown",
   "id": "86232fd4",
   "metadata": {},
   "source": [
    "# Q72.What % of the dataset is male vs female?"
   ]
  },
  {
   "cell_type": "code",
   "execution_count": 141,
   "id": "14edb674",
   "metadata": {},
   "outputs": [
    {
     "data": {
      "text/plain": [
       "gender\n",
       "Female    57.918327\n",
       "Male      42.081673\n",
       "Name: count, dtype: float64"
      ]
     },
     "execution_count": 141,
     "metadata": {},
     "output_type": "execute_result"
    }
   ],
   "source": [
    "#Male_count = df_Demography['gender'].value_counts()['Male']\n",
    "#Female_count = df_Demography['gender'].value_counts()['Female']\n",
    "#Male_count\n",
    "#Female_count\n",
    "#Male_percentage = (Male_count / Total_Patients) * 100\n",
    "#Female_percentage = (Female_count / Total_Patients) * 100\n",
    "#Male_percentage\n",
    "#Female_percentage\n",
    "Gender_Count = df_Demography['gender'].value_counts()\n",
    "Gender_Count\n",
    "Total_Patients = len(df_Demography)\n",
    "Gender_Percentage=(Gender_Count / Total_Patients) * 100\n",
    "Gender_Percentage"
   ]
  },
  {
   "cell_type": "markdown",
   "id": "2e642bb5",
   "metadata": {},
   "source": [
    "# Q73.Which patient in the youngest age category weighs the most?"
   ]
  },
  {
   "cell_type": "code",
   "execution_count": 196,
   "id": "b1896954",
   "metadata": {},
   "outputs": [
    {
     "data": {
      "text/plain": [
       "inpatient_number    831184\n",
       "weight                82.5\n",
       "ageCat               21-29\n",
       "Name: 1092, dtype: object"
      ]
     },
     "execution_count": 196,
     "metadata": {},
     "output_type": "execute_result"
    }
   ],
   "source": [
    "df_Demography=pd.read_excel(\"Cardiac_Outcomes.xlsx\",\"Demography\")\n",
    "df_YoungestAge = df_Demography[df_Demography.ageCat == df_Demography.ageCat.min()]\n",
    "df_MaxWeight = df_YoungestAge.loc[df_YoungestAge['weight'].idxmax()]\n",
    "#df_MaxWeight\n",
    "Selected_Rows = df_MaxWeight[[\"inpatient_number\",\"weight\",\"ageCat\"]]\n",
    "Selected_Rows"
   ]
  },
  {
   "cell_type": "markdown",
   "id": "90cdfb7e",
   "metadata": {},
   "source": [
    "# Q74.Which adm ward had the lowest rate of Outcome Death?"
   ]
  },
  {
   "cell_type": "code",
   "execution_count": 166,
   "id": "39a78501",
   "metadata": {},
   "outputs": [
    {
     "data": {
      "text/plain": [
       "'GeneralWard'"
      ]
     },
     "execution_count": 166,
     "metadata": {},
     "output_type": "execute_result"
    }
   ],
   "source": [
    "Death_Rate = df_Hospitalization_Discharge.groupby('admission_ward')['outcome_during_hospitalization'].apply(lambda x: (x == 'Dead').sum() / len(x))\n",
    "Lowest_Death_Rate_Outcome = Death_Rate.idxmin()\n",
    "Lowest_Death_Rate_Outcome"
   ]
  },
  {
   "cell_type": "markdown",
   "id": "a853ca40",
   "metadata": {},
   "source": [
    "# Q75.What % of those with an outcome of death, had myocardial infarction?"
   ]
  },
  {
   "cell_type": "code",
   "execution_count": 128,
   "id": "0beeb58e",
   "metadata": {
    "scrolled": true
   },
   "outputs": [
    {
     "data": {
      "text/html": [
       "<div>\n",
       "<style scoped>\n",
       "    .dataframe tbody tr th:only-of-type {\n",
       "        vertical-align: middle;\n",
       "    }\n",
       "\n",
       "    .dataframe tbody tr th {\n",
       "        vertical-align: top;\n",
       "    }\n",
       "\n",
       "    .dataframe thead th {\n",
       "        text-align: right;\n",
       "    }\n",
       "</style>\n",
       "<table border=\"1\" class=\"dataframe\">\n",
       "  <thead>\n",
       "    <tr style=\"text-align: right;\">\n",
       "      <th></th>\n",
       "      <th>count</th>\n",
       "    </tr>\n",
       "    <tr>\n",
       "      <th>outcome_during_hospitalization</th>\n",
       "      <th></th>\n",
       "    </tr>\n",
       "  </thead>\n",
       "  <tbody>\n",
       "    <tr>\n",
       "      <th>Dead</th>\n",
       "      <td>11</td>\n",
       "    </tr>\n",
       "  </tbody>\n",
       "</table>\n",
       "</div>"
      ],
      "text/plain": [
       "                                count\n",
       "outcome_during_hospitalization       \n",
       "Dead                               11"
      ]
     },
     "execution_count": 128,
     "metadata": {},
     "output_type": "execute_result"
    }
   ],
   "source": [
    "#df1=df_Hospitalization_Discharge\n",
    "#df2=df_CardiacComplications\n",
    "#df_Merged=pd.merge(df1,df2)\n",
    "#df_Merged\n",
    "#df_Death = df_Merged[df_Merged['outcome_during_hospitalization'] == 'dead']\n",
    "#df_Death\n",
    "#df_MI = df_Merged[df_Merged['myocardial_infarction'] == '1']\n",
    "#df_MI\n",
    "#Total_DeathCount = len(df_Death)\n",
    "#Total_DeathCount\n",
    "#Total_MIcount=len(df_MI)\n",
    "#Percentage_MI_Death=(Total_MIcount/Total_DeathCount)*100\n",
    "#Percentage_MI_Death\n",
    "DeathOutcome_count = df_Hospitalization_Discharge[df_Hospitalization_Discharge['outcome_during_hospitalization'] == 'Dead'][['inpatient_number','outcome_during_hospitalization']]\n",
    "#DeathOutcome_count\n",
    "Total_DeathCount=DeathOutcome_count['outcome_during_hospitalization'].value_counts().to_frame('count')\n",
    "Total_DeathCount"
   ]
  },
  {
   "cell_type": "code",
   "execution_count": 118,
   "id": "8eacfaf4",
   "metadata": {},
   "outputs": [
    {
     "data": {
      "text/html": [
       "<div>\n",
       "<style scoped>\n",
       "    .dataframe tbody tr th:only-of-type {\n",
       "        vertical-align: middle;\n",
       "    }\n",
       "\n",
       "    .dataframe tbody tr th {\n",
       "        vertical-align: top;\n",
       "    }\n",
       "\n",
       "    .dataframe thead th {\n",
       "        text-align: right;\n",
       "    }\n",
       "</style>\n",
       "<table border=\"1\" class=\"dataframe\">\n",
       "  <thead>\n",
       "    <tr style=\"text-align: right;\">\n",
       "      <th></th>\n",
       "      <th>count</th>\n",
       "    </tr>\n",
       "    <tr>\n",
       "      <th>myocardial_infarction</th>\n",
       "      <th></th>\n",
       "    </tr>\n",
       "  </thead>\n",
       "  <tbody>\n",
       "    <tr>\n",
       "      <th>1</th>\n",
       "      <td>1</td>\n",
       "    </tr>\n",
       "  </tbody>\n",
       "</table>\n",
       "</div>"
      ],
      "text/plain": [
       "                       count\n",
       "myocardial_infarction       \n",
       "1                          1"
      ]
     },
     "execution_count": 118,
     "metadata": {},
     "output_type": "execute_result"
    }
   ],
   "source": [
    "Patient_MI = df_CardiacComplications[df_CardiacComplications['myocardial_infarction'] >0]\n",
    "Patient_MI\n",
    "Total_MI_Count=Common_inpatient_number['myocardial_infarction'].value_counts().to_frame('count')\n",
    "Total_MI_Count\n",
    "#Common_inpatient_number = pd.merge(DeathOutcome_count,Patient_MI, how='inner', on=['inpatient_number'])\n",
    "#Common_inpatient_number"
   ]
  },
  {
   "cell_type": "code",
   "execution_count": 116,
   "id": "e06a7342",
   "metadata": {},
   "outputs": [
    {
     "data": {
      "text/plain": [
       "9.090909090909092"
      ]
     },
     "execution_count": 116,
     "metadata": {},
     "output_type": "execute_result"
    }
   ],
   "source": [
    "Percentage_MI_Death=(1/11)*100\n",
    "Percentage_MI_Death"
   ]
  },
  {
   "cell_type": "markdown",
   "id": "1ec470e3",
   "metadata": {},
   "source": [
    "# Q19.Create a bar chart by making list on Avg BMI and occupation column (with no duplicates) & make the hatchs onto the bar by using set_hatch() method"
   ]
  },
  {
   "cell_type": "code",
   "execution_count": 133,
   "id": "97dcb74a",
   "metadata": {},
   "outputs": [],
   "source": [
    "import matplotlib.pyplot as plt\n"
   ]
  },
  {
   "cell_type": "markdown",
   "id": "79e0d1cf",
   "metadata": {},
   "source": [
    "# Q76.What is the ratio of those with congestive heart failure to those who had type of heart failure Both?"
   ]
  },
  {
   "cell_type": "code",
   "execution_count": 119,
   "id": "46be38d0",
   "metadata": {},
   "outputs": [
    {
     "data": {
      "text/html": [
       "<div>\n",
       "<style scoped>\n",
       "    .dataframe tbody tr th:only-of-type {\n",
       "        vertical-align: middle;\n",
       "    }\n",
       "\n",
       "    .dataframe tbody tr th {\n",
       "        vertical-align: top;\n",
       "    }\n",
       "\n",
       "    .dataframe thead th {\n",
       "        text-align: right;\n",
       "    }\n",
       "</style>\n",
       "<table border=\"1\" class=\"dataframe\">\n",
       "  <thead>\n",
       "    <tr style=\"text-align: right;\">\n",
       "      <th></th>\n",
       "      <th>count</th>\n",
       "    </tr>\n",
       "    <tr>\n",
       "      <th>congestive_heart_failure</th>\n",
       "      <th></th>\n",
       "    </tr>\n",
       "  </thead>\n",
       "  <tbody>\n",
       "    <tr>\n",
       "      <th>1</th>\n",
       "      <td>1872</td>\n",
       "    </tr>\n",
       "  </tbody>\n",
       "</table>\n",
       "</div>"
      ],
      "text/plain": [
       "                          count\n",
       "congestive_heart_failure       \n",
       "1                          1872"
      ]
     },
     "execution_count": 119,
     "metadata": {},
     "output_type": "execute_result"
    }
   ],
   "source": [
    "CHF_Patients = df_CardiacComplications[df_CardiacComplications['congestive_heart_failure'] > 0]\n",
    "#CHF_Patients\n",
    "CHF_Count=CHF_Patients['congestive_heart_failure'].value_counts().to_frame('count')\n",
    "CHF_Count\n"
   ]
  },
  {
   "cell_type": "code",
   "execution_count": 120,
   "id": "3fdea289",
   "metadata": {},
   "outputs": [
    {
     "data": {
      "text/html": [
       "<div>\n",
       "<style scoped>\n",
       "    .dataframe tbody tr th:only-of-type {\n",
       "        vertical-align: middle;\n",
       "    }\n",
       "\n",
       "    .dataframe tbody tr th {\n",
       "        vertical-align: top;\n",
       "    }\n",
       "\n",
       "    .dataframe thead th {\n",
       "        text-align: right;\n",
       "    }\n",
       "</style>\n",
       "<table border=\"1\" class=\"dataframe\">\n",
       "  <thead>\n",
       "    <tr style=\"text-align: right;\">\n",
       "      <th></th>\n",
       "      <th>count</th>\n",
       "    </tr>\n",
       "    <tr>\n",
       "      <th>type_of_heart_failure</th>\n",
       "      <th></th>\n",
       "    </tr>\n",
       "  </thead>\n",
       "  <tbody>\n",
       "    <tr>\n",
       "      <th>Both</th>\n",
       "      <td>1480</td>\n",
       "    </tr>\n",
       "  </tbody>\n",
       "</table>\n",
       "</div>"
      ],
      "text/plain": [
       "                       count\n",
       "type_of_heart_failure       \n",
       "Both                    1480"
      ]
     },
     "execution_count": 120,
     "metadata": {},
     "output_type": "execute_result"
    }
   ],
   "source": [
    "Typeof_HF_Patients = df_CardiacComplications[df_CardiacComplications['type_of_heart_failure'] == 'Both']\n",
    "#Typeof_HF_Patients\n",
    "Typeof_HF_Count=Typeof_HF_Patients['type_of_heart_failure'].value_counts().to_frame('count')\n",
    "Typeof_HF_Count"
   ]
  },
  {
   "cell_type": "code",
   "execution_count": 125,
   "id": "18436414",
   "metadata": {},
   "outputs": [
    {
     "data": {
      "text/plain": [
       "1.2648648648648648"
      ]
     },
     "execution_count": 125,
     "metadata": {},
     "output_type": "execute_result"
    }
   ],
   "source": [
    "CHF_Typeof_HF_Ratio=1872/1480\n",
    "CHF_Typeof_HF_Ratio\n",
    "#Ratio=CHF_Count['>0'] / Typeof_HF_Count['Both']\n",
    "#Ratio"
   ]
  },
  {
   "cell_type": "markdown",
   "id": "8cd37341",
   "metadata": {},
   "source": [
    "# Q77.LIst the number of cardiogenic shock patients based on hospitalization outcome, having a severe GCS score(higher risk of death) "
   ]
  },
  {
   "cell_type": "markdown",
   "id": "2c3f311e",
   "metadata": {},
   "source": [
    "# Q78.Give the count of patients who have experinced tachicardia or bradycardia."
   ]
  },
  {
   "cell_type": "code",
   "execution_count": 163,
   "id": "38eee250",
   "metadata": {},
   "outputs": [
    {
     "data": {
      "text/plain": [
       "'The count of patients who have Brachycardia is 154'"
      ]
     },
     "execution_count": 163,
     "metadata": {},
     "output_type": "execute_result"
    }
   ],
   "source": [
    "Pulse_Range = [df_Labs['pulse'] <60,df_Labs['pulse'] >60,df_Labs['pulse'] >100]\n",
    "Pulse_Categories = ['brachycardia','Normal','tachycardia']\n",
    "df['Pulse_Categories'] = np.select(Pulse_Range,Pulse_Categories)\n",
    "df['Pulse_Categories']\n",
    "Patients_PulseCategories = df['Pulse_Categories'] .value_counts()\n",
    "Patients_PulseCategories\n",
    "Brachycardia=Patients_PulseCategories.iloc[1]\n",
    "f\"The count of patients who have Brachycardia is {Brachycardia}\""
   ]
  },
  {
   "cell_type": "markdown",
   "id": "57bb5e1e",
   "metadata": {},
   "source": [
    "# Q79.Create a Funnel chart of BMI Category(Normal Weight, Underweight and Obese)"
   ]
  },
  {
   "cell_type": "code",
   "execution_count": 126,
   "id": "945f896b",
   "metadata": {},
   "outputs": [
    {
     "data": {
      "text/plain": [
       "0       Normal Weight\n",
       "1       Normal Weight\n",
       "2       Normal Weight\n",
       "3       Normal Weight\n",
       "4               obese\n",
       "            ...      \n",
       "2003      underweight\n",
       "2004    Normal Weight\n",
       "2005       overweight\n",
       "2006      underweight\n",
       "2007    Normal Weight\n",
       "Name: BMI_categories, Length: 2008, dtype: category\n",
       "Categories (4, object): ['underweight' < 'Normal Weight' < 'overweight' < 'obese']"
      ]
     },
     "execution_count": 126,
     "metadata": {},
     "output_type": "execute_result"
    }
   ],
   "source": [
    "bins = [-np.inf, 18.5, 25, 30, np.inf]\n",
    "labels = ['underweight','Normal Weight','overweight','obese']\n",
    "df['BMI_categories'] = pd.cut(df_Demography['BMI'], bins=bins, labels=labels)\n",
    "df['BMI_categories']"
   ]
  },
  {
   "cell_type": "code",
   "execution_count": 131,
   "id": "82b1850a",
   "metadata": {},
   "outputs": [
    {
     "data": {
      "text/plain": [
       "0       Normal Weight\n",
       "1       Normal Weight\n",
       "2       Normal Weight\n",
       "3       Normal Weight\n",
       "4               Obese\n",
       "            ...      \n",
       "2003      Underweight\n",
       "2004    Normal Weight\n",
       "2005       Overweight\n",
       "2006      Underweight\n",
       "2007    Normal Weight\n",
       "Name: BMI_categories, Length: 2008, dtype: object"
      ]
     },
     "execution_count": 131,
     "metadata": {},
     "output_type": "execute_result"
    }
   ],
   "source": [
    "BMI_Range = [df_Demography['BMI'] < 18.5,df_Demography['BMI'] < 25,df_Demography['BMI'] < 30,df_Demography['BMI'] >= 30]\n",
    "BMI_Categories = ['Underweight', 'Normal Weight', 'Overweight', 'Obese']\n",
    "df['BMI_categories'] = np.select(BMI_Range,BMI_Categories)\n",
    "df['BMI_categories']"
   ]
  },
  {
   "cell_type": "code",
   "execution_count": 142,
   "id": "14aacfc9",
   "metadata": {},
   "outputs": [
    {
     "data": {
      "image/png": "[encoded data removed]",
      "text/plain": [
       "<Figure size 800x600 with 1 Axes>"
      ]
     },
     "metadata": {},
     "output_type": "display_data"
    }
   ],
   "source": [
    "import matplotlib.pyplot as plt\n",
    "plt.figure(figsize=(8,6))\n",
    "plt.barh(df['BMI_categories'].index,df['BMI_categories'].values, color=['green','red','blue','brown'])\n",
    "plt.xlabel('Count')\n",
    "plt.ylabel('BMI Category')\n",
    "plt.title('BMI Category Funnel Chart')\n",
    "plt.show()"
   ]
  },
  {
   "cell_type": "markdown",
   "id": "b3acd711",
   "metadata": {},
   "source": [
    "# Q80.Delete the column age from Q26 iteratively."
   ]
  },
  {
   "cell_type": "code",
   "execution_count": null,
   "id": "a5bd87d0",
   "metadata": {},
   "outputs": [],
   "source": []
  }
 ],
 "metadata": {
  "kernelspec": {
   "display_name": "Python 3 (ipykernel)",
   "language": "python",
   "name": "python3"
  },
  "language_info": {
   "codemirror_mode": {
    "name": "ipython",
    "version": 3
   },
   "file_extension": ".py",
   "mimetype": "text/x-python",
   "name": "python",
   "nbconvert_exporter": "python",
   "pygments_lexer": "ipython3",
   "version": "3.11.5"
  }
 },
 "nbformat": 4,
 "nbformat_minor": 5
}
