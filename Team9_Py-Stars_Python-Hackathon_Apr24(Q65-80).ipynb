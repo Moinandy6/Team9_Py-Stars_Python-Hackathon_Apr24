{
 "cells": [
  {
   "cell_type": "code",
   "execution_count": 4,
   "id": "42f2e4d7",
   "metadata": {},
   "outputs": [],
   "source": [
    "import pandas as pd\n",
    "import numpy as np\n",
    "\n"
   ]
  },
  {
   "cell_type": "code",
   "execution_count": 182,
   "id": "e649c4b6",
   "metadata": {},
   "outputs": [],
   "source": [
    "df_Hospitalization_Discharge = pd.read_excel(\"Cardiac_Outcomes.xlsx\",\"Hospitalization_Discharge\")\n",
    "df_Demography=pd.read_excel(\"Cardiac_Outcomes.xlsx\",\"Demography\")\n",
    "df_Patient_Precriptions=pd.read_excel(\"Cardiac_Outcomes.xlsx\",\"Patient_Precriptions\")\n",
    "df_CardiacComplications=pd.read_excel(\"Cardiac_Outcomes.xlsx\",\"CardiacComplications\")"
   ]
  },
  {
   "cell_type": "markdown",
   "id": "1c0781a4",
   "metadata": {},
   "source": [
    "# Q65.Which Admission Ward has maximum number of visits scheduled"
   ]
  },
  {
   "cell_type": "code",
   "execution_count": 159,
   "id": "067a8f95",
   "metadata": {
    "scrolled": true
   },
   "outputs": [
    {
     "data": {
      "text/plain": [
       "admission_ward\n",
       "Cardiology    1225\n",
       "Name: visit_times, dtype: int64"
      ]
     },
     "execution_count": 159,
     "metadata": {},
     "output_type": "execute_result"
    }
   ],
   "source": [
    "Visit_countMax = df_Hospitalization_Discharge.groupby(by=\"admission_ward\")[\"visit_times\"].idxmax()\n",
    "Visit_countMax\n",
    "Visit_countMax.head(1)\n"
   ]
  },
  {
   "cell_type": "markdown",
   "id": "d51d5272",
   "metadata": {},
   "source": [
    "# Q66.Display total count of patients in each discharge_department based on gender"
   ]
  },
  {
   "cell_type": "code",
   "execution_count": 164,
   "id": "9243e4ad",
   "metadata": {},
   "outputs": [
    {
     "data": {
      "text/html": [
       "<div>\n",
       "<style scoped>\n",
       "    .dataframe tbody tr th:only-of-type {\n",
       "        vertical-align: middle;\n",
       "    }\n",
       "\n",
       "    .dataframe tbody tr th {\n",
       "        vertical-align: top;\n",
       "    }\n",
       "\n",
       "    .dataframe thead th {\n",
       "        text-align: right;\n",
       "    }\n",
       "</style>\n",
       "<table border=\"1\" class=\"dataframe\">\n",
       "  <thead>\n",
       "    <tr style=\"text-align: right;\">\n",
       "      <th>gender</th>\n",
       "    </tr>\n",
       "    <tr>\n",
       "      <th>discharge_department</th>\n",
       "    </tr>\n",
       "  </thead>\n",
       "  <tbody>\n",
       "  </tbody>\n",
       "</table>\n",
       "</div>"
      ],
      "text/plain": [
       "Empty DataFrame\n",
       "Columns: []\n",
       "Index: []"
      ]
     },
     "execution_count": 164,
     "metadata": {},
     "output_type": "execute_result"
    }
   ],
   "source": [
    "merged_df = pd.concat([df_Demography, df_Hospitalization_Discharge])\n",
    "grouped_df = merged_df.groupby(['discharge_department','gender']).size().unstack()\n",
    "grouped_df"
   ]
  },
  {
   "cell_type": "markdown",
   "id": "dcb99ac4",
   "metadata": {},
   "source": [
    "# Q67.How many Unique patients were precribed each type of medication?"
   ]
  },
  {
   "cell_type": "code",
   "execution_count": 106,
   "id": "8b84ecd3",
   "metadata": {},
   "outputs": [
    {
     "data": {
      "text/plain": [
       "Drug_name\n",
       "Aspirin enteric-coated tablet                        958\n",
       "Atorvastatin calcium tablet                          822\n",
       "Benazepril hydrochloride tablet                      434\n",
       "Clopidogrel Hydrogen Sulphate tablet                 401\n",
       "Deslanoside injection                               1017\n",
       "Digoxin tablet                                       999\n",
       "Dobutamine hydrochloride injection                    22\n",
       "Enoxaparin Sodium injection                          113\n",
       "Furosemide injection                                1720\n",
       "Furosemide tablet                                   1641\n",
       "Heparin Sodium injection                             153\n",
       "Hydrochlorothiazide tablet                           283\n",
       "Isoprenaline Hydrochloride injection                  30\n",
       "Isosorbide Mononitrate Sustained Release tablet      326\n",
       "Meglumine Adenosine Cyclophosphate for injection    1115\n",
       "Metoprolol Succinate Sustained-release tablet        523\n",
       "Milrinone injection                                  709\n",
       "Nitroglycerin injection                              203\n",
       "Shenfu injection                                     338\n",
       "Spironolactone tablet                               1833\n",
       "Torasemide tablet                                    252\n",
       "Valsartan Dispersible tablet                         348\n",
       "metoprolol tartrate injection                        307\n",
       "sulfotanshinone sodium injection                     570\n",
       "warfarin sodium tablet                               253\n",
       "Name: inpatient_number, dtype: int64"
      ]
     },
     "execution_count": 106,
     "metadata": {},
     "output_type": "execute_result"
    }
   ],
   "source": [
    "Unique_patients_Per_Medication = df_Patient_Precriptions.groupby('Drug_name')['inpatient_number'].nunique()\n",
    "Unique_patients_Per_Medication"
   ]
  },
  {
   "cell_type": "markdown",
   "id": "d27d5552",
   "metadata": {},
   "source": [
    "# Q68.Find 5 patients with the highest Discharge days greater than 20. List their most common outcome"
   ]
  },
  {
   "cell_type": "code",
   "execution_count": 111,
   "id": "6914a8c9",
   "metadata": {},
   "outputs": [
    {
     "data": {
      "text/html": [
       "<div>\n",
       "<style scoped>\n",
       "    .dataframe tbody tr th:only-of-type {\n",
       "        vertical-align: middle;\n",
       "    }\n",
       "\n",
       "    .dataframe tbody tr th {\n",
       "        vertical-align: top;\n",
       "    }\n",
       "\n",
       "    .dataframe thead th {\n",
       "        text-align: right;\n",
       "    }\n",
       "</style>\n",
       "<table border=\"1\" class=\"dataframe\">\n",
       "  <thead>\n",
       "    <tr style=\"text-align: right;\">\n",
       "      <th></th>\n",
       "      <th>inpatient_number</th>\n",
       "      <th>dischargeDay</th>\n",
       "      <th>outcome_during_hospitalization</th>\n",
       "    </tr>\n",
       "  </thead>\n",
       "  <tbody>\n",
       "    <tr>\n",
       "      <th>884</th>\n",
       "      <td>794077</td>\n",
       "      <td>123</td>\n",
       "      <td>Alive</td>\n",
       "    </tr>\n",
       "    <tr>\n",
       "      <th>1613</th>\n",
       "      <td>768711</td>\n",
       "      <td>118</td>\n",
       "      <td>Alive</td>\n",
       "    </tr>\n",
       "    <tr>\n",
       "      <th>1548</th>\n",
       "      <td>791880</td>\n",
       "      <td>88</td>\n",
       "      <td>Alive</td>\n",
       "    </tr>\n",
       "    <tr>\n",
       "      <th>1573</th>\n",
       "      <td>794784</td>\n",
       "      <td>82</td>\n",
       "      <td>Alive</td>\n",
       "    </tr>\n",
       "    <tr>\n",
       "      <th>1513</th>\n",
       "      <td>757711</td>\n",
       "      <td>76</td>\n",
       "      <td>Alive</td>\n",
       "    </tr>\n",
       "  </tbody>\n",
       "</table>\n",
       "</div>"
      ],
      "text/plain": [
       "      inpatient_number  dischargeDay outcome_during_hospitalization\n",
       "884             794077           123                          Alive\n",
       "1613            768711           118                          Alive\n",
       "1548            791880            88                          Alive\n",
       "1573            794784            82                          Alive\n",
       "1513            757711            76                          Alive"
      ]
     },
     "execution_count": 111,
     "metadata": {},
     "output_type": "execute_result"
    }
   ],
   "source": [
    "Filtered_patients = df_Hospitalization_Discharge[df_Hospitalization_Discharge['dischargeDay'] > 20]\n",
    "#Filtered_patients\n",
    "#selected_columns = df_Hospitalization_Discharge.loc[:, ['inpatient_number', 'dischargeDay', 'outcome_during_hospitalization']]\n",
    "#selected_columns\n",
    "Top_5_patients = Filtered_patients.nlargest(5, 'dischargeDay')\n",
    "Top_5_patients\n",
    "selected_columns=Top_5_patients.loc[:, ['inpatient_number', 'dischargeDay', 'outcome_during_hospitalization']]\n",
    "selected_columns"
   ]
  },
  {
   "cell_type": "markdown",
   "id": "38e21692",
   "metadata": {},
   "source": [
    "# Q69.Get the list of patient ID's which are not there in prescriptions but in demographics"
   ]
  },
  {
   "cell_type": "code",
   "execution_count": 112,
   "id": "f5c17164",
   "metadata": {},
   "outputs": [
    {
     "data": {
      "text/plain": [
       "[789308]"
      ]
     },
     "execution_count": 112,
     "metadata": {},
     "output_type": "execute_result"
    }
   ],
   "source": [
    "Demographics_IDs = set(df_Demography['inpatient_number'])\n",
    "Prescriptions_IDs = set(df_Patient_Precriptions['inpatient_number'])\n",
    "Missing_IDs = Demographics_IDs - Prescriptions_IDs\n",
    "Missing_IDs_List = list(Missing_IDs)\n",
    "Missing_IDs_List"
   ]
  },
  {
   "cell_type": "markdown",
   "id": "e79d2acc",
   "metadata": {},
   "source": [
    "# Q70.On average, what is the most frequent weekday of admission?"
   ]
  },
  {
   "cell_type": "code",
   "execution_count": 121,
   "id": "d0f362a2",
   "metadata": {},
   "outputs": [
    {
     "data": {
      "text/plain": [
       "'On average, the most frequent weekday of admission is Monday'"
      ]
     },
     "execution_count": 121,
     "metadata": {},
     "output_type": "execute_result"
    }
   ],
   "source": [
    "df_Hospitalization_Discharge['weekday'] = pd.to_datetime(df_Hospitalization_Discharge['Admission_date']).dt.dayofweek\n",
    "Weekday_count = df_Hospitalization_Discharge['weekday'].value_counts()\n",
    "Most_Frequent_Weekday = Weekday_count.index[0]\n",
    "Weekday_Names = ['Monday', 'Tuesday', 'Wednesday', 'Thursday', 'Friday', 'Saturday', 'Sunday']\n",
    "Most_Frequent_Weekday_Name = Weekday_Names[Most_Frequent_Weekday]\n",
    "f\"On average, the most frequent weekday of admission is {Most_Frequent_Weekday_Name}\""
   ]
  },
  {
   "cell_type": "markdown",
   "id": "c6663101",
   "metadata": {},
   "source": [
    "# Q71.Which year had the maximum admissions"
   ]
  },
  {
   "cell_type": "code",
   "execution_count": 132,
   "id": "46faf75e",
   "metadata": {},
   "outputs": [
    {
     "data": {
      "text/plain": [
       "'The year with the maximum admissions is 2016'"
      ]
     },
     "execution_count": 132,
     "metadata": {},
     "output_type": "execute_result"
    }
   ],
   "source": [
    "df_Hospitalization_Discharge['year'] = pd.to_datetime(df_Hospitalization_Discharge['Admission_date']).dt.year\n",
    "Max_Admissions_Year = df_Hospitalization_Discharge['year'].value_counts().idxmax()\n",
    "f\"The year with the maximum admissions is {Max_Admissions_Year}\""
   ]
  },
  {
   "cell_type": "markdown",
   "id": "ad694c2f",
   "metadata": {},
   "source": [
    "# Q72.What % of the dataset is male vs female?"
   ]
  },
  {
   "cell_type": "code",
   "execution_count": 141,
   "id": "cc4c8211",
   "metadata": {},
   "outputs": [
    {
     "data": {
      "text/plain": [
       "gender\n",
       "Female    57.918327\n",
       "Male      42.081673\n",
       "Name: count, dtype: float64"
      ]
     },
     "execution_count": 141,
     "metadata": {},
     "output_type": "execute_result"
    }
   ],
   "source": [
    "#Male_count = df_Demography['gender'].value_counts()['Male']\n",
    "#Female_count = df_Demography['gender'].value_counts()['Female']\n",
    "#Male_count\n",
    "#Female_count\n",
    "#Male_percentage = (Male_count / Total_Patients) * 100\n",
    "#Female_percentage = (Female_count / Total_Patients) * 100\n",
    "#Male_percentage\n",
    "#Female_percentage\n",
    "Gender_Count = df_Demography['gender'].value_counts()\n",
    "Gender_Count\n",
    "Total_Patients = len(df_Demography)\n",
    "Gender_Percentage=(Gender_Count / Total_Patients) * 100\n",
    "Gender_Percentage"
   ]
  },
  {
   "cell_type": "markdown",
   "id": "370eec9d",
   "metadata": {},
   "source": [
    "# Q73.Which patient in the youngest age category weighs the most?"
   ]
  },
  {
   "cell_type": "code",
   "execution_count": 155,
   "id": "7297b2f0",
   "metadata": {},
   "outputs": [
    {
     "ename": "TypeError",
     "evalue": "'>=' not supported between instances of 'str' and 'int'",
     "output_type": "error",
     "traceback": [
      "\u001b[1;31m---------------------------------------------------------------------------\u001b[0m",
      "\u001b[1;31mTypeError\u001b[0m                                 Traceback (most recent call last)",
      "Cell \u001b[1;32mIn[155], line 2\u001b[0m\n\u001b[0;32m      1\u001b[0m df_Demography\u001b[38;5;241m=\u001b[39mpd\u001b[38;5;241m.\u001b[39mread_excel(\u001b[38;5;124m\"\u001b[39m\u001b[38;5;124mCardiac_Outcomes.xlsx\u001b[39m\u001b[38;5;124m\"\u001b[39m,\u001b[38;5;124m\"\u001b[39m\u001b[38;5;124mDemography\u001b[39m\u001b[38;5;124m\"\u001b[39m)\n\u001b[1;32m----> 2\u001b[0m Youngest_Patients \u001b[38;5;241m=\u001b[39m df_Demography[(df_Demography[\u001b[38;5;124m'\u001b[39m\u001b[38;5;124mageCat\u001b[39m\u001b[38;5;124m'\u001b[39m] \u001b[38;5;241m>\u001b[39m\u001b[38;5;241m=\u001b[39m \u001b[38;5;241m21\u001b[39m) \u001b[38;5;241m&\u001b[39m (df_Demography[\u001b[38;5;124m'\u001b[39m\u001b[38;5;124mageCat\u001b[39m\u001b[38;5;124m'\u001b[39m] \u001b[38;5;241m<\u001b[39m\u001b[38;5;241m=\u001b[39m \u001b[38;5;241m29\u001b[39m)]\n\u001b[0;32m      3\u001b[0m \u001b[38;5;66;03m#Youngest_Patients\u001b[39;00m\n\u001b[0;32m      4\u001b[0m Youngest_Heaviest_Patient \u001b[38;5;241m=\u001b[39m Youngest_Patients\u001b[38;5;241m.\u001b[39mloc[Youngest_Patients[\u001b[38;5;124m'\u001b[39m\u001b[38;5;124mweight\u001b[39m\u001b[38;5;124m'\u001b[39m]\u001b[38;5;241m.\u001b[39midxmax()]\n",
      "File \u001b[1;32m~\\anaconda3\\Lib\\site-packages\\pandas\\core\\ops\\common.py:81\u001b[0m, in \u001b[0;36m_unpack_zerodim_and_defer.<locals>.new_method\u001b[1;34m(self, other)\u001b[0m\n\u001b[0;32m     77\u001b[0m             \u001b[38;5;28;01mreturn\u001b[39;00m \u001b[38;5;28mNotImplemented\u001b[39m\n\u001b[0;32m     79\u001b[0m other \u001b[38;5;241m=\u001b[39m item_from_zerodim(other)\n\u001b[1;32m---> 81\u001b[0m \u001b[38;5;28;01mreturn\u001b[39;00m method(\u001b[38;5;28mself\u001b[39m, other)\n",
      "File \u001b[1;32m~\\anaconda3\\Lib\\site-packages\\pandas\\core\\arraylike.py:60\u001b[0m, in \u001b[0;36mOpsMixin.__ge__\u001b[1;34m(self, other)\u001b[0m\n\u001b[0;32m     58\u001b[0m \u001b[38;5;129m@unpack_zerodim_and_defer\u001b[39m(\u001b[38;5;124m\"\u001b[39m\u001b[38;5;124m__ge__\u001b[39m\u001b[38;5;124m\"\u001b[39m)\n\u001b[0;32m     59\u001b[0m \u001b[38;5;28;01mdef\u001b[39;00m \u001b[38;5;21m__ge__\u001b[39m(\u001b[38;5;28mself\u001b[39m, other):\n\u001b[1;32m---> 60\u001b[0m     \u001b[38;5;28;01mreturn\u001b[39;00m \u001b[38;5;28mself\u001b[39m\u001b[38;5;241m.\u001b[39m_cmp_method(other, operator\u001b[38;5;241m.\u001b[39mge)\n",
      "File \u001b[1;32m~\\anaconda3\\Lib\\site-packages\\pandas\\core\\series.py:6096\u001b[0m, in \u001b[0;36mSeries._cmp_method\u001b[1;34m(self, other, op)\u001b[0m\n\u001b[0;32m   6093\u001b[0m rvalues \u001b[38;5;241m=\u001b[39m extract_array(other, extract_numpy\u001b[38;5;241m=\u001b[39m\u001b[38;5;28;01mTrue\u001b[39;00m, extract_range\u001b[38;5;241m=\u001b[39m\u001b[38;5;28;01mTrue\u001b[39;00m)\n\u001b[0;32m   6095\u001b[0m \u001b[38;5;28;01mwith\u001b[39;00m np\u001b[38;5;241m.\u001b[39merrstate(\u001b[38;5;28mall\u001b[39m\u001b[38;5;241m=\u001b[39m\u001b[38;5;124m\"\u001b[39m\u001b[38;5;124mignore\u001b[39m\u001b[38;5;124m\"\u001b[39m):\n\u001b[1;32m-> 6096\u001b[0m     res_values \u001b[38;5;241m=\u001b[39m ops\u001b[38;5;241m.\u001b[39mcomparison_op(lvalues, rvalues, op)\n\u001b[0;32m   6098\u001b[0m \u001b[38;5;28;01mreturn\u001b[39;00m \u001b[38;5;28mself\u001b[39m\u001b[38;5;241m.\u001b[39m_construct_result(res_values, name\u001b[38;5;241m=\u001b[39mres_name)\n",
      "File \u001b[1;32m~\\anaconda3\\Lib\\site-packages\\pandas\\core\\ops\\array_ops.py:293\u001b[0m, in \u001b[0;36mcomparison_op\u001b[1;34m(left, right, op)\u001b[0m\n\u001b[0;32m    290\u001b[0m     \u001b[38;5;28;01mreturn\u001b[39;00m invalid_comparison(lvalues, rvalues, op)\n\u001b[0;32m    292\u001b[0m \u001b[38;5;28;01melif\u001b[39;00m is_object_dtype(lvalues\u001b[38;5;241m.\u001b[39mdtype) \u001b[38;5;129;01mor\u001b[39;00m \u001b[38;5;28misinstance\u001b[39m(rvalues, \u001b[38;5;28mstr\u001b[39m):\n\u001b[1;32m--> 293\u001b[0m     res_values \u001b[38;5;241m=\u001b[39m comp_method_OBJECT_ARRAY(op, lvalues, rvalues)\n\u001b[0;32m    295\u001b[0m \u001b[38;5;28;01melse\u001b[39;00m:\n\u001b[0;32m    296\u001b[0m     res_values \u001b[38;5;241m=\u001b[39m _na_arithmetic_op(lvalues, rvalues, op, is_cmp\u001b[38;5;241m=\u001b[39m\u001b[38;5;28;01mTrue\u001b[39;00m)\n",
      "File \u001b[1;32m~\\anaconda3\\Lib\\site-packages\\pandas\\core\\ops\\array_ops.py:82\u001b[0m, in \u001b[0;36mcomp_method_OBJECT_ARRAY\u001b[1;34m(op, x, y)\u001b[0m\n\u001b[0;32m     80\u001b[0m     result \u001b[38;5;241m=\u001b[39m libops\u001b[38;5;241m.\u001b[39mvec_compare(x\u001b[38;5;241m.\u001b[39mravel(), y\u001b[38;5;241m.\u001b[39mravel(), op)\n\u001b[0;32m     81\u001b[0m \u001b[38;5;28;01melse\u001b[39;00m:\n\u001b[1;32m---> 82\u001b[0m     result \u001b[38;5;241m=\u001b[39m libops\u001b[38;5;241m.\u001b[39mscalar_compare(x\u001b[38;5;241m.\u001b[39mravel(), y, op)\n\u001b[0;32m     83\u001b[0m \u001b[38;5;28;01mreturn\u001b[39;00m result\u001b[38;5;241m.\u001b[39mreshape(x\u001b[38;5;241m.\u001b[39mshape)\n",
      "File \u001b[1;32m~\\anaconda3\\Lib\\site-packages\\pandas\\_libs\\ops.pyx:107\u001b[0m, in \u001b[0;36mpandas._libs.ops.scalar_compare\u001b[1;34m()\u001b[0m\n",
      "\u001b[1;31mTypeError\u001b[0m: '>=' not supported between instances of 'str' and 'int'"
     ]
    }
   ],
   "source": [
    "df_Demography=pd.read_excel(\"Cardiac_Outcomes.xlsx\",\"Demography\")\n",
    "Youngest_Patients = df_Demography[(df_Demography['ageCat'] >= 21) & (df_Demography['ageCat'] <= 29)]\n",
    "#Youngest_Patients\n",
    "Youngest_Heaviest_Patient = Youngest_Patients.loc[Youngest_Patients['weight'].idxmax()]\n",
    "Youngest_Heaviest_Patient"
   ]
  },
  {
   "cell_type": "markdown",
   "id": "790e989e",
   "metadata": {},
   "source": [
    "# Q74.Which adm ward had the lowest rate of Outcome Death?"
   ]
  },
  {
   "cell_type": "code",
   "execution_count": 166,
   "id": "264abe9a",
   "metadata": {},
   "outputs": [
    {
     "data": {
      "text/plain": [
       "'GeneralWard'"
      ]
     },
     "execution_count": 166,
     "metadata": {},
     "output_type": "execute_result"
    }
   ],
   "source": [
    "Death_Rate = df_Hospitalization_Discharge.groupby('admission_ward')['outcome_during_hospitalization'].apply(lambda x: (x == 'Dead').sum() / len(x))\n",
    "Lowest_Death_Rate_Outcome = Death_Rate.idxmin()\n",
    "Lowest_Death_Rate_Outcome"
   ]
  },
  {
   "cell_type": "markdown",
   "id": "cf45501d",
   "metadata": {},
   "source": [
    "# Q75.What % of those with an outcome of death, had myocardial infarction?"
   ]
  },
  {
   "cell_type": "code",
   "execution_count": 180,
   "id": "e4cbaa82",
   "metadata": {},
   "outputs": [
    {
     "data": {
      "text/html": [
       "<div>\n",
       "<style scoped>\n",
       "    .dataframe tbody tr th:only-of-type {\n",
       "        vertical-align: middle;\n",
       "    }\n",
       "\n",
       "    .dataframe tbody tr th {\n",
       "        vertical-align: top;\n",
       "    }\n",
       "\n",
       "    .dataframe thead th {\n",
       "        text-align: right;\n",
       "    }\n",
       "</style>\n",
       "<table border=\"1\" class=\"dataframe\">\n",
       "  <thead>\n",
       "    <tr style=\"text-align: right;\">\n",
       "      <th></th>\n",
       "      <th>inpatient_number</th>\n",
       "      <th>outcome_during_hospitalization</th>\n",
       "    </tr>\n",
       "  </thead>\n",
       "  <tbody>\n",
       "    <tr>\n",
       "      <th>89</th>\n",
       "      <td>773090</td>\n",
       "      <td>Dead</td>\n",
       "    </tr>\n",
       "    <tr>\n",
       "      <th>147</th>\n",
       "      <td>863531</td>\n",
       "      <td>Dead</td>\n",
       "    </tr>\n",
       "    <tr>\n",
       "      <th>470</th>\n",
       "      <td>811749</td>\n",
       "      <td>Dead</td>\n",
       "    </tr>\n",
       "    <tr>\n",
       "      <th>483</th>\n",
       "      <td>849274</td>\n",
       "      <td>Dead</td>\n",
       "    </tr>\n",
       "    <tr>\n",
       "      <th>983</th>\n",
       "      <td>869467</td>\n",
       "      <td>Dead</td>\n",
       "    </tr>\n",
       "    <tr>\n",
       "      <th>1058</th>\n",
       "      <td>834443</td>\n",
       "      <td>Dead</td>\n",
       "    </tr>\n",
       "    <tr>\n",
       "      <th>1207</th>\n",
       "      <td>854580</td>\n",
       "      <td>Dead</td>\n",
       "    </tr>\n",
       "    <tr>\n",
       "      <th>1252</th>\n",
       "      <td>765343</td>\n",
       "      <td>Dead</td>\n",
       "    </tr>\n",
       "    <tr>\n",
       "      <th>1391</th>\n",
       "      <td>828678</td>\n",
       "      <td>Dead</td>\n",
       "    </tr>\n",
       "    <tr>\n",
       "      <th>1872</th>\n",
       "      <td>805475</td>\n",
       "      <td>Dead</td>\n",
       "    </tr>\n",
       "    <tr>\n",
       "      <th>1997</th>\n",
       "      <td>750447</td>\n",
       "      <td>Dead</td>\n",
       "    </tr>\n",
       "  </tbody>\n",
       "</table>\n",
       "</div>"
      ],
      "text/plain": [
       "      inpatient_number outcome_during_hospitalization\n",
       "89              773090                           Dead\n",
       "147             863531                           Dead\n",
       "470             811749                           Dead\n",
       "483             849274                           Dead\n",
       "983             869467                           Dead\n",
       "1058            834443                           Dead\n",
       "1207            854580                           Dead\n",
       "1252            765343                           Dead\n",
       "1391            828678                           Dead\n",
       "1872            805475                           Dead\n",
       "1997            750447                           Dead"
      ]
     },
     "execution_count": 180,
     "metadata": {},
     "output_type": "execute_result"
    }
   ],
   "source": [
    "DeathOutcome_count = df_Hospitalization_Discharge[df_Hospitalization_Discharge['outcome_during_hospitalization'] == 'Dead'][['inpatient_number', 'outcome_during_hospitalization']]\n",
    "DeathOutcome_count"
   ]
  },
  {
   "cell_type": "code",
   "execution_count": 183,
   "id": "fee4f3b0",
   "metadata": {},
   "outputs": [
    {
     "data": {
      "text/html": [
       "<div>\n",
       "<style scoped>\n",
       "    .dataframe tbody tr th:only-of-type {\n",
       "        vertical-align: middle;\n",
       "    }\n",
       "\n",
       "    .dataframe tbody tr th {\n",
       "        vertical-align: top;\n",
       "    }\n",
       "\n",
       "    .dataframe thead th {\n",
       "        text-align: right;\n",
       "    }\n",
       "</style>\n",
       "<table border=\"1\" class=\"dataframe\">\n",
       "  <thead>\n",
       "    <tr style=\"text-align: right;\">\n",
       "      <th></th>\n",
       "      <th>inpatient_number</th>\n",
       "      <th>myocardial_infarction</th>\n",
       "    </tr>\n",
       "  </thead>\n",
       "  <tbody>\n",
       "  </tbody>\n",
       "</table>\n",
       "</div>"
      ],
      "text/plain": [
       "Empty DataFrame\n",
       "Columns: [inpatient_number, myocardial_infarction]\n",
       "Index: []"
      ]
     },
     "execution_count": 183,
     "metadata": {},
     "output_type": "execute_result"
    }
   ],
   "source": [
    "MI_count = df_CardiacComplications[df_CardiacComplications['myocardial_infarction'] == '1'][['inpatient_number', 'myocardial_infarction']]\n",
    "MI_count"
   ]
  },
  {
   "cell_type": "code",
   "execution_count": null,
   "id": "b2bed618",
   "metadata": {},
   "outputs": [],
   "source": []
  }
 ],
 "metadata": {
  "kernelspec": {
   "display_name": "Python 3 (ipykernel)",
   "language": "python",
   "name": "python3"
  },
  "language_info": {
   "codemirror_mode": {
    "name": "ipython",
    "version": 3
   },
   "file_extension": ".py",
   "mimetype": "text/x-python",
   "name": "python",
   "nbconvert_exporter": "python",
   "pygments_lexer": "ipython3",
   "version": "3.11.5"
  }
 },
 "nbformat": 4,
 "nbformat_minor": 5
}
